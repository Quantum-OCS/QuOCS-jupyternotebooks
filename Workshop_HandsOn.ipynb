{
 "cells": [
  {
   "cell_type": "code",
   "execution_count": 1,
   "id": "b2516e9f",
   "metadata": {
    "pycharm": {
     "name": "#%%\n"
    }
   },
   "outputs": [],
   "source": [
    "# ++++++++++++++++++++++++++++++++++++++++++++++++++++++++++++++++++++++++++++++++++++++++\n",
    "#  Copyright 2021-  QuOCS Team\n",
    "#\n",
    "#  Licensed under the Apache License, Version 2.0 (the \"License\");\n",
    "#  you may not use this file except in compliance with the License.\n",
    "#  You may obtain a copy of the License at\n",
    "#\n",
    "#      http://www.apache.org/licenses/LICENSE-2.0\n",
    "#\n",
    "#  Unless required by applicable law or agreed to in writing, software\n",
    "#  distributed under the License is distributed on an \"AS IS\" BASIS,\n",
    "#  WITHOUT WARRANTIES OR CONDITIONS OF ANY KIND, either express or implied.\n",
    "#  See the License for the specific language governing permissions and\n",
    "#  limitations under the License.\n",
    "# ++++++++++++++++++++++++++++++++++++++++++++++++++++++++++++++++++++++++++++++++++++++++"
   ]
  },
  {
   "cell_type": "code",
   "execution_count": 2,
   "id": "54ea90a8",
   "metadata": {
    "pycharm": {
     "name": "#%%\n"
    }
   },
   "outputs": [],
   "source": [
    "import matplotlib.pyplot as plt\n",
    "import os"
   ]
  },
  {
   "cell_type": "markdown",
   "id": "dc084c47",
   "metadata": {
    "pycharm": {
     "name": "#%% md\n"
    }
   },
   "source": [
    "# Ising model optimization"
   ]
  },
  {
   "cell_type": "markdown",
   "id": "204bf1d0",
   "metadata": {
    "pycharm": {
     "name": "#%% md\n"
    }
   },
   "source": [
    "### The model"
   ]
  },
  {
   "cell_type": "markdown",
   "id": "24685c1e",
   "metadata": {
    "pycharm": {
     "name": "#%% md\n"
    }
   },
   "source": [
    "Description"
   ]
  },
  {
   "cell_type": "markdown",
   "id": "e57d72d1",
   "metadata": {
    "pycharm": {
     "name": "#%% md\n"
    }
   },
   "source": [
    "$H(t) = - J \\sum_j \\sigma_j^z \\sigma_{j+1}^z \\; - g \\sum_j \\sigma_j^z \\sigma_{j+2}^z \\; + u(t) \\sum_j \\sigma_j^x \\;$"
   ]
  },
  {
   "cell_type": "markdown",
   "id": "37b36787",
   "metadata": {
    "pycharm": {
     "name": "#%% md\n"
    }
   },
   "source": [
    "## dCRAB Optimization"
   ]
  },
  {
   "cell_type": "markdown",
   "id": "44d9d3ff",
   "metadata": {
    "pycharm": {
     "name": "#%% md\n"
    }
   },
   "source": [
    "### Define the Model"
   ]
  },
  {
   "cell_type": "code",
   "execution_count": 3,
   "id": "ba21c733",
   "metadata": {
    "pycharm": {
     "name": "#%%\n"
    }
   },
   "outputs": [],
   "source": [
    "import numpy as np\n",
    "from quocslib.optimalcontrolproblems.su2 import *\n",
    "from quocslib.utils.AbstractFoM import AbstractFoM\n",
    "from quocslib.timeevolution.piecewise_integrator import pw_evolution\n",
    "import functools\n",
    "\n",
    "\n",
    "class IsingModel(AbstractFoM):\n",
    "    \"\"\"A figure of merit class for optimization of the problem defined by Alastair Marshall via\n",
    "    https://arxiv.org/abs/2110.06187\"\"\"\n",
    "    def __init__(self, args_dict: dict = None):\n",
    "        if args_dict is None:\n",
    "            args_dict = {}\n",
    "\n",
    "        ################################################################################################################\n",
    "        # Dynamics variables\n",
    "        ################################################################################################################\n",
    "        self.n_qubits = args_dict.setdefault(\"n_qubits\", 5)\n",
    "        self.J = args_dict.setdefault(\"J\", 1)\n",
    "        self.g = args_dict.setdefault(\"g\", 2)\n",
    "        self.n_slices = args_dict.setdefault(\"n_slices\", 100)\n",
    "\n",
    "        self.H_drift = get_static_hamiltonian(self.n_qubits, self.J, self.g)\n",
    "        self.H_control = get_control_hamiltonian(self.n_qubits)\n",
    "        self.rho_0 = get_initial_state(self.n_qubits)\n",
    "        self.rho_target = get_target_state(self.n_qubits)\n",
    "        self.rho_final = np.zeros_like(self.rho_target)\n",
    "        # allocate memory for the list containing the propagators\n",
    "        self.prop_store = [np.zeros_like(self.H_drift) for _ in range(self.n_slices)]\n",
    "        # Check if the propagators are already computed\n",
    "        self.propagators_are_computed = False\n",
    "\n",
    "    def get_control_Hamiltonians(self):\n",
    "        return self.H_control\n",
    "\n",
    "    def get_drift_Hamiltonian(self):\n",
    "        return self.H_drift\n",
    "\n",
    "    def get_target_state(self):\n",
    "        return self.rho_target\n",
    "\n",
    "    def get_initial_state(self):\n",
    "        return self.rho_0\n",
    "\n",
    "    def get_propagator(\n",
    "        self,\n",
    "        pulses_list: list = [],\n",
    "        time_grids_list: list = [],\n",
    "        parameters_list: list = [],\n",
    "    ) -> np.array:\n",
    "        \"\"\" Compute and return the list of propagators \"\"\"\n",
    "        drive = pulses_list[0].reshape(1, len(pulses_list[0]))\n",
    "        n_slices = self.n_slices\n",
    "        time_grid = time_grids_list[0]\n",
    "        # dt = time_grid[1] - time_grid[0]\n",
    "        dt = time_grid[-1] / len(time_grid)\n",
    "        # Compute the time evolution\n",
    "        self.prop_store = pw_evolution(self.prop_store, drive, self.H_drift, [self.H_control], n_slices, dt)\n",
    "        self.propagators_are_computed = True\n",
    "        return self.prop_store\n",
    "\n",
    "    def get_FoM(self, pulses: list = [], parameters: list = [], timegrids: list = []) -> dict:\n",
    "        \"\"\" \"\"\"\n",
    "        # Check if the propagator list is computed before compute the final propagator\n",
    "        if not self.propagators_are_computed:\n",
    "            self.get_propagator(pulses_list=pulses, time_grids_list=timegrids, parameters_list=parameters)\n",
    "        self.propagators_are_computed = False\n",
    "        # Compute the final propagator\n",
    "        U_final = functools.reduce(lambda a, b: a @ b, self.prop_store)\n",
    "        # evolve initial state\n",
    "        rho_final = U_final @ self.rho_0 @ U_final.T.conj()\n",
    "        # Calculate the fidelity\n",
    "        fidelity = fidelity_funct(rho_final.T, self.rho_target)\n",
    "        return {\"FoM\": -fidelity}\n"
   ]
  },
  {
   "cell_type": "markdown",
   "id": "c4c2581a",
   "metadata": {
    "pycharm": {
     "name": "#%% md\n"
    }
   },
   "source": [
    "### Define the Configuration dictionary"
   ]
  },
  {
   "cell_type": "markdown",
   "id": "2041d5b0",
   "metadata": {
    "pycharm": {
     "name": "#%% md\n"
    }
   },
   "source": [
    "#### Name"
   ]
  },
  {
   "cell_type": "code",
   "execution_count": 4,
   "id": "6d4fb70b",
   "metadata": {
    "pycharm": {
     "name": "#%%\n"
    }
   },
   "outputs": [],
   "source": [
    "optimization_dictionary = {\"optimization_client_name\": \"IsingModeldCRAB\"}"
   ]
  },
  {
   "cell_type": "markdown",
   "id": "ea8b5b6c",
   "metadata": {
    "pycharm": {
     "name": "#%% md\n"
    }
   },
   "source": [
    "#### The algorithm"
   ]
  },
  {
   "cell_type": "markdown",
   "id": "909d2b47",
   "metadata": {
    "pycharm": {
     "name": "#%% md\n"
    }
   },
   "source": [
    "The name"
   ]
  },
  {
   "cell_type": "code",
   "execution_count": 5,
   "id": "efa386db",
   "metadata": {
    "pycharm": {
     "name": "#%%\n"
    }
   },
   "outputs": [],
   "source": [
    "optimization_dictionary[\"algorithm_settings\"] = { \"algorithm_name\": \"dCRAB\"}"
   ]
  },
  {
   "cell_type": "markdown",
   "id": "dc75bc7d",
   "metadata": {
    "pycharm": {
     "name": "#%% md\n"
    }
   },
   "source": [
    "Settings for dCRAB: The super-iterations number and iterations"
   ]
  },
  {
   "cell_type": "code",
   "execution_count": 6,
   "id": "db042f0b",
   "metadata": {
    "pycharm": {
     "name": "#%%\n"
    }
   },
   "outputs": [],
   "source": [
    "optimization_dictionary[\"algorithm_settings\"][\"super_iteration_number\"]= 3 \n",
    "optimization_dictionary[\"algorithm_settings\"][\"max_eval_total\"]= 800"
   ]
  },
  {
   "cell_type": "markdown",
   "id": "3dcc1e87",
   "metadata": {
    "pycharm": {
     "name": "#%% md\n"
    }
   },
   "source": [
    "#### Updating algorithm and Stopping criteria"
   ]
  },
  {
   "cell_type": "code",
   "execution_count": 7,
   "id": "3011531a",
   "metadata": {
    "pycharm": {
     "name": "#%%\n"
    }
   },
   "outputs": [],
   "source": [
    "dsm_settings = {\n",
    "        \"general_settings\": {\n",
    "            \"dsm_algorithm_name\": \"NelderMead\",\n",
    "            \"is_adaptive\": False\n",
    "        },\n",
    "        \"stopping_criteria\": {\n",
    "            \"xatol\": 1e-2,\n",
    "            \"frtol\": 1e-2\n",
    "        }\n",
    "    }"
   ]
  },
  {
   "cell_type": "code",
   "execution_count": 8,
   "id": "bab81cb5",
   "metadata": {
    "pycharm": {
     "name": "#%%\n"
    }
   },
   "outputs": [],
   "source": [
    "optimization_dictionary[\"algorithm_settings\"][\"dsm_settings\"] = dsm_settings"
   ]
  },
  {
   "cell_type": "markdown",
   "id": "e0f6eb7a",
   "metadata": {
    "pycharm": {
     "name": "#%% md\n"
    }
   },
   "source": [
    "#### The Controls"
   ]
  },
  {
   "cell_type": "code",
   "execution_count": 9,
   "id": "59677db5",
   "metadata": {
    "pycharm": {
     "name": "#%%\n"
    }
   },
   "outputs": [],
   "source": [
    "pulse_x = { \"pulse_name\": \"Pulse_1\",\n",
    "            \"upper_limit\": 100.0,\n",
    "            \"lower_limit\": -100.0,\n",
    "            \"bins_number\": 100,\n",
    "            \"amplitude_variation\": 30.0,\n",
    "            \"time_name\": \"time_1\"\n",
    "            }"
   ]
  },
  {
   "cell_type": "markdown",
   "id": "f3194140",
   "metadata": {
    "pycharm": {
     "name": "#%% md\n"
    }
   },
   "source": [
    "#### Initial guess"
   ]
  },
  {
   "cell_type": "code",
   "execution_count": 10,
   "id": "bb2a100d",
   "metadata": {
    "pycharm": {
     "name": "#%%\n"
    }
   },
   "outputs": [],
   "source": [
    "pulse_x[\"initial_guess\"] = {\n",
    "                \"function_type\": \"lambda_function\",\n",
    "                \"lambda_function\": \"lambda t: 0.0 + 0.0*t\"\n",
    "            }"
   ]
  },
  {
   "cell_type": "markdown",
   "id": "f687f39e",
   "metadata": {
    "pycharm": {
     "name": "#%% md\n"
    }
   },
   "source": [
    "#### Scaling Function\n"
   ]
  },
  {
   "cell_type": "code",
   "execution_count": 11,
   "id": "cd97cecf",
   "metadata": {
    "pycharm": {
     "name": "#%%\n"
    }
   },
   "outputs": [],
   "source": [
    "pulse_x[\"scaling_function\"] = {\n",
    "                \"function_type\": \"lambda_function\",\n",
    "                \"lambda_function\": \"lambda t: 1.0 + 0.0*t\"\n",
    "            }"
   ]
  },
  {
   "cell_type": "markdown",
   "id": "22991ede",
   "metadata": {
    "pycharm": {
     "name": "#%% md\n"
    }
   },
   "source": [
    "### The basis"
   ]
  },
  {
   "cell_type": "code",
   "execution_count": 12,
   "id": "ac9a4550",
   "metadata": {
    "pycharm": {
     "name": "#%%\n"
    }
   },
   "outputs": [],
   "source": [
    "pulse_x[\"basis\"] = {\n",
    "                \"basis_name\": \"Fourier\",\n",
    "                \"basis_vector_number\": 5,\n",
    "                \"random_super_parameter_distribution\": {\n",
    "                    \"distribution_name\": \"Uniform\",\n",
    "                    \"lower_limit\": 0.01,\n",
    "                    \"upper_limit\": 5.0\n",
    "                }\n",
    "            }"
   ]
  },
  {
   "cell_type": "markdown",
   "id": "178d5523",
   "metadata": {
    "pycharm": {
     "name": "#%% md\n"
    }
   },
   "source": [
    "#### The times"
   ]
  },
  {
   "cell_type": "code",
   "execution_count": 13,
   "id": "62d726ba",
   "metadata": {
    "pycharm": {
     "name": "#%%\n"
    }
   },
   "outputs": [],
   "source": [
    "pulse_x[\"time_name\"] = \"time1\""
   ]
  },
  {
   "cell_type": "code",
   "execution_count": 14,
   "id": "0160107f",
   "metadata": {
    "pycharm": {
     "name": "#%%\n"
    }
   },
   "outputs": [],
   "source": [
    "time1 = {\"time_name\": \"time1\",\n",
    "        \"initial_value\": 1.0 }"
   ]
  },
  {
   "cell_type": "markdown",
   "id": "ce6e1ff4",
   "metadata": {
    "pycharm": {
     "name": "#%% md\n"
    }
   },
   "source": [
    "Insert the controls in the optimization dictionary"
   ]
  },
  {
   "cell_type": "code",
   "execution_count": 15,
   "id": "774af28b",
   "metadata": {
    "pycharm": {
     "name": "#%%\n"
    }
   },
   "outputs": [],
   "source": [
    "optimization_dictionary[\"pulses\"] = [pulse_x]\n",
    "optimization_dictionary[\"parameters\"] = []\n",
    "optimization_dictionary[\"times\"] = [time1]"
   ]
  },
  {
   "cell_type": "markdown",
   "id": "4b404a38",
   "metadata": {
    "pycharm": {
     "name": "#%% md\n"
    }
   },
   "source": [
    "### Create the optimizer and run the optimization"
   ]
  },
  {
   "cell_type": "code",
   "execution_count": 16,
   "id": "b6ae47d2",
   "metadata": {
    "pycharm": {
     "name": "#%%\n"
    }
   },
   "outputs": [
    {
     "name": "stdout",
     "output_type": "stream",
     "text": [
      "INFO     oc_logger    The optimization direction is minimization\n",
      "The optimization initialized successfully\n"
     ]
    }
   ],
   "source": [
    "from quocslib.Optimizer import Optimizer\n",
    "import time\n",
    "# Define Optimizer\n",
    "optimization_obj = Optimizer(optimization_dictionary, IsingModel())\n",
    "print(\"The optimization initialized successfully\")"
   ]
  },
  {
   "cell_type": "code",
   "execution_count": 17,
   "id": "c3514c85",
   "metadata": {
    "pycharm": {
     "name": "#%%\n"
    }
   },
   "outputs": [
    {
     "name": "stdout",
     "output_type": "stream",
     "text": [
      "INFO     oc_logger    QuOCS version number: 0.0.27\n",
      "INFO     oc_logger    Direct search start time has been reset.\n",
      "INFO     oc_logger    New record achieved. Previous FoM: 10000000000.0, new best FoM : -0.0\n",
      "INFO     oc_logger    Function evaluation number: 1, SI: 1, Sub-iteration number: 0, FoM: -0.0\n",
      "INFO     oc_logger    New record achieved. Previous FoM: -0.0, new best FoM : -0.0437573648041992\n",
      "INFO     oc_logger    Function evaluation number: 2, SI: 1, Sub-iteration number: 0, FoM: -0.0437573648041992\n",
      "INFO     oc_logger    New record achieved. Previous FoM: -0.0437573648041992, new best FoM : -0.1827519726174643\n",
      "INFO     oc_logger    Function evaluation number: 3, SI: 1, Sub-iteration number: 0, FoM: -0.1827519726174643\n",
      "INFO     oc_logger    New record achieved. Previous FoM: -0.1827519726174643, new best FoM : -0.3778924083992416\n",
      "INFO     oc_logger    Function evaluation number: 4, SI: 1, Sub-iteration number: 0, FoM: -0.3778924083992416\n",
      "INFO     oc_logger    Function evaluation number: 5, SI: 1, Sub-iteration number: 0, FoM: -0.007843620500750357\n",
      "INFO     oc_logger    Function evaluation number: 6, SI: 1, Sub-iteration number: 0, FoM: -0.0060284789725538876\n",
      "INFO     oc_logger    Function evaluation number: 7, SI: 1, Sub-iteration number: 0, FoM: -0.16529858511092665\n",
      "INFO     oc_logger    Function evaluation number: 8, SI: 1, Sub-iteration number: 0, FoM: -0.058995290102117875\n",
      "INFO     oc_logger    Function evaluation number: 9, SI: 1, Sub-iteration number: 0, FoM: -0.00011291536189214193\n",
      "INFO     oc_logger    Function evaluation number: 10, SI: 1, Sub-iteration number: 0, FoM: -0.0017115038140740435\n",
      "INFO     oc_logger    Function evaluation number: 11, SI: 1, Sub-iteration number: 0, FoM: -0.021272210199698084\n",
      "INFO     oc_logger    Function evaluation number: 12, SI: 1, Sub-iteration number: 1, FoM: -0.1945437005314232\n",
      "INFO     oc_logger    Function evaluation number: 13, SI: 1, Sub-iteration number: 2, FoM: -0.011538725009891873\n",
      "INFO     oc_logger    Function evaluation number: 14, SI: 1, Sub-iteration number: 3, FoM: -0.020282855333905277\n",
      "INFO     oc_logger    Function evaluation number: 15, SI: 1, Sub-iteration number: 4, FoM: -0.002999073072401468\n",
      "INFO     oc_logger    New record achieved. Previous FoM: -0.3778924083992416, new best FoM : -0.5695812229751572\n",
      "INFO     oc_logger    Function evaluation number: 16, SI: 1, Sub-iteration number: 4, FoM: -0.5695812229751572\n",
      "INFO     oc_logger    Function evaluation number: 17, SI: 1, Sub-iteration number: 5, FoM: -0.0009103990188087242\n",
      "INFO     oc_logger    Function evaluation number: 18, SI: 1, Sub-iteration number: 5, FoM: -0.0014455217047907492\n",
      "INFO     oc_logger    New record achieved. Previous FoM: -0.5695812229751572, new best FoM : -0.6772085603047989\n",
      "INFO     oc_logger    Function evaluation number: 19, SI: 1, Sub-iteration number: 5, FoM: -0.6772085603047989\n",
      "INFO     oc_logger    Function evaluation number: 20, SI: 1, Sub-iteration number: 5, FoM: -0.01275160416774506\n",
      "INFO     oc_logger    Function evaluation number: 21, SI: 1, Sub-iteration number: 5, FoM: -0.6090521872337804\n",
      "INFO     oc_logger    Function evaluation number: 22, SI: 1, Sub-iteration number: 5, FoM: -0.41529801178676484\n",
      "INFO     oc_logger    Function evaluation number: 23, SI: 1, Sub-iteration number: 5, FoM: -0.2336509518278088\n",
      "INFO     oc_logger    Function evaluation number: 24, SI: 1, Sub-iteration number: 5, FoM: -0.016942048387308326\n",
      "INFO     oc_logger    Function evaluation number: 25, SI: 1, Sub-iteration number: 5, FoM: -0.2830003184729943\n",
      "INFO     oc_logger    Function evaluation number: 26, SI: 1, Sub-iteration number: 5, FoM: -0.1295135964544365\n",
      "INFO     oc_logger    Function evaluation number: 27, SI: 1, Sub-iteration number: 5, FoM: -0.13429312145423083\n",
      "INFO     oc_logger    Function evaluation number: 28, SI: 1, Sub-iteration number: 5, FoM: -0.038206259720992286\n",
      "INFO     oc_logger    Function evaluation number: 29, SI: 1, Sub-iteration number: 6, FoM: -0.14580174644423688\n",
      "INFO     oc_logger    New record achieved. Previous FoM: -0.6772085603047989, new best FoM : -0.7860032064172984\n",
      "INFO     oc_logger    Function evaluation number: 30, SI: 1, Sub-iteration number: 7, FoM: -0.7860032064172984\n",
      "INFO     oc_logger    Function evaluation number: 31, SI: 1, Sub-iteration number: 7, FoM: -0.04522006606185531\n",
      "INFO     oc_logger    Function evaluation number: 32, SI: 1, Sub-iteration number: 8, FoM: -0.6483194785533662\n",
      "INFO     oc_logger    Function evaluation number: 33, SI: 1, Sub-iteration number: 9, FoM: -0.5071515860511693\n",
      "INFO     oc_logger    Function evaluation number: 34, SI: 1, Sub-iteration number: 10, FoM: -0.5702976428878738\n",
      "INFO     oc_logger    Function evaluation number: 35, SI: 1, Sub-iteration number: 11, FoM: -0.014120028982254366\n",
      "INFO     oc_logger    Function evaluation number: 36, SI: 1, Sub-iteration number: 11, FoM: -0.5527713270605499\n",
      "INFO     oc_logger    Function evaluation number: 37, SI: 1, Sub-iteration number: 12, FoM: -0.7221670779819103\n",
      "INFO     oc_logger    Function evaluation number: 38, SI: 1, Sub-iteration number: 13, FoM: -0.038231297268476176\n",
      "INFO     oc_logger    Function evaluation number: 39, SI: 1, Sub-iteration number: 13, FoM: -0.605870064776989\n",
      "INFO     oc_logger    New record achieved. Previous FoM: -0.7860032064172984, new best FoM : -0.9835011790401309\n",
      "INFO     oc_logger    Function evaluation number: 40, SI: 1, Sub-iteration number: 14, FoM: -0.9835011790401309\n",
      "INFO     oc_logger    Function evaluation number: 41, SI: 1, Sub-iteration number: 14, FoM: -0.4571129676522693\n",
      "INFO     oc_logger    Function evaluation number: 42, SI: 1, Sub-iteration number: 15, FoM: -0.42053090559844053\n",
      "INFO     oc_logger    Function evaluation number: 43, SI: 1, Sub-iteration number: 15, FoM: -0.5045791977284305\n",
      "INFO     oc_logger    Function evaluation number: 44, SI: 1, Sub-iteration number: 15, FoM: -0.95382830160227\n",
      "INFO     oc_logger    Function evaluation number: 45, SI: 1, Sub-iteration number: 15, FoM: -0.8955639457948184\n",
      "INFO     oc_logger    Function evaluation number: 46, SI: 1, Sub-iteration number: 15, FoM: -0.6627557244533598\n",
      "INFO     oc_logger    Function evaluation number: 47, SI: 1, Sub-iteration number: 15, FoM: -0.8405827116396313\n",
      "INFO     oc_logger    Function evaluation number: 48, SI: 1, Sub-iteration number: 15, FoM: -0.0031897355005700016\n",
      "INFO     oc_logger    Function evaluation number: 49, SI: 1, Sub-iteration number: 15, FoM: -0.613701531846338\n",
      "INFO     oc_logger    Function evaluation number: 50, SI: 1, Sub-iteration number: 15, FoM: -0.6385593258430475\n",
      "INFO     oc_logger    Function evaluation number: 51, SI: 1, Sub-iteration number: 15, FoM: -0.5717552867061652\n",
      "INFO     oc_logger    Function evaluation number: 52, SI: 1, Sub-iteration number: 15, FoM: -0.6298030977939938\n",
      "INFO     oc_logger    Function evaluation number: 53, SI: 1, Sub-iteration number: 15, FoM: -0.5685281280763097\n",
      "INFO     oc_logger    Function evaluation number: 54, SI: 1, Sub-iteration number: 16, FoM: -0.0029581046450547852\n",
      "INFO     oc_logger    Function evaluation number: 55, SI: 1, Sub-iteration number: 16, FoM: -0.16853004006183386\n",
      "INFO     oc_logger    Function evaluation number: 56, SI: 1, Sub-iteration number: 17, FoM: -0.2184659645585825\n",
      "INFO     oc_logger    Function evaluation number: 57, SI: 1, Sub-iteration number: 17, FoM: -0.5530610090798984\n",
      "INFO     oc_logger    Function evaluation number: 58, SI: 1, Sub-iteration number: 18, FoM: -0.4867413429252097\n",
      "INFO     oc_logger    Function evaluation number: 59, SI: 1, Sub-iteration number: 18, FoM: -0.6992357332282748\n",
      "INFO     oc_logger    Function evaluation number: 60, SI: 1, Sub-iteration number: 19, FoM: -0.8634140139526567\n",
      "INFO     oc_logger    Function evaluation number: 61, SI: 1, Sub-iteration number: 20, FoM: -0.9075045013544719\n",
      "INFO     oc_logger    Function evaluation number: 62, SI: 1, Sub-iteration number: 21, FoM: -0.9193672298292115\n",
      "INFO     oc_logger    Function evaluation number: 63, SI: 1, Sub-iteration number: 22, FoM: -0.892518077406824\n",
      "INFO     oc_logger    Function evaluation number: 64, SI: 1, Sub-iteration number: 23, FoM: -0.7743343084323437\n",
      "INFO     oc_logger    Function evaluation number: 65, SI: 1, Sub-iteration number: 24, FoM: -0.7616231894305674\n"
     ]
    },
    {
     "name": "stdout",
     "output_type": "stream",
     "text": [
      "INFO     oc_logger    Function evaluation number: 66, SI: 1, Sub-iteration number: 25, FoM: -0.7503800198712283\n",
      "INFO     oc_logger    Function evaluation number: 67, SI: 1, Sub-iteration number: 25, FoM: -0.9078999840664024\n",
      "INFO     oc_logger    Function evaluation number: 68, SI: 1, Sub-iteration number: 26, FoM: -0.7541004384103421\n",
      "INFO     oc_logger    Function evaluation number: 69, SI: 1, Sub-iteration number: 26, FoM: -0.918234567553565\n",
      "INFO     oc_logger    Function evaluation number: 70, SI: 1, Sub-iteration number: 27, FoM: -0.8776404444194024\n",
      "INFO     oc_logger    Function evaluation number: 71, SI: 1, Sub-iteration number: 28, FoM: -0.9060029356594129\n",
      "INFO     oc_logger    Function evaluation number: 72, SI: 1, Sub-iteration number: 29, FoM: -0.8825235675236838\n",
      "INFO     oc_logger    Function evaluation number: 73, SI: 1, Sub-iteration number: 30, FoM: -0.6573635273341335\n",
      "INFO     oc_logger    Function evaluation number: 74, SI: 1, Sub-iteration number: 30, FoM: -0.9601141426931663\n",
      "INFO     oc_logger    Function evaluation number: 75, SI: 1, Sub-iteration number: 31, FoM: -0.8774128130633108\n",
      "INFO     oc_logger    Function evaluation number: 76, SI: 1, Sub-iteration number: 31, FoM: -0.948653578285837\n",
      "INFO     oc_logger    Function evaluation number: 77, SI: 1, Sub-iteration number: 32, FoM: -0.9595856562428228\n",
      "INFO     oc_logger    Function evaluation number: 78, SI: 1, Sub-iteration number: 33, FoM: -0.7762704285335004\n",
      "INFO     oc_logger    Function evaluation number: 79, SI: 1, Sub-iteration number: 33, FoM: -0.9594488365878354\n",
      "INFO     oc_logger    Function evaluation number: 80, SI: 1, Sub-iteration number: 34, FoM: -0.8972497455721151\n",
      "INFO     oc_logger    Function evaluation number: 81, SI: 1, Sub-iteration number: 34, FoM: -0.9544648959374864\n",
      "INFO     oc_logger    Function evaluation number: 82, SI: 1, Sub-iteration number: 35, FoM: -0.9097763862361906\n",
      "INFO     oc_logger    Function evaluation number: 83, SI: 1, Sub-iteration number: 36, FoM: -0.9475444469106882\n",
      "INFO     oc_logger    Function evaluation number: 84, SI: 1, Sub-iteration number: 37, FoM: -0.900958472424765\n",
      "INFO     oc_logger    Function evaluation number: 85, SI: 1, Sub-iteration number: 37, FoM: -0.962792367211601\n",
      "INFO     oc_logger    Function evaluation number: 86, SI: 1, Sub-iteration number: 38, FoM: -0.8927677596533146\n",
      "INFO     oc_logger    Function evaluation number: 87, SI: 1, Sub-iteration number: 38, FoM: -0.9669578497572897\n",
      "INFO     oc_logger    Function evaluation number: 88, SI: 1, Sub-iteration number: 39, FoM: -0.8922693723507873\n",
      "INFO     oc_logger    Function evaluation number: 89, SI: 1, Sub-iteration number: 39, FoM: -0.9718266337089997\n",
      "INFO     oc_logger    Function evaluation number: 90, SI: 1, Sub-iteration number: 40, FoM: -0.9293782185831403\n",
      "INFO     oc_logger    Function evaluation number: 91, SI: 1, Sub-iteration number: 40, FoM: -0.9742361063997014\n",
      "INFO     oc_logger    Function evaluation number: 92, SI: 1, Sub-iteration number: 41, FoM: -0.939486339389684\n",
      "INFO     oc_logger    Function evaluation number: 93, SI: 1, Sub-iteration number: 41, FoM: -0.9754459704272794\n",
      "INFO     oc_logger    Function evaluation number: 94, SI: 1, Sub-iteration number: 42, FoM: -0.937776836559896\n",
      "INFO     oc_logger    Function evaluation number: 95, SI: 1, Sub-iteration number: 42, FoM: -0.9736560613663057\n",
      "INFO     oc_logger    Function evaluation number: 96, SI: 1, Sub-iteration number: 43, FoM: -0.9329839091576002\n",
      "INFO     oc_logger    Function evaluation number: 97, SI: 1, Sub-iteration number: 43, FoM: -0.9770434093094745\n",
      "INFO     oc_logger    Function evaluation number: 98, SI: 1, Sub-iteration number: 44, FoM: -0.9745052746197159\n",
      "INFO     oc_logger    Function evaluation number: 99, SI: 1, Sub-iteration number: 45, FoM: -0.9576668849559473\n",
      "INFO     oc_logger    Function evaluation number: 100, SI: 1, Sub-iteration number: 45, FoM: -0.9764858653671439\n",
      "INFO     oc_logger    Function evaluation number: 101, SI: 1, Sub-iteration number: 46, FoM: -0.9221968191954787\n",
      "INFO     oc_logger    Function evaluation number: 102, SI: 1, Sub-iteration number: 46, FoM: -0.9797101828959982\n",
      "INFO     oc_logger    Function evaluation number: 103, SI: 1, Sub-iteration number: 47, FoM: -0.9733020274825418\n",
      "INFO     oc_logger    Function evaluation number: 104, SI: 1, Sub-iteration number: 48, FoM: -0.9707443866645926\n",
      "INFO     oc_logger    Function evaluation number: 105, SI: 1, Sub-iteration number: 48, FoM: -0.9821763440614957\n",
      "INFO     oc_logger    Function evaluation number: 106, SI: 1, Sub-iteration number: 49, FoM: -0.9720597869764388\n",
      "INFO     oc_logger    Function evaluation number: 107, SI: 1, Sub-iteration number: 49, FoM: -0.9816172509056731\n",
      "INFO     oc_logger    Function evaluation number: 108, SI: 1, Sub-iteration number: 50, FoM: -0.9601004063359546\n",
      "INFO     oc_logger    New record achieved. Previous FoM: -0.9835011790401309, new best FoM : -0.9838752726636226\n",
      "INFO     oc_logger    Function evaluation number: 109, SI: 1, Sub-iteration number: 50, FoM: -0.9838752726636226\n",
      "INFO     oc_logger    Function evaluation number: 110, SI: 1, Sub-iteration number: 51, FoM: -0.9809918481467235\n",
      "INFO     oc_logger    SI 1 finished - Number of evaluations: 110, Best FoM: -0.9838752726636226, Terminate reason: Convergence of the FoM.\n",
      "\n",
      "INFO     oc_logger    Direct search start time has been reset.\n",
      "INFO     oc_logger    Function evaluation number: 111, SI: 2, Sub-iteration number: 0, FoM: -0.9838752726636226\n",
      "INFO     oc_logger    Function evaluation number: 112, SI: 2, Sub-iteration number: 0, FoM: -0.24507172404667027\n",
      "INFO     oc_logger    Function evaluation number: 113, SI: 2, Sub-iteration number: 0, FoM: -0.5166947083541354\n",
      "INFO     oc_logger    Function evaluation number: 114, SI: 2, Sub-iteration number: 0, FoM: -0.014343991090940814\n",
      "INFO     oc_logger    Function evaluation number: 115, SI: 2, Sub-iteration number: 0, FoM: -0.011110511281001302\n",
      "INFO     oc_logger    Function evaluation number: 116, SI: 2, Sub-iteration number: 0, FoM: -0.010094004076249028\n",
      "INFO     oc_logger    Function evaluation number: 117, SI: 2, Sub-iteration number: 0, FoM: -0.7995292594646035\n",
      "INFO     oc_logger    Function evaluation number: 118, SI: 2, Sub-iteration number: 0, FoM: -0.374237623298238\n",
      "INFO     oc_logger    Function evaluation number: 119, SI: 2, Sub-iteration number: 0, FoM: -0.48398321134366823\n",
      "INFO     oc_logger    Function evaluation number: 120, SI: 2, Sub-iteration number: 0, FoM: -0.4280854000669241\n",
      "INFO     oc_logger    Function evaluation number: 121, SI: 2, Sub-iteration number: 0, FoM: -0.11968964392107541\n",
      "INFO     oc_logger    Function evaluation number: 122, SI: 2, Sub-iteration number: 1, FoM: -0.17290133790326093\n",
      "INFO     oc_logger    Function evaluation number: 123, SI: 2, Sub-iteration number: 2, FoM: -0.010168724163147904\n",
      "INFO     oc_logger    Function evaluation number: 124, SI: 2, Sub-iteration number: 2, FoM: -0.16754711269357941\n",
      "INFO     oc_logger    Function evaluation number: 125, SI: 2, Sub-iteration number: 3, FoM: -0.004656057776778878\n",
      "INFO     oc_logger    Function evaluation number: 126, SI: 2, Sub-iteration number: 3, FoM: -0.18381784870632462\n",
      "INFO     oc_logger    Function evaluation number: 127, SI: 2, Sub-iteration number: 4, FoM: -0.07790845056507836\n",
      "INFO     oc_logger    Function evaluation number: 128, SI: 2, Sub-iteration number: 4, FoM: -0.4676997606119202\n",
      "INFO     oc_logger    Function evaluation number: 129, SI: 2, Sub-iteration number: 5, FoM: -0.4045222326780686\n",
      "INFO     oc_logger    Function evaluation number: 130, SI: 2, Sub-iteration number: 6, FoM: -0.04649662791202723\n",
      "INFO     oc_logger    Function evaluation number: 131, SI: 2, Sub-iteration number: 6, FoM: -0.5073717454182496\n",
      "INFO     oc_logger    Function evaluation number: 132, SI: 2, Sub-iteration number: 7, FoM: -0.0704842854951656\n",
      "INFO     oc_logger    Function evaluation number: 133, SI: 2, Sub-iteration number: 7, FoM: -0.5951976002990813\n",
      "INFO     oc_logger    Function evaluation number: 134, SI: 2, Sub-iteration number: 8, FoM: -0.019084501876509626\n",
      "INFO     oc_logger    Function evaluation number: 135, SI: 2, Sub-iteration number: 8, FoM: -0.20202022665624908\n",
      "INFO     oc_logger    Function evaluation number: 136, SI: 2, Sub-iteration number: 8, FoM: -0.8680063702615556\n"
     ]
    },
    {
     "name": "stdout",
     "output_type": "stream",
     "text": [
      "INFO     oc_logger    Function evaluation number: 137, SI: 2, Sub-iteration number: 8, FoM: -0.8561134019501431\n",
      "INFO     oc_logger    Function evaluation number: 138, SI: 2, Sub-iteration number: 8, FoM: -0.43465493517661985\n",
      "INFO     oc_logger    Function evaluation number: 139, SI: 2, Sub-iteration number: 8, FoM: -0.6408735247116544\n",
      "INFO     oc_logger    Function evaluation number: 140, SI: 2, Sub-iteration number: 8, FoM: -0.43135856276770385\n",
      "INFO     oc_logger    Function evaluation number: 141, SI: 2, Sub-iteration number: 8, FoM: -0.7263298083897869\n",
      "INFO     oc_logger    Function evaluation number: 142, SI: 2, Sub-iteration number: 8, FoM: -0.3835310762271247\n",
      "INFO     oc_logger    Function evaluation number: 143, SI: 2, Sub-iteration number: 8, FoM: -0.7925048510705512\n",
      "INFO     oc_logger    Function evaluation number: 144, SI: 2, Sub-iteration number: 8, FoM: -0.5585825734520475\n",
      "INFO     oc_logger    Function evaluation number: 145, SI: 2, Sub-iteration number: 8, FoM: -0.19815091629501017\n",
      "INFO     oc_logger    Function evaluation number: 146, SI: 2, Sub-iteration number: 9, FoM: -0.16767231912842157\n",
      "INFO     oc_logger    Function evaluation number: 147, SI: 2, Sub-iteration number: 9, FoM: -0.43372438046578143\n",
      "INFO     oc_logger    Function evaluation number: 148, SI: 2, Sub-iteration number: 10, FoM: -0.5586448228570191\n",
      "INFO     oc_logger    Function evaluation number: 149, SI: 2, Sub-iteration number: 11, FoM: -0.6239077763368482\n",
      "INFO     oc_logger    Function evaluation number: 150, SI: 2, Sub-iteration number: 12, FoM: -0.5810279912539469\n",
      "INFO     oc_logger    Function evaluation number: 151, SI: 2, Sub-iteration number: 13, FoM: -0.44483666278872985\n",
      "INFO     oc_logger    Function evaluation number: 152, SI: 2, Sub-iteration number: 13, FoM: -0.7284382689722789\n",
      "INFO     oc_logger    Function evaluation number: 153, SI: 2, Sub-iteration number: 14, FoM: -0.34431535687042314\n",
      "INFO     oc_logger    Function evaluation number: 154, SI: 2, Sub-iteration number: 14, FoM: -0.8926023979678657\n",
      "INFO     oc_logger    Function evaluation number: 155, SI: 2, Sub-iteration number: 15, FoM: -0.47909841722789925\n",
      "INFO     oc_logger    Function evaluation number: 156, SI: 2, Sub-iteration number: 15, FoM: -0.5827706730886961\n",
      "INFO     oc_logger    Function evaluation number: 157, SI: 2, Sub-iteration number: 16, FoM: -0.35575001162677833\n",
      "INFO     oc_logger    Function evaluation number: 158, SI: 2, Sub-iteration number: 16, FoM: -0.7656389108523508\n",
      "INFO     oc_logger    Function evaluation number: 159, SI: 2, Sub-iteration number: 17, FoM: -0.8790249719771994\n",
      "INFO     oc_logger    Function evaluation number: 160, SI: 2, Sub-iteration number: 18, FoM: -0.4086582395237383\n",
      "INFO     oc_logger    Function evaluation number: 161, SI: 2, Sub-iteration number: 18, FoM: -0.4352296611091268\n",
      "INFO     oc_logger    Function evaluation number: 162, SI: 2, Sub-iteration number: 18, FoM: -0.9486407197120946\n",
      "INFO     oc_logger    Function evaluation number: 163, SI: 2, Sub-iteration number: 18, FoM: -0.9521383853738465\n",
      "INFO     oc_logger    Function evaluation number: 164, SI: 2, Sub-iteration number: 18, FoM: -0.9405770592799796\n",
      "INFO     oc_logger    Function evaluation number: 165, SI: 2, Sub-iteration number: 18, FoM: -0.9539755232362003\n",
      "INFO     oc_logger    Function evaluation number: 166, SI: 2, Sub-iteration number: 18, FoM: -0.935305969747847\n",
      "INFO     oc_logger    Function evaluation number: 167, SI: 2, Sub-iteration number: 18, FoM: -0.9191420857061614\n",
      "INFO     oc_logger    Function evaluation number: 168, SI: 2, Sub-iteration number: 18, FoM: -0.837994059828647\n",
      "INFO     oc_logger    Function evaluation number: 169, SI: 2, Sub-iteration number: 18, FoM: -0.8892468281098874\n",
      "INFO     oc_logger    Function evaluation number: 170, SI: 2, Sub-iteration number: 18, FoM: -0.8506726980594008\n",
      "INFO     oc_logger    Function evaluation number: 171, SI: 2, Sub-iteration number: 18, FoM: -0.3598744417709781\n",
      "INFO     oc_logger    Function evaluation number: 172, SI: 2, Sub-iteration number: 19, FoM: -0.3938672309537672\n",
      "INFO     oc_logger    Function evaluation number: 173, SI: 2, Sub-iteration number: 19, FoM: -0.7400252240101308\n",
      "INFO     oc_logger    Function evaluation number: 174, SI: 2, Sub-iteration number: 20, FoM: -0.6262612667084123\n",
      "INFO     oc_logger    Function evaluation number: 175, SI: 2, Sub-iteration number: 20, FoM: -0.9272559573248429\n",
      "INFO     oc_logger    Function evaluation number: 176, SI: 2, Sub-iteration number: 21, FoM: -0.8008442620615324\n",
      "INFO     oc_logger    Function evaluation number: 177, SI: 2, Sub-iteration number: 21, FoM: -0.9351455140975209\n",
      "INFO     oc_logger    Function evaluation number: 178, SI: 2, Sub-iteration number: 22, FoM: -0.9119067970995376\n",
      "INFO     oc_logger    Function evaluation number: 179, SI: 2, Sub-iteration number: 23, FoM: -0.9170683294176877\n",
      "INFO     oc_logger    Function evaluation number: 180, SI: 2, Sub-iteration number: 24, FoM: -0.8168528810227678\n",
      "INFO     oc_logger    Function evaluation number: 181, SI: 2, Sub-iteration number: 24, FoM: -0.9681739031067307\n",
      "INFO     oc_logger    Function evaluation number: 182, SI: 2, Sub-iteration number: 25, FoM: -0.8999628074750972\n",
      "INFO     oc_logger    Function evaluation number: 183, SI: 2, Sub-iteration number: 25, FoM: -0.9626653927268969\n",
      "INFO     oc_logger    Function evaluation number: 184, SI: 2, Sub-iteration number: 26, FoM: -0.9594545518114886\n",
      "INFO     oc_logger    Function evaluation number: 185, SI: 2, Sub-iteration number: 27, FoM: -0.8885773897299014\n",
      "INFO     oc_logger    Function evaluation number: 186, SI: 2, Sub-iteration number: 27, FoM: -0.9708765928146661\n",
      "INFO     oc_logger    Function evaluation number: 187, SI: 2, Sub-iteration number: 28, FoM: -0.9477511559023079\n",
      "INFO     oc_logger    Function evaluation number: 188, SI: 2, Sub-iteration number: 29, FoM: -0.9220767537650943\n",
      "INFO     oc_logger    Function evaluation number: 189, SI: 2, Sub-iteration number: 29, FoM: -0.9732035203652842\n",
      "INFO     oc_logger    Function evaluation number: 190, SI: 2, Sub-iteration number: 30, FoM: -0.9327118665122415\n",
      "INFO     oc_logger    Function evaluation number: 191, SI: 2, Sub-iteration number: 30, FoM: -0.9716658959339898\n",
      "INFO     oc_logger    Function evaluation number: 192, SI: 2, Sub-iteration number: 31, FoM: -0.9481024643938396\n",
      "INFO     oc_logger    Function evaluation number: 193, SI: 2, Sub-iteration number: 31, FoM: -0.97226751823673\n",
      "INFO     oc_logger    Function evaluation number: 194, SI: 2, Sub-iteration number: 32, FoM: -0.925940524465923\n",
      "INFO     oc_logger    Function evaluation number: 195, SI: 2, Sub-iteration number: 32, FoM: -0.9725662113640927\n",
      "INFO     oc_logger    Function evaluation number: 196, SI: 2, Sub-iteration number: 33, FoM: -0.9653327240935686\n",
      "INFO     oc_logger    Function evaluation number: 197, SI: 2, Sub-iteration number: 34, FoM: -0.952686351964254\n",
      "INFO     oc_logger    Function evaluation number: 198, SI: 2, Sub-iteration number: 34, FoM: -0.9751120627483029\n",
      "INFO     oc_logger    Function evaluation number: 199, SI: 2, Sub-iteration number: 35, FoM: -0.9467694841034405\n",
      "INFO     oc_logger    Function evaluation number: 200, SI: 2, Sub-iteration number: 35, FoM: -0.9769602253045282\n",
      "INFO     oc_logger    Function evaluation number: 201, SI: 2, Sub-iteration number: 36, FoM: -0.9696450423733686\n",
      "INFO     oc_logger    Function evaluation number: 202, SI: 2, Sub-iteration number: 37, FoM: -0.9380661953129116\n",
      "INFO     oc_logger    Function evaluation number: 203, SI: 2, Sub-iteration number: 37, FoM: -0.9807154200934082\n",
      "INFO     oc_logger    Function evaluation number: 204, SI: 2, Sub-iteration number: 38, FoM: -0.9680766625994377\n",
      "INFO     oc_logger    Function evaluation number: 205, SI: 2, Sub-iteration number: 38, FoM: -0.9788462275837366\n",
      "INFO     oc_logger    Function evaluation number: 206, SI: 2, Sub-iteration number: 39, FoM: -0.962017579231965\n",
      "INFO     oc_logger    Function evaluation number: 207, SI: 2, Sub-iteration number: 39, FoM: -0.9804344849250128\n",
      "INFO     oc_logger    Function evaluation number: 208, SI: 2, Sub-iteration number: 40, FoM: -0.9691433143720688\n",
      "INFO     oc_logger    Function evaluation number: 209, SI: 2, Sub-iteration number: 40, FoM: -0.9798770532015448\n"
     ]
    },
    {
     "name": "stdout",
     "output_type": "stream",
     "text": [
      "INFO     oc_logger    Function evaluation number: 210, SI: 2, Sub-iteration number: 41, FoM: -0.9787102831620489\n",
      "INFO     oc_logger    Function evaluation number: 211, SI: 2, Sub-iteration number: 42, FoM: -0.9740117172512817\n",
      "INFO     oc_logger    New record achieved. Previous FoM: -0.9838752726636226, new best FoM : -0.9847243312868831\n",
      "INFO     oc_logger    Function evaluation number: 212, SI: 2, Sub-iteration number: 43, FoM: -0.9847243312868831\n",
      "INFO     oc_logger    Function evaluation number: 213, SI: 2, Sub-iteration number: 43, FoM: -0.9707790228855079\n",
      "INFO     oc_logger    Function evaluation number: 214, SI: 2, Sub-iteration number: 44, FoM: -0.9636526051540798\n",
      "INFO     oc_logger    Function evaluation number: 215, SI: 2, Sub-iteration number: 44, FoM: -0.9828146578237629\n",
      "INFO     oc_logger    Function evaluation number: 216, SI: 2, Sub-iteration number: 45, FoM: -0.9711699041425605\n",
      "INFO     oc_logger    Function evaluation number: 217, SI: 2, Sub-iteration number: 45, FoM: -0.9824560983913141\n",
      "INFO     oc_logger    SI 2 finished - Number of evaluations: 107, Best FoM: -0.9847243312868831, Terminate reason: Convergence of the FoM.\n",
      "\n",
      "INFO     oc_logger    Direct search start time has been reset.\n",
      "INFO     oc_logger    Function evaluation number: 218, SI: 3, Sub-iteration number: 0, FoM: -0.9847243312868831\n",
      "INFO     oc_logger    Function evaluation number: 219, SI: 3, Sub-iteration number: 0, FoM: -0.09241965780858608\n",
      "INFO     oc_logger    Function evaluation number: 220, SI: 3, Sub-iteration number: 0, FoM: -0.15778736988309178\n",
      "INFO     oc_logger    Function evaluation number: 221, SI: 3, Sub-iteration number: 0, FoM: -0.3198148819635505\n",
      "INFO     oc_logger    Function evaluation number: 222, SI: 3, Sub-iteration number: 0, FoM: -0.022680548184464792\n",
      "INFO     oc_logger    Function evaluation number: 223, SI: 3, Sub-iteration number: 0, FoM: -0.5792473619449731\n",
      "INFO     oc_logger    Function evaluation number: 224, SI: 3, Sub-iteration number: 0, FoM: -0.5173617529542925\n",
      "INFO     oc_logger    Function evaluation number: 225, SI: 3, Sub-iteration number: 0, FoM: -0.014010888924613468\n",
      "INFO     oc_logger    Function evaluation number: 226, SI: 3, Sub-iteration number: 0, FoM: -0.008314083022520583\n",
      "INFO     oc_logger    Function evaluation number: 227, SI: 3, Sub-iteration number: 0, FoM: -0.6070767310531304\n",
      "INFO     oc_logger    Function evaluation number: 228, SI: 3, Sub-iteration number: 0, FoM: -0.11123919602356383\n",
      "INFO     oc_logger    Function evaluation number: 229, SI: 3, Sub-iteration number: 1, FoM: -0.0289997259132879\n",
      "INFO     oc_logger    Function evaluation number: 230, SI: 3, Sub-iteration number: 2, FoM: -0.08827869315248593\n",
      "INFO     oc_logger    Function evaluation number: 231, SI: 3, Sub-iteration number: 3, FoM: -0.01468170558324727\n",
      "INFO     oc_logger    Function evaluation number: 232, SI: 3, Sub-iteration number: 3, FoM: -0.401047650488068\n",
      "INFO     oc_logger    Function evaluation number: 233, SI: 3, Sub-iteration number: 4, FoM: -0.01533762317765074\n",
      "INFO     oc_logger    Function evaluation number: 234, SI: 3, Sub-iteration number: 4, FoM: -0.5462030546008927\n",
      "INFO     oc_logger    Function evaluation number: 235, SI: 3, Sub-iteration number: 5, FoM: -0.0002085453128911367\n",
      "INFO     oc_logger    Function evaluation number: 236, SI: 3, Sub-iteration number: 5, FoM: -0.0036109723325180305\n",
      "INFO     oc_logger    Function evaluation number: 237, SI: 3, Sub-iteration number: 5, FoM: -0.002531083170575505\n",
      "INFO     oc_logger    Function evaluation number: 238, SI: 3, Sub-iteration number: 5, FoM: -0.7826698078652736\n",
      "INFO     oc_logger    Function evaluation number: 239, SI: 3, Sub-iteration number: 5, FoM: -0.6841926818994569\n",
      "INFO     oc_logger    Function evaluation number: 240, SI: 3, Sub-iteration number: 5, FoM: -0.48081641349267545\n",
      "INFO     oc_logger    Function evaluation number: 241, SI: 3, Sub-iteration number: 5, FoM: -0.5928927915804941\n",
      "INFO     oc_logger    Function evaluation number: 242, SI: 3, Sub-iteration number: 5, FoM: -0.5858062186456356\n",
      "INFO     oc_logger    Function evaluation number: 243, SI: 3, Sub-iteration number: 5, FoM: -0.015861933698350244\n",
      "INFO     oc_logger    Function evaluation number: 244, SI: 3, Sub-iteration number: 5, FoM: -0.49033725371330195\n",
      "INFO     oc_logger    Function evaluation number: 245, SI: 3, Sub-iteration number: 5, FoM: -0.02930349940549285\n",
      "INFO     oc_logger    Function evaluation number: 246, SI: 3, Sub-iteration number: 5, FoM: -0.011629449772876117\n",
      "INFO     oc_logger    Function evaluation number: 247, SI: 3, Sub-iteration number: 6, FoM: -0.02351777377864308\n",
      "INFO     oc_logger    Function evaluation number: 248, SI: 3, Sub-iteration number: 7, FoM: -0.013016986400675187\n",
      "INFO     oc_logger    Function evaluation number: 249, SI: 3, Sub-iteration number: 7, FoM: -0.23594839406612717\n",
      "INFO     oc_logger    Function evaluation number: 250, SI: 3, Sub-iteration number: 8, FoM: -0.05354825530205309\n",
      "INFO     oc_logger    Function evaluation number: 251, SI: 3, Sub-iteration number: 9, FoM: -0.0017580113008519643\n",
      "INFO     oc_logger    Function evaluation number: 252, SI: 3, Sub-iteration number: 9, FoM: -0.37722512178612544\n",
      "INFO     oc_logger    Function evaluation number: 253, SI: 3, Sub-iteration number: 10, FoM: -0.031904929650734035\n",
      "INFO     oc_logger    Function evaluation number: 254, SI: 3, Sub-iteration number: 10, FoM: -0.16914569132430188\n",
      "INFO     oc_logger    Function evaluation number: 255, SI: 3, Sub-iteration number: 11, FoM: -0.004471166306365461\n",
      "INFO     oc_logger    Function evaluation number: 256, SI: 3, Sub-iteration number: 11, FoM: -0.21232357233752225\n",
      "INFO     oc_logger    Function evaluation number: 257, SI: 3, Sub-iteration number: 12, FoM: -0.2605284649691419\n",
      "INFO     oc_logger    Function evaluation number: 258, SI: 3, Sub-iteration number: 13, FoM: -0.07036476301691065\n",
      "INFO     oc_logger    Function evaluation number: 259, SI: 3, Sub-iteration number: 13, FoM: -0.3678255362927081\n",
      "INFO     oc_logger    Function evaluation number: 260, SI: 3, Sub-iteration number: 14, FoM: -0.31407811827960014\n",
      "INFO     oc_logger    Function evaluation number: 261, SI: 3, Sub-iteration number: 15, FoM: -0.35623087920787533\n",
      "INFO     oc_logger    Function evaluation number: 262, SI: 3, Sub-iteration number: 16, FoM: -0.10320186627360123\n",
      "INFO     oc_logger    Function evaluation number: 263, SI: 3, Sub-iteration number: 16, FoM: -0.8070075063956405\n",
      "INFO     oc_logger    Function evaluation number: 264, SI: 3, Sub-iteration number: 17, FoM: -0.3093752636576943\n",
      "INFO     oc_logger    Function evaluation number: 265, SI: 3, Sub-iteration number: 17, FoM: -0.5907199235146364\n",
      "INFO     oc_logger    Function evaluation number: 266, SI: 3, Sub-iteration number: 18, FoM: -0.36616314144353196\n",
      "INFO     oc_logger    Function evaluation number: 267, SI: 3, Sub-iteration number: 18, FoM: -0.7028511924860135\n",
      "INFO     oc_logger    Function evaluation number: 268, SI: 3, Sub-iteration number: 19, FoM: -0.4375613658489551\n",
      "INFO     oc_logger    Function evaluation number: 269, SI: 3, Sub-iteration number: 19, FoM: -0.8030993501668002\n",
      "INFO     oc_logger    Function evaluation number: 270, SI: 3, Sub-iteration number: 20, FoM: -0.4662327302710075\n",
      "INFO     oc_logger    Function evaluation number: 271, SI: 3, Sub-iteration number: 20, FoM: -0.6661556992434484\n",
      "INFO     oc_logger    Function evaluation number: 272, SI: 3, Sub-iteration number: 21, FoM: -0.3466645949499547\n",
      "INFO     oc_logger    Function evaluation number: 273, SI: 3, Sub-iteration number: 21, FoM: -0.8567827356012546\n",
      "INFO     oc_logger    Function evaluation number: 274, SI: 3, Sub-iteration number: 22, FoM: -0.7214827068453487\n",
      "INFO     oc_logger    Function evaluation number: 275, SI: 3, Sub-iteration number: 23, FoM: -0.49135906782647865\n",
      "INFO     oc_logger    Function evaluation number: 276, SI: 3, Sub-iteration number: 23, FoM: -0.839050572617872\n",
      "INFO     oc_logger    Function evaluation number: 277, SI: 3, Sub-iteration number: 24, FoM: -0.44792529404047393\n",
      "INFO     oc_logger    Function evaluation number: 278, SI: 3, Sub-iteration number: 24, FoM: -0.8922906510794542\n",
      "INFO     oc_logger    Function evaluation number: 279, SI: 3, Sub-iteration number: 25, FoM: -0.6452534322019222\n"
     ]
    },
    {
     "name": "stdout",
     "output_type": "stream",
     "text": [
      "INFO     oc_logger    Function evaluation number: 280, SI: 3, Sub-iteration number: 25, FoM: -0.8714245564383315\n",
      "INFO     oc_logger    Function evaluation number: 281, SI: 3, Sub-iteration number: 26, FoM: -0.5178574017270323\n",
      "INFO     oc_logger    Function evaluation number: 282, SI: 3, Sub-iteration number: 26, FoM: -0.9390781886536316\n",
      "INFO     oc_logger    Function evaluation number: 283, SI: 3, Sub-iteration number: 27, FoM: -0.7395134802498153\n",
      "INFO     oc_logger    Function evaluation number: 284, SI: 3, Sub-iteration number: 28, FoM: -0.6254815117506408\n",
      "INFO     oc_logger    Function evaluation number: 285, SI: 3, Sub-iteration number: 28, FoM: -0.9465620741758456\n",
      "INFO     oc_logger    Function evaluation number: 286, SI: 3, Sub-iteration number: 29, FoM: -0.7101220926925891\n",
      "INFO     oc_logger    Function evaluation number: 287, SI: 3, Sub-iteration number: 29, FoM: -0.924631727709804\n",
      "INFO     oc_logger    Function evaluation number: 288, SI: 3, Sub-iteration number: 30, FoM: -0.8467258617760225\n",
      "INFO     oc_logger    Function evaluation number: 289, SI: 3, Sub-iteration number: 31, FoM: -0.8477813897037392\n",
      "INFO     oc_logger    Function evaluation number: 290, SI: 3, Sub-iteration number: 32, FoM: -0.8164414832275858\n",
      "INFO     oc_logger    Function evaluation number: 291, SI: 3, Sub-iteration number: 32, FoM: -0.9428418067605167\n",
      "INFO     oc_logger    Function evaluation number: 292, SI: 3, Sub-iteration number: 33, FoM: -0.6829661832951099\n",
      "INFO     oc_logger    Function evaluation number: 293, SI: 3, Sub-iteration number: 33, FoM: -0.9707619714759642\n",
      "INFO     oc_logger    Function evaluation number: 294, SI: 3, Sub-iteration number: 34, FoM: -0.7244794543302537\n",
      "INFO     oc_logger    Function evaluation number: 295, SI: 3, Sub-iteration number: 34, FoM: -0.9327421096761341\n",
      "INFO     oc_logger    Function evaluation number: 296, SI: 3, Sub-iteration number: 35, FoM: -0.9043146893098537\n",
      "INFO     oc_logger    Function evaluation number: 297, SI: 3, Sub-iteration number: 36, FoM: -0.9173966167929473\n",
      "INFO     oc_logger    Function evaluation number: 298, SI: 3, Sub-iteration number: 37, FoM: -0.7503402998269938\n",
      "INFO     oc_logger    Function evaluation number: 299, SI: 3, Sub-iteration number: 37, FoM: -0.9720473262124738\n",
      "INFO     oc_logger    Function evaluation number: 300, SI: 3, Sub-iteration number: 38, FoM: -0.9242772919005886\n",
      "INFO     oc_logger    Function evaluation number: 301, SI: 3, Sub-iteration number: 39, FoM: -0.8448199512820234\n",
      "INFO     oc_logger    Function evaluation number: 302, SI: 3, Sub-iteration number: 39, FoM: -0.970080262740857\n",
      "INFO     oc_logger    Function evaluation number: 303, SI: 3, Sub-iteration number: 40, FoM: -0.8682855340103922\n",
      "INFO     oc_logger    Function evaluation number: 304, SI: 3, Sub-iteration number: 40, FoM: -0.9808372074897811\n",
      "INFO     oc_logger    Function evaluation number: 305, SI: 3, Sub-iteration number: 41, FoM: -0.8788607487015166\n",
      "INFO     oc_logger    Function evaluation number: 306, SI: 3, Sub-iteration number: 41, FoM: -0.9789199968201214\n",
      "INFO     oc_logger    Function evaluation number: 307, SI: 3, Sub-iteration number: 42, FoM: -0.9362735521496659\n",
      "INFO     oc_logger    Function evaluation number: 308, SI: 3, Sub-iteration number: 43, FoM: -0.868575124844491\n",
      "INFO     oc_logger    Function evaluation number: 309, SI: 3, Sub-iteration number: 43, FoM: -0.9728529287722008\n",
      "INFO     oc_logger    Function evaluation number: 310, SI: 3, Sub-iteration number: 44, FoM: -0.9400025381180791\n",
      "INFO     oc_logger    Function evaluation number: 311, SI: 3, Sub-iteration number: 45, FoM: -0.9452546835718458\n",
      "INFO     oc_logger    Function evaluation number: 312, SI: 3, Sub-iteration number: 46, FoM: -0.9131525836280288\n",
      "INFO     oc_logger    Function evaluation number: 313, SI: 3, Sub-iteration number: 46, FoM: -0.977788237919632\n",
      "INFO     oc_logger    Function evaluation number: 314, SI: 3, Sub-iteration number: 47, FoM: -0.8848524790874716\n",
      "INFO     oc_logger    Function evaluation number: 315, SI: 3, Sub-iteration number: 47, FoM: -0.9839484300063344\n",
      "INFO     oc_logger    Function evaluation number: 316, SI: 3, Sub-iteration number: 48, FoM: -0.9538562728314495\n",
      "INFO     oc_logger    Function evaluation number: 317, SI: 3, Sub-iteration number: 49, FoM: -0.9169687677676763\n",
      "INFO     oc_logger    Function evaluation number: 318, SI: 3, Sub-iteration number: 49, FoM: -0.9795884156970565\n",
      "INFO     oc_logger    Function evaluation number: 319, SI: 3, Sub-iteration number: 50, FoM: -0.9454529165767177\n",
      "INFO     oc_logger    Function evaluation number: 320, SI: 3, Sub-iteration number: 50, FoM: -0.9844767258296079\n",
      "INFO     oc_logger    Function evaluation number: 321, SI: 3, Sub-iteration number: 51, FoM: -0.9663837210531339\n",
      "INFO     oc_logger    New record achieved. Previous FoM: -0.9847243312868831, new best FoM : -0.9856903674184985\n",
      "INFO     oc_logger    Function evaluation number: 322, SI: 3, Sub-iteration number: 51, FoM: -0.9856903674184985\n",
      "INFO     oc_logger    Function evaluation number: 323, SI: 3, Sub-iteration number: 52, FoM: -0.9601605966237939\n",
      "INFO     oc_logger    New record achieved. Previous FoM: -0.9856903674184985, new best FoM : -0.9872275295733282\n",
      "INFO     oc_logger    Function evaluation number: 324, SI: 3, Sub-iteration number: 52, FoM: -0.9872275295733282\n",
      "INFO     oc_logger    Function evaluation number: 325, SI: 3, Sub-iteration number: 53, FoM: -0.9550937583580036\n",
      "INFO     oc_logger    New record achieved. Previous FoM: -0.9872275295733282, new best FoM : -0.9878999773482893\n",
      "INFO     oc_logger    Function evaluation number: 326, SI: 3, Sub-iteration number: 53, FoM: -0.9878999773482893\n",
      "INFO     oc_logger    Function evaluation number: 327, SI: 3, Sub-iteration number: 54, FoM: -0.9808706180306578\n",
      "INFO     oc_logger    Function evaluation number: 328, SI: 3, Sub-iteration number: 55, FoM: -0.9717246435747322\n",
      "INFO     oc_logger    New record achieved. Previous FoM: -0.9878999773482893, new best FoM : -0.9893013802938058\n",
      "INFO     oc_logger    Function evaluation number: 329, SI: 3, Sub-iteration number: 55, FoM: -0.9893013802938058\n",
      "INFO     oc_logger    Function evaluation number: 330, SI: 3, Sub-iteration number: 56, FoM: -0.979616301882731\n",
      "INFO     oc_logger    SI 3 finished - Number of evaluations: 113, Best FoM: -0.9893013802938058, Terminate reason: Convergence of the FoM.\n",
      "\n",
      "INFO     oc_logger    Figure of merit : -0.9893013802938058\n",
      "INFO     oc_logger    Std : 0.0\n",
      "INFO     oc_logger    total number of function evaluations : 330\n",
      "INFO     oc_logger    dcrab_freq_list : [array([[0.16435943, 1.63941294, 2.84534882, 3.71756694, 4.69895996]]), array([[0.97682542, 1.24219966, 2.50993398, 3.29091272, 4.62953416]]), array([[0.649541  , 1.64619827, 2.34042832, 3.8168773 , 4.4253979 ]])]\n",
      "INFO     oc_logger    dcrab_para_list : [array([-5.82952928,  5.49504927,  6.57578182,  1.08346901,  7.35356859,\n",
      "       -1.17532955,  3.33465662,  0.8094756 ,  0.56172029,  6.82833228]), array([-0.18791347, -0.03607329,  0.48263518, -0.80836297,  0.10470785,\n",
      "        0.7100722 , -0.53266942,  0.86803465,  0.54192589,  0.34823723]), array([-0.50534883,  0.27084775, -0.78925505,  1.13125854,  2.0155772 ,\n",
      "        1.85952691, -0.07662682, -1.51799017,  0.58056058,  1.55772022])]\n",
      "INFO     oc_logger    terminate_reason : Convergence of the FoM.\n",
      "The optimization took 22.16451120376587 seconds\n"
     ]
    }
   ],
   "source": [
    "time1 = time.time()\n",
    "optimization_obj.execute()\n",
    "time2 = time.time()\n",
    "print(\"The optimization took {seconds} seconds\".format(seconds=time2 - time1))"
   ]
  },
  {
   "cell_type": "code",
   "execution_count": 18,
   "id": "58de4c2f",
   "metadata": {
    "pycharm": {
     "name": "#%%\n"
    }
   },
   "outputs": [
    {
     "data": {
      "text/plain": [
       "Text(0, 0.5, 'Amplitude')"
      ]
     },
     "execution_count": 18,
     "metadata": {},
     "output_type": "execute_result"
    },
    {
     "data": {
      "image/png": "[encoded data removed]",
      "text/plain": [
       "<Figure size 792x504 with 1 Axes>"
      ]
     },
     "metadata": {
      "needs_background": "light"
     },
     "output_type": "display_data"
    },
    {
     "data": {
      "image/png": "[encoded data removed]",
      "text/plain": [
       "<Figure size 792x504 with 1 Axes>"
      ]
     },
     "metadata": {
      "needs_background": "light"
     },
     "output_type": "display_data"
    }
   ],
   "source": [
    "opt_alg_obj = optimization_obj.get_optimization_algorithm()\n",
    "# FoM vs Iterations\n",
    "fomlist = opt_alg_obj.FoM_list\n",
    "fig = plt.figure(figsize=(11, 7))\n",
    "ax = fig.add_subplot(111)\n",
    "iterations = range(1, len(fomlist)+1)\n",
    "ax.plot(iterations, 1 + np.asarray(fomlist), color='darkblue', linewidth=1.5, zorder=10)\n",
    "ax.scatter(iterations, 1 + np.asarray(fomlist), color='k', s=15)\n",
    "plt.grid(True, which=\"both\")\n",
    "plt.xlabel('Iteration', fontsize=20)\n",
    "plt.ylabel('FoM', fontsize=20)\n",
    "# Controls\n",
    "controls = opt_alg_obj.get_best_controls()\n",
    "pulse, timegrid = controls[\"pulses\"][0], controls[\"timegrids\"][0]\n",
    "fig = plt.figure(figsize=(11, 7))\n",
    "ax = fig.add_subplot(111)\n",
    "plt.subplots_adjust(bottom=0.15, top=0.9, right=0.98, left=0.1)\n",
    "plt.plot(timegrid, pulse, color='darkgreen', linewidth=1.5, zorder=10)\n",
    "plt.grid(True, which=\"both\")\n",
    "plt.xlabel('Time', fontsize=20)\n",
    "plt.ylabel('Amplitude', fontsize=20)"
   ]
  },
  {
   "cell_type": "markdown",
   "id": "6e7f6c4a",
   "metadata": {
    "pycharm": {
     "name": "#%% md\n"
    }
   },
   "source": [
    "## GRAPE optimization"
   ]
  },
  {
   "cell_type": "code",
   "execution_count": 19,
   "id": "df6a85b2",
   "metadata": {},
   "outputs": [],
   "source": [
    "optimization_dictionary[\"optimization_client_name\"] = \"IsingModeldGRAPE\""
   ]
  },
  {
   "cell_type": "markdown",
   "id": "378c8892",
   "metadata": {},
   "source": [
    "### The Settings"
   ]
  },
  {
   "cell_type": "code",
   "execution_count": 20,
   "id": "2aed7547",
   "metadata": {},
   "outputs": [],
   "source": [
    "optimization_dictionary[\"algorithm_settings\"] = {\n",
    "        \"algorithm_name\": \"GRAPE\"\n",
    "    }"
   ]
  },
  {
   "cell_type": "markdown",
   "id": "e45b033f",
   "metadata": {},
   "source": [
    "### Define the basis"
   ]
  },
  {
   "cell_type": "code",
   "execution_count": 21,
   "id": "9fc77e08",
   "metadata": {},
   "outputs": [],
   "source": [
    "pulse_x[\"basis\"] = {\n",
    "                \"basis_name\": \"PiecewiseBasis\",\n",
    "                \"bins_number\": 100\n",
    "}"
   ]
  },
  {
   "cell_type": "markdown",
   "id": "0e217cfa",
   "metadata": {},
   "source": [
    "### Create the Optimizer"
   ]
  },
  {
   "cell_type": "code",
   "execution_count": 22,
   "id": "dd9e7210",
   "metadata": {},
   "outputs": [
    {
     "name": "stdout",
     "output_type": "stream",
     "text": [
      "INFO     oc_logger    The optimization direction is minimization\n",
      "INFO     oc_logger    Random number generator from the numpy library, version 1.21.5\n",
      "The optimization initialized successfully\n"
     ]
    }
   ],
   "source": [
    "# Define Optimizer\n",
    "optimization_obj = Optimizer(optimization_dictionary, IsingModel())\n",
    "print(\"The optimization initialized successfully\")"
   ]
  },
  {
   "cell_type": "markdown",
   "id": "666c6139",
   "metadata": {},
   "source": [
    "### Run the optimization"
   ]
  },
  {
   "cell_type": "code",
   "execution_count": 23,
   "id": "ced50319",
   "metadata": {},
   "outputs": [
    {
     "name": "stdout",
     "output_type": "stream",
     "text": [
      "INFO     oc_logger    QuOCS version number: 0.0.27\n",
      "INFO     oc_logger    New record achieved. Previous FoM: 10000000000.0, new best FoM : -0.06355104516677007\n",
      "INFO     oc_logger    Function evaluation number: 1, FoM: -0.06355104516677007\n",
      "INFO     oc_logger    New record achieved. Previous FoM: -0.06355104516677007, new best FoM : -0.07466711298244653\n",
      "INFO     oc_logger    Function evaluation number: 2, FoM: -0.07466711298244653\n",
      "INFO     oc_logger    New record achieved. Previous FoM: -0.07466711298244653, new best FoM : -0.14804285023768562\n",
      "INFO     oc_logger    Function evaluation number: 3, FoM: -0.14804285023768562\n",
      "INFO     oc_logger    New record achieved. Previous FoM: -0.14804285023768562, new best FoM : -0.7406942940961485\n",
      "INFO     oc_logger    Function evaluation number: 4, FoM: -0.7406942940961485\n",
      "INFO     oc_logger    Function evaluation number: 5, FoM: -0.0013251583520049314\n",
      "INFO     oc_logger    Function evaluation number: 6, FoM: -0.7396625359575456\n",
      "INFO     oc_logger    New record achieved. Previous FoM: -0.7406942940961485, new best FoM : -0.7451247377031404\n",
      "INFO     oc_logger    Function evaluation number: 7, FoM: -0.7451247377031404\n",
      "INFO     oc_logger    New record achieved. Previous FoM: -0.7451247377031404, new best FoM : -0.826190286783642\n",
      "INFO     oc_logger    Function evaluation number: 8, FoM: -0.826190286783642\n",
      "INFO     oc_logger    New record achieved. Previous FoM: -0.826190286783642, new best FoM : -0.9000521573926253\n",
      "INFO     oc_logger    Function evaluation number: 9, FoM: -0.9000521573926253\n",
      "INFO     oc_logger    New record achieved. Previous FoM: -0.9000521573926253, new best FoM : -0.9108172094921722\n",
      "INFO     oc_logger    Function evaluation number: 10, FoM: -0.9108172094921722\n",
      "INFO     oc_logger    New record achieved. Previous FoM: -0.9108172094921722, new best FoM : -0.9312470870784234\n",
      "INFO     oc_logger    Function evaluation number: 11, FoM: -0.9312470870784234\n",
      "INFO     oc_logger    New record achieved. Previous FoM: -0.9312470870784234, new best FoM : -0.9648596662921222\n",
      "INFO     oc_logger    Function evaluation number: 12, FoM: -0.9648596662921222\n",
      "INFO     oc_logger    New record achieved. Previous FoM: -0.9648596662921222, new best FoM : -0.9829905589697326\n",
      "INFO     oc_logger    Function evaluation number: 13, FoM: -0.9829905589697326\n",
      "INFO     oc_logger    New record achieved. Previous FoM: -0.9829905589697326, new best FoM : -0.9836265702631379\n",
      "INFO     oc_logger    Function evaluation number: 14, FoM: -0.9836265702631379\n",
      "INFO     oc_logger    New record achieved. Previous FoM: -0.9836265702631379, new best FoM : -0.9858373112417896\n",
      "INFO     oc_logger    Function evaluation number: 15, FoM: -0.9858373112417896\n",
      "INFO     oc_logger    New record achieved. Previous FoM: -0.9858373112417896, new best FoM : -0.9871837205005918\n",
      "INFO     oc_logger    Function evaluation number: 16, FoM: -0.9871837205005918\n",
      "INFO     oc_logger    New record achieved. Previous FoM: -0.9871837205005918, new best FoM : -0.9890439492071516\n",
      "INFO     oc_logger    Function evaluation number: 17, FoM: -0.9890439492071516\n",
      "INFO     oc_logger    New record achieved. Previous FoM: -0.9890439492071516, new best FoM : -0.9892963712021683\n",
      "INFO     oc_logger    Function evaluation number: 18, FoM: -0.9892963712021683\n",
      "INFO     oc_logger    New record achieved. Previous FoM: -0.9892963712021683, new best FoM : -0.9902249536908149\n",
      "INFO     oc_logger    Function evaluation number: 19, FoM: -0.9902249536908149\n",
      "INFO     oc_logger    New record achieved. Previous FoM: -0.9902249536908149, new best FoM : -0.9932166105905486\n",
      "INFO     oc_logger    Function evaluation number: 20, FoM: -0.9932166105905486\n",
      "INFO     oc_logger    New record achieved. Previous FoM: -0.9932166105905486, new best FoM : -0.9942109001381645\n",
      "INFO     oc_logger    Function evaluation number: 21, FoM: -0.9942109001381645\n",
      "INFO     oc_logger    New record achieved. Previous FoM: -0.9942109001381645, new best FoM : -0.99444355307129\n",
      "INFO     oc_logger    Function evaluation number: 22, FoM: -0.99444355307129\n",
      "INFO     oc_logger    New record achieved. Previous FoM: -0.99444355307129, new best FoM : -0.9945571121898313\n",
      "INFO     oc_logger    Function evaluation number: 23, FoM: -0.9945571121898313\n",
      "INFO     oc_logger    New record achieved. Previous FoM: -0.9945571121898313, new best FoM : -0.9948526957218937\n",
      "INFO     oc_logger    Function evaluation number: 24, FoM: -0.9948526957218937\n",
      "INFO     oc_logger    New record achieved. Previous FoM: -0.9948526957218937, new best FoM : -0.9950382693782476\n",
      "INFO     oc_logger    Function evaluation number: 25, FoM: -0.9950382693782476\n",
      "INFO     oc_logger    New record achieved. Previous FoM: -0.9950382693782476, new best FoM : -0.9959363384697796\n",
      "INFO     oc_logger    Function evaluation number: 26, FoM: -0.9959363384697796\n",
      "INFO     oc_logger    New record achieved. Previous FoM: -0.9959363384697796, new best FoM : -0.9972801071329526\n",
      "INFO     oc_logger    Function evaluation number: 27, FoM: -0.9972801071329526\n",
      "INFO     oc_logger    New record achieved. Previous FoM: -0.9972801071329526, new best FoM : -0.9974439260199046\n",
      "INFO     oc_logger    Function evaluation number: 28, FoM: -0.9974439260199046\n",
      "INFO     oc_logger    New record achieved. Previous FoM: -0.9974439260199046, new best FoM : -0.9975765767574061\n",
      "INFO     oc_logger    Function evaluation number: 29, FoM: -0.9975765767574061\n",
      "INFO     oc_logger    New record achieved. Previous FoM: -0.9975765767574061, new best FoM : -0.9976552199132236\n",
      "INFO     oc_logger    Function evaluation number: 30, FoM: -0.9976552199132236\n",
      "INFO     oc_logger    New record achieved. Previous FoM: -0.9976552199132236, new best FoM : -0.997672185218959\n",
      "INFO     oc_logger    Function evaluation number: 31, FoM: -0.997672185218959\n",
      "INFO     oc_logger    New record achieved. Previous FoM: -0.997672185218959, new best FoM : -0.9977015081583598\n",
      "INFO     oc_logger    Function evaluation number: 32, FoM: -0.9977015081583598\n",
      "INFO     oc_logger    New record achieved. Previous FoM: -0.9977015081583598, new best FoM : -0.9977226184093618\n",
      "INFO     oc_logger    Function evaluation number: 33, FoM: -0.9977226184093618\n",
      "INFO     oc_logger    Function evaluation number: 34, FoM: -0.9977206845722675\n",
      "INFO     oc_logger    New record achieved. Previous FoM: -0.9977226184093618, new best FoM : -0.9977434814417936\n",
      "INFO     oc_logger    Function evaluation number: 35, FoM: -0.9977434814417936\n",
      "INFO     oc_logger    New record achieved. Previous FoM: -0.9977434814417936, new best FoM : -0.9977848848564947\n",
      "INFO     oc_logger    Function evaluation number: 36, FoM: -0.9977848848564947\n",
      "INFO     oc_logger    New record achieved. Previous FoM: -0.9977848848564947, new best FoM : -0.997934231824073\n",
      "INFO     oc_logger    Function evaluation number: 37, FoM: -0.997934231824073\n",
      "INFO     oc_logger    New record achieved. Previous FoM: -0.997934231824073, new best FoM : -0.9981574114468585\n",
      "INFO     oc_logger    Function evaluation number: 38, FoM: -0.9981574114468585\n",
      "INFO     oc_logger    New record achieved. Previous FoM: -0.9981574114468585, new best FoM : -0.9984139153762255\n",
      "INFO     oc_logger    Function evaluation number: 39, FoM: -0.9984139153762255\n",
      "INFO     oc_logger    New record achieved. Previous FoM: -0.9984139153762255, new best FoM : -0.9987122427035806\n",
      "INFO     oc_logger    Function evaluation number: 40, FoM: -0.9987122427035806\n",
      "INFO     oc_logger    New record achieved. Previous FoM: -0.9987122427035806, new best FoM : -0.9988881413535321\n",
      "INFO     oc_logger    Function evaluation number: 41, FoM: -0.9988881413535321\n",
      "INFO     oc_logger    New record achieved. Previous FoM: -0.9988881413535321, new best FoM : -0.9990113975852308\n",
      "INFO     oc_logger    Function evaluation number: 42, FoM: -0.9990113975852308\n",
      "INFO     oc_logger    New record achieved. Previous FoM: -0.9990113975852308, new best FoM : -0.9990580137855845\n",
      "INFO     oc_logger    Function evaluation number: 43, FoM: -0.9990580137855845\n",
      "INFO     oc_logger    New record achieved. Previous FoM: -0.9990580137855845, new best FoM : -0.9990581198357122\n",
      "INFO     oc_logger    Function evaluation number: 44, FoM: -0.9990581198357122\n",
      "INFO     oc_logger          fun: -0.9990581198357122\n",
      " hess_inv: <100x100 LbfgsInvHessProduct with dtype=float64>\n",
      "      jac: array([-1.07703415e-06, -2.12984251e-06, -2.66932102e-06, -2.23071281e-06,\n",
      "       -1.30577730e-06, -1.60439274e-07,  2.36280295e-06,  4.91140761e-06,\n",
      "        5.87674918e-06,  5.65690667e-06,  6.22477933e-06,  8.50308567e-06,\n",
      "        1.06969523e-05,  1.20251661e-05,  1.25141150e-05,  1.15393386e-05,\n",
      "        1.05397762e-05,  1.07197928e-05,  1.13659813e-05,  1.24028480e-05,\n",
      "        1.46324612e-05,  1.68189107e-05,  1.71892537e-05,  1.77897104e-05,\n",
      "        2.00663537e-05,  2.25293327e-05,  2.39805575e-05,  2.39624203e-05,\n",
      "        2.20315018e-05,  1.81657423e-05,  1.49675955e-05,  1.55653448e-05,\n",
      "        1.92139170e-05,  2.25870375e-05,  2.45190541e-05,  2.48357635e-05,\n",
      "        2.35514302e-05,  2.16895628e-05,  1.92166559e-05,  1.75676558e-05,\n",
      "        1.68442940e-05,  1.58828937e-05,  1.46135438e-05,  1.37959361e-05,\n",
      "        1.38464274e-05,  1.38430985e-05,  1.40612692e-05,  1.45010281e-05,\n",
      "        1.40806330e-05,  1.34214590e-05,  1.36340398e-05,  1.37156551e-05,\n",
      "        1.31177912e-05,  1.25888902e-05,  1.26836396e-05,  1.33154517e-05,\n",
      "        1.35493207e-05,  1.35026538e-05,  1.40157557e-05,  1.49822349e-05,\n",
      "        1.60621684e-05,  1.65004390e-05,  1.64220527e-05,  1.64205275e-05,\n",
      "        1.64053517e-05,  1.69079448e-05,  1.79303321e-05,  1.90269145e-05,\n",
      "        2.02010215e-05,  2.09152105e-05,  2.11332391e-05,  2.09570881e-05,\n",
      "        1.98395198e-05,  1.81062361e-05,  1.63140993e-05,  1.48248578e-05,\n",
      "        1.33625964e-05,  1.16998419e-05,  1.00381763e-05,  8.42800546e-06,\n",
      "        6.93542117e-06,  5.41632541e-06,  3.92991152e-06,  2.51228469e-06,\n",
      "        1.14188137e-06, -2.30365391e-07, -1.56940924e-06, -2.85774696e-06,\n",
      "       -4.10044997e-06, -5.34309531e-06, -6.57856159e-06, -7.74904074e-06,\n",
      "       -8.77455733e-06, -9.84718641e-06, -1.09793357e-05, -1.21120917e-05,\n",
      "       -1.31641856e-05, -1.41704380e-05, -1.52149411e-05, -1.62589557e-05])\n",
      "  message: 'CONVERGENCE: REL_REDUCTION_OF_F_<=_FACTR*EPSMCH'\n",
      "     nfev: 44\n",
      "      nit: 37\n",
      "     njev: 44\n",
      "   status: 0\n",
      "  success: True\n",
      "        x: array([-13.78080414,   0.56186759, -24.75710346,  13.36649807,\n",
      "       -17.96823556, -19.30104481,  19.96118951,  24.08757796,\n",
      "         5.37561392, -23.46601666, -18.88952811,  22.06530612,\n",
      "         1.21702006,  19.06962195,  15.22244995, -14.17793281,\n",
      "       -12.51186358,   2.33230069, -10.97511978, -18.16699008,\n",
      "        19.69266327,  24.24904981, -29.28818742, -10.97619546,\n",
      "         6.3102356 ,  19.38500998,  15.03805921,  31.90595197,\n",
      "        45.41892639,  46.90515673,  59.87757914,  41.51466155,\n",
      "        45.503461  ,   8.12294916,  33.08067057,   7.23569278,\n",
      "         9.20041564,  11.21862417, -35.92170162,   8.41886965,\n",
      "        -1.61172766,  11.34106146, -25.18647428,  -1.88305285,\n",
      "         2.93076177, -10.67615168,   2.71180363,  24.85679636,\n",
      "       -17.34565748, -13.53132313,  17.23741773,   6.56265594,\n",
      "        -9.64666137, -15.13425427,  -7.34855864,  21.79615133,\n",
      "       -11.88250329, -12.62233284,  -8.76375398,   1.89608657,\n",
      "        24.19074647,  -3.99425967,  -0.67089108,  -0.2282387 ,\n",
      "       -24.62839677,  -1.43557805,  -4.01002198,  -1.57282304,\n",
      "        21.39995543,  -0.93135518,  16.64197791,  27.2726787 ,\n",
      "        11.28606786,  -3.05922523, -20.4691187 ,  20.18556301,\n",
      "         2.66926901,   4.49213466,  33.14183948, -18.86267934,\n",
      "        -5.71197575, -20.33759576,  27.28117501, -24.99854795,\n",
      "         1.84313351,  -4.75562844,  12.65989869,  -8.45080662,\n",
      "        -4.17941565, -14.66688949,  30.30518543,  -0.74019763,\n",
      "       -14.6385089 ,  -8.4691063 , -20.4206236 , -11.10286258,\n",
      "         3.12425104,  13.80606085,  -5.61195473, -14.04217679])\n"
     ]
    },
    {
     "name": "stdout",
     "output_type": "stream",
     "text": [
      "INFO     oc_logger    Figure of merit : -0.9990581198357122\n",
      "INFO     oc_logger    nfev : 44\n",
      "The optimization took 2.0839407444000244 seconds\n"
     ]
    }
   ],
   "source": [
    "time1 = time.time()\n",
    "optimization_obj.execute()\n",
    "time2 = time.time()\n",
    "print(\"The optimization took {seconds} seconds\".format(seconds=time2 - time1))"
   ]
  },
  {
   "cell_type": "markdown",
   "id": "c76c4107",
   "metadata": {},
   "source": [
    "### Read the results"
   ]
  },
  {
   "cell_type": "code",
   "execution_count": 24,
   "id": "0ca31781",
   "metadata": {
    "pycharm": {
     "name": "#%%\n"
    }
   },
   "outputs": [
    {
     "data": {
      "text/plain": [
       "Text(0, 0.5, 'Amplitude')"
      ]
     },
     "execution_count": 24,
     "metadata": {},
     "output_type": "execute_result"
    },
    {
     "data": {
      "image/png": "[encoded data removed]",
      "text/plain": [
       "<Figure size 792x504 with 1 Axes>"
      ]
     },
     "metadata": {
      "needs_background": "light"
     },
     "output_type": "display_data"
    },
    {
     "data": {
      "image/png": "[encoded data removed]",
      "text/plain": [
       "<Figure size 792x504 with 1 Axes>"
      ]
     },
     "metadata": {
      "needs_background": "light"
     },
     "output_type": "display_data"
    }
   ],
   "source": [
    "opt_alg_obj = optimization_obj.get_optimization_algorithm()\n",
    "# FoM vs Iterations\n",
    "fomlist = opt_alg_obj.FoM_list\n",
    "fig = plt.figure(figsize=(11, 7))\n",
    "ax = fig.add_subplot(111)\n",
    "iterations = range(1, len(fomlist)+1)\n",
    "ax.plot(iterations, 1 + np.asarray(fomlist), color='darkblue', linewidth=1.5, zorder=10)\n",
    "ax.scatter(iterations, 1 + np.asarray(fomlist), color='k', s=15)\n",
    "plt.grid(True, which=\"both\")\n",
    "plt.xlabel('Iteration', fontsize=20)\n",
    "plt.ylabel('FoM', fontsize=20)\n",
    "# Controls\n",
    "controls = opt_alg_obj.get_best_controls()\n",
    "pulse, timegrid = controls[\"pulses\"][0], controls[\"timegrids\"][0]\n",
    "fig = plt.figure(figsize=(11, 7))\n",
    "ax = fig.add_subplot(111)\n",
    "plt.subplots_adjust(bottom=0.15, top=0.9, right=0.98, left=0.1)\n",
    "plt.plot(timegrid, pulse, color='darkgreen', linewidth=1.5, zorder=10)\n",
    "plt.grid(True, which=\"both\")\n",
    "plt.xlabel('Time', fontsize=20)\n",
    "plt.ylabel('Amplitude', fontsize=20)"
   ]
  },
  {
   "cell_type": "markdown",
   "id": "51417427",
   "metadata": {
    "pycharm": {
     "name": "#%% md\n"
    }
   },
   "source": [
    "QuOCS version"
   ]
  },
  {
   "cell_type": "code",
   "execution_count": 25,
   "id": "3a024a03",
   "metadata": {
    "pycharm": {
     "name": "#%%\n"
    }
   },
   "outputs": [
    {
     "data": {
      "text/plain": [
       "'0.0.27'"
      ]
     },
     "execution_count": 25,
     "metadata": {},
     "output_type": "execute_result"
    }
   ],
   "source": [
    "import quocslib\n",
    "quocslib.__VERSION__"
   ]
  }
 ],
 "metadata": {
  "kernelspec": {
   "display_name": "Python 3 (ipykernel)",
   "language": "python",
   "name": "python3"
  },
  "language_info": {
   "codemirror_mode": {
    "name": "ipython",
    "version": 3
   },
   "file_extension": ".py",
   "mimetype": "text/x-python",
   "name": "python",
   "nbconvert_exporter": "python",
   "pygments_lexer": "ipython3",
   "version": "3.9.12"
  },
  "toc": {
   "base_numbering": 1,
   "nav_menu": {},
   "number_sections": true,
   "sideBar": true,
   "skip_h1_title": false,
   "title_cell": "Table of Contents",
   "title_sidebar": "Contents",
   "toc_cell": false,
   "toc_position": {},
   "toc_section_display": true,
   "toc_window_display": true
  }
 },
 "nbformat": 4,
 "nbformat_minor": 5
}