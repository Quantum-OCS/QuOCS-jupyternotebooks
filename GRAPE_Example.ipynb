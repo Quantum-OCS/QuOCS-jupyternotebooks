{
 "cells": [
  {
   "cell_type": "code",
   "execution_count": 1,
   "id": "b2516e9f",
   "metadata": {
    "pycharm": {
     "name": "#%%\n"
    }
   },
   "outputs": [],
   "source": [
    "# ++++++++++++++++++++++++++++++++++++++++++++++++++++++++++++++++++++++++++++++++++++++++\n",
    "#  Copyright 2021-  QuOCS Team\n",
    "#\n",
    "#  Licensed under the Apache License, Version 2.0 (the \"License\");\n",
    "#  you may not use this file except in compliance with the License.\n",
    "#  You may obtain a copy of the License at\n",
    "#\n",
    "#      http://www.apache.org/licenses/LICENSE-2.0\n",
    "#\n",
    "#  Unless required by applicable law or agreed to in writing, software\n",
    "#  distributed under the License is distributed on an \"AS IS\" BASIS,\n",
    "#  WITHOUT WARRANTIES OR CONDITIONS OF ANY KIND, either express or implied.\n",
    "#  See the License for the specific language governing permissions and\n",
    "#  limitations under the License.\n",
    "# ++++++++++++++++++++++++++++++++++++++++++++++++++++++++++++++++++++++++++++++++++++++++"
   ]
  },
  {
   "cell_type": "code",
   "execution_count": 2,
   "id": "54ea90a8",
   "metadata": {
    "pycharm": {
     "name": "#%%\n"
    }
   },
   "outputs": [],
   "source": [
    "import matplotlib.pyplot as plt\n",
    "import os"
   ]
  },
  {
   "cell_type": "markdown",
   "id": "dc084c47",
   "metadata": {
    "pycharm": {
     "name": "#%% md\n"
    }
   },
   "source": [
    "# Ising model optimization"
   ]
  },
  {
   "cell_type": "markdown",
   "id": "204bf1d0",
   "metadata": {
    "pycharm": {
     "name": "#%% md\n"
    }
   },
   "source": [
    "### The model"
   ]
  },
  {
   "cell_type": "markdown",
   "id": "24685c1e",
   "metadata": {
    "pycharm": {
     "name": "#%% md\n"
    }
   },
   "source": [
    "We take an Ising model Hamiltonian as our example problem, where *J* and *g* describe the nearest and next-nearest neighbor interaction of an Ising spin chain of *n* qubits. A global control field in the x-direction *u(t)* is used for the control of the system."
   ]
  },
  {
   "cell_type": "markdown",
   "id": "e57d72d1",
   "metadata": {
    "pycharm": {
     "name": "#%% md\n"
    }
   },
   "source": [
    "$H(t) = - J \\sum_{j}^{n} \\sigma_j^z \\sigma_{j+1}^z \\; - g \\sum_{j}^{n} \\sigma_j^z \\sigma_{j+2}^z \\; + u(t) \\sum_{j}^{n} \\sigma_j^x \\;$"
   ]
  },
  {
   "cell_type": "markdown",
   "id": "37b36787",
   "metadata": {
    "pycharm": {
     "name": "#%% md\n"
    }
   },
   "source": [
    "## GRAPE Optimization"
   ]
  },
  {
   "cell_type": "markdown",
   "id": "44d9d3ff",
   "metadata": {
    "pycharm": {
     "name": "#%% md\n"
    }
   },
   "source": [
    "### Define the Model\n",
    "\n",
    "The user must write a class that is a child of the AbstractFoM class provided by QuOCS to define the problem to be solved. It must contain at least a function called get_FoM which takes the pulses, parameters and times as lists of numpy arrays (or floats for the parameters) and returns a dictionary with the figure of merit (FoM) under the key \"FoM\". What happens inside the get_FoM function is up to the user. \n",
    "\n",
    "In this code one can define *J* and *g* and the number of qubits, as well as the desired initial and target state after evolution of the Hamiltonian under the control field *u(t)*. In get_FoM the pulses are taken to caluclate the evolution under above Hamiltonian and the propagator is applied to the initial state. The resulting final state is overlapped with the target state to extract to state fidelity. This is passed back as a FoM."
   ]
  },
  {
   "cell_type": "code",
   "execution_count": 3,
   "id": "ba21c733",
   "metadata": {
    "pycharm": {
     "name": "#%%\n"
    }
   },
   "outputs": [],
   "source": [
    "import numpy as np\n",
    "from quocslib.utils.AbstractFoM import AbstractFoM\n",
    "from quocslib.timeevolution.piecewise_integrator import pw_evolution\n",
    "import functools\n",
    "from scipy.linalg import sqrtm\n",
    "\n",
    "\n",
    "def tensor_together(A):\n",
    "    \"\"\"Takes a list of matrices and multiplies them together with the tensor product\"\"\"\n",
    "    res = np.kron(A[0], A[1])\n",
    "    if len(A) > 2:\n",
    "        for two in A[2:]:\n",
    "            res = np.kron(res, two)\n",
    "    else:\n",
    "        res = res\n",
    "    return res\n",
    "\n",
    "\n",
    "def get_static_hamiltonian(nqu, J, g):\n",
    "    \"\"\"\n",
    "    Get the static Hamiltonian for the Ising model\n",
    "    :param nqu: Number of qubits\n",
    "    :param J: Nearest neighbour coupling\n",
    "    :param g: Next-nearest neighbour coupling\n",
    "    :return: The Hamiltonian\n",
    "    \"\"\"\n",
    "    dim = 2**nqu\n",
    "    H0 = np.zeros((dim, dim), dtype=np.complex128)\n",
    "    i2 = np.eye(2)\n",
    "    sz = np.array([[1, 0], [0, -1]], dtype=\"complex\")\n",
    "    for j in range(nqu):\n",
    "        # set up holding array\n",
    "        rest = [i2] * nqu\n",
    "        # set the correct elements to sz\n",
    "        # check, so we can implement a loop around\n",
    "        if j == nqu - 1:\n",
    "            idx1 = j\n",
    "            idx2 = 0\n",
    "        else:\n",
    "            idx1 = j\n",
    "            idx2 = j + 1\n",
    "        rest[idx1] = sz\n",
    "        rest[idx2] = sz\n",
    "        H0 = H0 - J * tensor_together(rest)\n",
    "\n",
    "    for j in range(nqu):\n",
    "        # set up holding array\n",
    "        rest = [i2] * nqu\n",
    "        # set the correct elements to sz\n",
    "        # check, so we can implement a loop around\n",
    "        if j == nqu - 1:\n",
    "            idx1 = j\n",
    "            idx2 = 1\n",
    "        elif j == nqu - 2:\n",
    "            idx1 = j\n",
    "            idx2 = 0\n",
    "        else:\n",
    "            idx1 = j\n",
    "            idx2 = j + 2\n",
    "        rest[idx1] = sz\n",
    "        rest[idx2] = sz\n",
    "        H0 = H0 - g * tensor_together(rest)\n",
    "    return H0\n",
    "\n",
    "\n",
    "def get_control_hamiltonian(nqu: int):\n",
    "    \"\"\"\"\n",
    "    Get the control Hamiltonian for the Ising model\n",
    "    :param nqu: Number of qubits\n",
    "    :return: The Hamiltonian\n",
    "    \"\"\"\n",
    "    dim = 2**nqu\n",
    "    H_at_t = np.zeros((dim, dim), dtype=np.complex128)\n",
    "    i2 = np.eye(2)\n",
    "    sx = np.array([[0, 1], [1, 0]], dtype=\"complex\")\n",
    "    for j in range(nqu):\n",
    "        # set up holding array\n",
    "        rest = [i2] * nqu\n",
    "        # set the correct elements to sz\n",
    "        # check, so we can implement a loop around\n",
    "        rest[j] = sx\n",
    "        H_at_t = H_at_t + tensor_together(rest)\n",
    "    return H_at_t\n",
    "\n",
    "\n",
    "def get_initial_state(nqu: int):\n",
    "    \"\"\"\n",
    "    Get the initial state for the Ising model\n",
    "    :param nqu:\n",
    "    :return: Initial state density matrix\n",
    "    \"\"\"\n",
    "    rho0 = np.array([[1, 0], [0, 0]], dtype=np.complex128)\n",
    "    state = [rho0] * nqu\n",
    "    return tensor_together(state)\n",
    "\n",
    "\n",
    "def get_target_state(nqu: int):\n",
    "    \"\"\"\n",
    "    Get the target state for the Ising model\n",
    "    :param nqu:\n",
    "    :return: Target state density matrix\n",
    "    \"\"\"\n",
    "    rhoT = np.array([[0, 0], [0, 1]], dtype=np.complex128)\n",
    "    state = [rhoT] * nqu\n",
    "    return tensor_together(state)\n",
    "\n",
    "\n",
    "def fidelity_funct(rho_evolved, rho_aim):\n",
    "    \"\"\"\n",
    "    Function to calculate the overlap between two density matrices.\n",
    "    :param rho_evolved:\n",
    "    :param rho_aim:\n",
    "    :return: overlap fidelity\n",
    "    \"\"\"\n",
    "    return np.abs(np.trace(sqrtm(sqrtm(rho_evolved) @ rho_aim @ sqrtm(rho_evolved)))) ** 2\n",
    "\n",
    "\n",
    "class IsingModel(AbstractFoM):\n",
    "    \"\"\"\n",
    "    A figure of merit class for optimization of the problem defined by Alastair Marshall via\n",
    "    https://arxiv.org/abs/2110.06187\n",
    "    \"\"\"\n",
    "    def __init__(self, args_dict: dict = None):\n",
    "        if args_dict is None:\n",
    "            args_dict = {}\n",
    "\n",
    "        ################################################################################################################\n",
    "        # Dynamics variables\n",
    "        ################################################################################################################\n",
    "        self.n_qubits = args_dict.setdefault(\"n_qubits\", 5)\n",
    "        self.J = args_dict.setdefault(\"J\", 1)\n",
    "        self.g = args_dict.setdefault(\"g\", 2)\n",
    "        self.n_slices = args_dict.setdefault(\"n_slices\", 100)\n",
    "\n",
    "        self.is_maximization = args_dict.setdefault(\"is_maximization\", False)\n",
    "        self.FoM_factor = 1\n",
    "        if self.is_maximization:\n",
    "            self.FoM_factor = -1\n",
    "\n",
    "        self.H_drift = get_static_hamiltonian(self.n_qubits, self.J, self.g)\n",
    "        self.H_control = get_control_hamiltonian(self.n_qubits)\n",
    "        self.rho_0 = get_initial_state(self.n_qubits)\n",
    "        self.rho_target = get_target_state(self.n_qubits)\n",
    "        self.rho_final = np.zeros_like(self.rho_target)\n",
    "        # allocate memory for the list containing the propagators\n",
    "        self.prop_store = [np.zeros_like(self.H_drift) for _ in range(self.n_slices)]\n",
    "        # Check if the propagators are already computed\n",
    "        self.propagators_are_computed = False\n",
    "\n",
    "    def get_control_Hamiltonians(self):\n",
    "        return self.H_control\n",
    "\n",
    "    def get_drift_Hamiltonian(self):\n",
    "        return self.H_drift\n",
    "\n",
    "    def get_target_state(self):\n",
    "        return self.rho_target\n",
    "\n",
    "    def get_initial_state(self):\n",
    "        return self.rho_0\n",
    "\n",
    "    def get_propagator(self,\n",
    "                       pulses_list: list = [],\n",
    "                       time_grids_list: list = [],\n",
    "                       parameters_list: list = []) -> np.array:\n",
    "        \"\"\"\n",
    "        Compute and return the list of propagators\n",
    "        :param pulses_list: List of pulses\n",
    "        :param time_grids_list: List of time grids\n",
    "        :param parameters_list: List of parameters\n",
    "        :return: List of propagators\"\"\"\n",
    "        drive = pulses_list[0].reshape(1, len(pulses_list[0]))\n",
    "        n_slices = self.n_slices\n",
    "        time_grid = time_grids_list[0]\n",
    "        # dt = time_grid[1] - time_grid[0]\n",
    "        dt = time_grid[-1] / len(time_grid)\n",
    "        # Compute the time evolution\n",
    "        self.prop_store = pw_evolution(self.prop_store, drive, self.H_drift, [self.H_control], n_slices, dt)\n",
    "        self.propagators_are_computed = True\n",
    "        return self.prop_store\n",
    "\n",
    "    def get_FoM(self, pulses: list = [], parameters: list = [], timegrids: list = []) -> dict:\n",
    "        \"\"\"\n",
    "        Compute and return the figure of merit\n",
    "        :param pulses: List of pulses\n",
    "        :param parameters: List of parameters\n",
    "        :param timegrids: List of time grids\n",
    "        :return dict: Figure of merit in a dictionary\n",
    "        \"\"\"\n",
    "        # Check if the propagator list is computed before compute the final propagator\n",
    "        if not self.propagators_are_computed:\n",
    "            self.get_propagator(pulses_list=pulses, time_grids_list=timegrids, parameters_list=parameters)\n",
    "        self.propagators_are_computed = False\n",
    "        # Compute the final propagator\n",
    "        U_final = functools.reduce(lambda a, b: a @ b, self.prop_store)\n",
    "        # evolve initial state\n",
    "        rho_final = U_final @ self.rho_0 @ U_final.T.conj()\n",
    "        # Calculate the fidelity\n",
    "        fidelity = -1 * self.FoM_factor * fidelity_funct(rho_final.T, self.rho_target)\n",
    "        return {\"FoM\": fidelity}\n"
   ]
  },
  {
   "cell_type": "markdown",
   "id": "c4c2581a",
   "metadata": {
    "pycharm": {
     "name": "#%% md\n"
    }
   },
   "source": [
    "### Define the configuration dictionary\n",
    "This dictionary is passed to the QuOCS optimized in order to tell it what optimization algorithm to use. I also contains further settings for the optimization process.\n",
    "\n",
    "First, we give the optimization a name, which will also appear in the name of the results folder generated."
   ]
  },
  {
   "cell_type": "code",
   "execution_count": 4,
   "id": "6d4fb70b",
   "metadata": {
    "pycharm": {
     "name": "#%%\n"
    }
   },
   "outputs": [],
   "source": [
    "optimization_dictionary = {\"optimization_client_name\": \"IsingModelGRAPE\"}"
   ]
  },
  {
   "cell_type": "markdown",
   "id": "ea8b5b6c",
   "metadata": {
    "pycharm": {
     "name": "#%% md\n"
    }
   },
   "source": [
    "#### Settings for the optimization algorithm\n",
    "The \"algotithm_settings\" key in gets a dictionary with the name of the algorithm. In this case we use the GRAPE algorithm."
   ]
  },
  {
   "cell_type": "code",
   "execution_count": 5,
   "id": "efa386db",
   "metadata": {
    "pycharm": {
     "name": "#%%\n"
    }
   },
   "outputs": [],
   "source": [
    "optimization_dictionary[\"algorithm_settings\"] = {\"algorithm_name\": \"GRAPE\"}"
   ]
  },
  {
   "cell_type": "markdown",
   "id": "dc75bc7d",
   "metadata": {
    "pycharm": {
     "name": "#%% md\n"
    }
   },
   "source": [
    "Now we define some settings for GRAPE: Since we want to maximize the state overlap with the target state, we set the optimization direction to \"maximization\"."
   ]
  },
  {
   "cell_type": "code",
   "execution_count": 6,
   "id": "db042f0b",
   "metadata": {
    "pycharm": {
     "name": "#%%\n"
    }
   },
   "outputs": [],
   "source": [
    "optimization_dictionary[\"algorithm_settings\"][\"optimization_direction\"] = \"maximization\""
   ]
  },
  {
   "cell_type": "markdown",
   "id": "e0f6eb7a",
   "metadata": {
    "pycharm": {
     "name": "#%% md\n"
    }
   },
   "source": [
    "#### The Controls\n",
    "The controls are given by a pulse in x-direction. Let's give it some limits, a discretization (100 bins) and an initial variation of the pulse amplitudes. For GRAPE one has to use the piecewise constant basis, so the variation is the change of each value of the amplitude in each time bin. Typically ~30\\% of the maximal possible amplitude is a useful starting value. We also connect a time object named \"time_1\" (defined later) to the pulse to tell it about the duration of the pulse."
   ]
  },
  {
   "cell_type": "code",
   "execution_count": 7,
   "id": "59677db5",
   "metadata": {
    "pycharm": {
     "name": "#%%\n"
    }
   },
   "outputs": [],
   "source": [
    "pulse_x = {\"pulse_name\": \"Pulse_1\",\n",
    "           \"upper_limit\": 100.0,\n",
    "           \"lower_limit\": -100.0,\n",
    "           \"bins_number\": 100,\n",
    "           \"amplitude_variation\": 30.0,\n",
    "           \"time_name\": \"time_1\"\n",
    "           }"
   ]
  },
  {
   "cell_type": "markdown",
   "id": "22991ede",
   "metadata": {
    "pycharm": {
     "name": "#%% md\n"
    }
   },
   "source": [
    "### The basis\n",
    "The \"basis\" option for GRAPE has to be \"PiecewiseBasis\"."
   ]
  },
  {
   "cell_type": "code",
   "execution_count": 8,
   "id": "ac9a4550",
   "metadata": {
    "pycharm": {
     "name": "#%%\n"
    }
   },
   "outputs": [],
   "source": [
    "pulse_x[\"basis\"] = {\"basis_name\": \"PiecewiseBasis\"}"
   ]
  },
  {
   "cell_type": "markdown",
   "id": "178d5523",
   "metadata": {
    "pycharm": {
     "name": "#%% md\n"
    }
   },
   "source": [
    "#### The times\n",
    "If there are several pulses on differen timescales, you can define different times here and link them to the pulses accordingly. In our case we have the aforementioned \"time_1\" which we set to 1."
   ]
  },
  {
   "cell_type": "code",
   "execution_count": 9,
   "id": "0160107f",
   "metadata": {
    "pycharm": {
     "name": "#%%\n"
    }
   },
   "outputs": [],
   "source": [
    "time1 = {\"time_name\": \"time_1\",\n",
    "         \"initial_value\": 1.0 }"
   ]
  },
  {
   "cell_type": "markdown",
   "id": "ce6e1ff4",
   "metadata": {
    "pycharm": {
     "name": "#%% md\n"
    }
   },
   "source": [
    "Now, let's insert the controls in the optimization_dictionary"
   ]
  },
  {
   "cell_type": "code",
   "execution_count": 10,
   "id": "774af28b",
   "metadata": {
    "pycharm": {
     "name": "#%%\n"
    }
   },
   "outputs": [],
   "source": [
    "optimization_dictionary[\"pulses\"] = [pulse_x]\n",
    "optimization_dictionary[\"parameters\"] = []\n",
    "optimization_dictionary[\"times\"] = [time1]"
   ]
  },
  {
   "cell_type": "markdown",
   "id": "4b404a38",
   "metadata": {
    "pycharm": {
     "name": "#%% md\n"
    }
   },
   "source": [
    "### Create the optimizer and run the optimization\n",
    "All you need to do now is to import the Optimizer from QuOCS and create an optimization object by passing an instance of the FoM object (here IsingModel()) and the optimization_dictionary."
   ]
  },
  {
   "cell_type": "code",
   "execution_count": 11,
   "id": "b6ae47d2",
   "metadata": {
    "pycharm": {
     "name": "#%%\n"
    }
   },
   "outputs": [
    {
     "name": "stdout",
     "output_type": "stream",
     "text": [
      "INFO     oc_logger    The optimization direction is maximization\n",
      "INFO     oc_logger    Random number generator from the numpy library, version 1.23.5\n"
     ]
    }
   ],
   "source": [
    "from quocslib.Optimizer import Optimizer\n",
    "import time\n",
    "\n",
    "optimization_obj = Optimizer(optimization_dictionary, IsingModel({\"is_maximization\": True}))"
   ]
  },
  {
   "cell_type": "markdown",
   "id": "bf5cd35c",
   "metadata": {},
   "source": [
    "To run the optimization, call the .execute() function on the optimization object."
   ]
  },
  {
   "cell_type": "code",
   "execution_count": 12,
   "id": "c3514c85",
   "metadata": {
    "pycharm": {
     "name": "#%%\n"
    }
   },
   "outputs": [
    {
     "name": "stdout",
     "output_type": "stream",
     "text": [
      "INFO     oc_logger    QuOCS version number: 0.0.55\n",
      "INFO     oc_logger    New record achieved. Previous FoM: -10000000000, new best FoM : 0.3097317318503275\n",
      "INFO     oc_logger    Function evaluation number: 1, FoM: 0.3097317318503275\n",
      "INFO     oc_logger    New record achieved. Previous FoM: 0.3097317318503275, new best FoM : 0.3396414576509822\n",
      "INFO     oc_logger    Function evaluation number: 2, FoM: 0.3396414576509822\n",
      "INFO     oc_logger    New record achieved. Previous FoM: 0.3396414576509822, new best FoM : 0.36697304141850146\n",
      "INFO     oc_logger    Function evaluation number: 3, FoM: 0.36697304141850146\n",
      "INFO     oc_logger    New record achieved. Previous FoM: 0.36697304141850146, new best FoM : 0.4039366680244672\n",
      "INFO     oc_logger    Function evaluation number: 4, FoM: 0.4039366680244672\n",
      "INFO     oc_logger    New record achieved. Previous FoM: 0.4039366680244672, new best FoM : 0.44645977193875186\n",
      "INFO     oc_logger    Function evaluation number: 5, FoM: 0.44645977193875186\n",
      "INFO     oc_logger    New record achieved. Previous FoM: 0.44645977193875186, new best FoM : 0.5046424301808411\n",
      "INFO     oc_logger    Function evaluation number: 6, FoM: 0.5046424301808411\n",
      "INFO     oc_logger    New record achieved. Previous FoM: 0.5046424301808411, new best FoM : 0.5397297743612133\n",
      "INFO     oc_logger    Function evaluation number: 7, FoM: 0.5397297743612133\n",
      "INFO     oc_logger    New record achieved. Previous FoM: 0.5397297743612133, new best FoM : 0.5619946164553925\n",
      "INFO     oc_logger    Function evaluation number: 8, FoM: 0.5619946164553925\n",
      "INFO     oc_logger    New record achieved. Previous FoM: 0.5619946164553925, new best FoM : 0.5724504188334738\n",
      "INFO     oc_logger    Function evaluation number: 9, FoM: 0.5724504188334738\n",
      "INFO     oc_logger    New record achieved. Previous FoM: 0.5724504188334738, new best FoM : 0.5975607170048987\n",
      "INFO     oc_logger    Function evaluation number: 10, FoM: 0.5975607170048987\n",
      "INFO     oc_logger    New record achieved. Previous FoM: 0.5975607170048987, new best FoM : 0.6142703604002993\n",
      "INFO     oc_logger    Function evaluation number: 11, FoM: 0.6142703604002993\n",
      "INFO     oc_logger    New record achieved. Previous FoM: 0.6142703604002993, new best FoM : 0.6361828961011448\n",
      "INFO     oc_logger    Function evaluation number: 12, FoM: 0.6361828961011448\n",
      "INFO     oc_logger    Function evaluation number: 13, FoM: 0.6025150373572787\n",
      "INFO     oc_logger    New record achieved. Previous FoM: 0.6361828961011448, new best FoM : 0.6488774313490763\n",
      "INFO     oc_logger    Function evaluation number: 14, FoM: 0.6488774313490763\n",
      "INFO     oc_logger    New record achieved. Previous FoM: 0.6488774313490763, new best FoM : 0.7195559418818863\n",
      "INFO     oc_logger    Function evaluation number: 15, FoM: 0.7195559418818863\n",
      "INFO     oc_logger    New record achieved. Previous FoM: 0.7195559418818863, new best FoM : 0.8886808350969345\n",
      "INFO     oc_logger    Function evaluation number: 16, FoM: 0.8886808350969345\n",
      "INFO     oc_logger    New record achieved. Previous FoM: 0.8886808350969345, new best FoM : 0.9606923104567477\n",
      "INFO     oc_logger    Function evaluation number: 17, FoM: 0.9606923104567477\n",
      "INFO     oc_logger    New record achieved. Previous FoM: 0.9606923104567477, new best FoM : 0.9724460769886468\n",
      "INFO     oc_logger    Function evaluation number: 18, FoM: 0.9724460769886468\n",
      "INFO     oc_logger    New record achieved. Previous FoM: 0.9724460769886468, new best FoM : 0.9750916412312683\n",
      "INFO     oc_logger    Function evaluation number: 19, FoM: 0.9750916412312683\n",
      "INFO     oc_logger    New record achieved. Previous FoM: 0.9750916412312683, new best FoM : 0.9770515804183645\n",
      "INFO     oc_logger    Function evaluation number: 20, FoM: 0.9770515804183645\n",
      "INFO     oc_logger    New record achieved. Previous FoM: 0.9770515804183645, new best FoM : 0.9794993856612653\n",
      "INFO     oc_logger    Function evaluation number: 21, FoM: 0.9794993856612653\n",
      "INFO     oc_logger    New record achieved. Previous FoM: 0.9794993856612653, new best FoM : 0.9824320041389799\n",
      "INFO     oc_logger    Function evaluation number: 22, FoM: 0.9824320041389799\n",
      "INFO     oc_logger    Function evaluation number: 23, FoM: 0.9823727851980931\n",
      "INFO     oc_logger    New record achieved. Previous FoM: 0.9824320041389799, new best FoM : 0.9834406399090251\n",
      "INFO     oc_logger    Function evaluation number: 24, FoM: 0.9834406399090251\n",
      "INFO     oc_logger    New record achieved. Previous FoM: 0.9834406399090251, new best FoM : 0.9846419119220274\n",
      "INFO     oc_logger    Function evaluation number: 25, FoM: 0.9846419119220274\n",
      "INFO     oc_logger    New record achieved. Previous FoM: 0.9846419119220274, new best FoM : 0.9848850183768871\n",
      "INFO     oc_logger    Function evaluation number: 26, FoM: 0.9848850183768871\n",
      "INFO     oc_logger    New record achieved. Previous FoM: 0.9848850183768871, new best FoM : 0.9850468232446199\n",
      "INFO     oc_logger    Function evaluation number: 27, FoM: 0.9850468232446199\n",
      "INFO     oc_logger    New record achieved. Previous FoM: 0.9850468232446199, new best FoM : 0.985229161592331\n",
      "INFO     oc_logger    Function evaluation number: 28, FoM: 0.985229161592331\n",
      "INFO     oc_logger    New record achieved. Previous FoM: 0.985229161592331, new best FoM : 0.9854658572225878\n",
      "INFO     oc_logger    Function evaluation number: 29, FoM: 0.9854658572225878\n",
      "INFO     oc_logger    New record achieved. Previous FoM: 0.9854658572225878, new best FoM : 0.9856533190095259\n",
      "INFO     oc_logger    Function evaluation number: 30, FoM: 0.9856533190095259\n",
      "INFO     oc_logger    New record achieved. Previous FoM: 0.9856533190095259, new best FoM : 0.9857800038433092\n",
      "INFO     oc_logger    Function evaluation number: 31, FoM: 0.9857800038433092\n",
      "INFO     oc_logger    New record achieved. Previous FoM: 0.9857800038433092, new best FoM : 0.9862728621443406\n",
      "INFO     oc_logger    Function evaluation number: 32, FoM: 0.9862728621443406\n",
      "INFO     oc_logger    New record achieved. Previous FoM: 0.9862728621443406, new best FoM : 0.9865387896731\n",
      "INFO     oc_logger    Function evaluation number: 33, FoM: 0.9865387896731\n",
      "INFO     oc_logger    New record achieved. Previous FoM: 0.9865387896731, new best FoM : 0.986793589043411\n",
      "INFO     oc_logger    Function evaluation number: 34, FoM: 0.986793589043411\n",
      "INFO     oc_logger    New record achieved. Previous FoM: 0.986793589043411, new best FoM : 0.9877952801616459\n",
      "INFO     oc_logger    Function evaluation number: 35, FoM: 0.9877952801616459\n",
      "INFO     oc_logger    New record achieved. Previous FoM: 0.9877952801616459, new best FoM : 0.9894172131124138\n",
      "INFO     oc_logger    Function evaluation number: 36, FoM: 0.9894172131124138\n",
      "INFO     oc_logger    Function evaluation number: 37, FoM: 0.96638983289672\n",
      "INFO     oc_logger    New record achieved. Previous FoM: 0.9894172131124138, new best FoM : 0.9896378908660902\n",
      "INFO     oc_logger    Function evaluation number: 38, FoM: 0.9896378908660902\n",
      "INFO     oc_logger    New record achieved. Previous FoM: 0.9896378908660902, new best FoM : 0.9897980823919302\n",
      "INFO     oc_logger    Function evaluation number: 39, FoM: 0.9897980823919302\n",
      "INFO     oc_logger    New record achieved. Previous FoM: 0.9897980823919302, new best FoM : 0.9902934488817444\n",
      "INFO     oc_logger    Function evaluation number: 40, FoM: 0.9902934488817444\n",
      "INFO     oc_logger    New record achieved. Previous FoM: 0.9902934488817444, new best FoM : 0.990656603480815\n",
      "INFO     oc_logger    Function evaluation number: 41, FoM: 0.990656603480815\n",
      "INFO     oc_logger    New record achieved. Previous FoM: 0.990656603480815, new best FoM : 0.9912020661712105\n",
      "INFO     oc_logger    Function evaluation number: 42, FoM: 0.9912020661712105\n",
      "INFO     oc_logger    New record achieved. Previous FoM: 0.9912020661712105, new best FoM : 0.9925188650208758\n",
      "INFO     oc_logger    Function evaluation number: 43, FoM: 0.9925188650208758\n",
      "INFO     oc_logger    Function evaluation number: 44, FoM: 0.9794490044126334\n",
      "INFO     oc_logger    New record achieved. Previous FoM: 0.9925188650208758, new best FoM : 0.9928968001697248\n",
      "INFO     oc_logger    Function evaluation number: 45, FoM: 0.9928968001697248\n",
      "INFO     oc_logger    New record achieved. Previous FoM: 0.9928968001697248, new best FoM : 0.9930606486258219\n"
     ]
    },
    {
     "name": "stdout",
     "output_type": "stream",
     "text": [
      "INFO     oc_logger    Function evaluation number: 46, FoM: 0.9930606486258219\n",
      "INFO     oc_logger    New record achieved. Previous FoM: 0.9930606486258219, new best FoM : 0.9932199294920421\n",
      "INFO     oc_logger    Function evaluation number: 47, FoM: 0.9932199294920421\n",
      "INFO     oc_logger    New record achieved. Previous FoM: 0.9932199294920421, new best FoM : 0.9933591592186727\n",
      "INFO     oc_logger    Function evaluation number: 48, FoM: 0.9933591592186727\n",
      "INFO     oc_logger    New record achieved. Previous FoM: 0.9933591592186727, new best FoM : 0.9934143010317247\n",
      "INFO     oc_logger    Function evaluation number: 49, FoM: 0.9934143010317247\n",
      "INFO     oc_logger    New record achieved. Previous FoM: 0.9934143010317247, new best FoM : 0.9935231436840382\n",
      "INFO     oc_logger    Function evaluation number: 50, FoM: 0.9935231436840382\n",
      "INFO     oc_logger    New record achieved. Previous FoM: 0.9935231436840382, new best FoM : 0.9937202142280955\n",
      "INFO     oc_logger    Function evaluation number: 51, FoM: 0.9937202142280955\n",
      "INFO     oc_logger    New record achieved. Previous FoM: 0.9937202142280955, new best FoM : 0.9939532838052145\n",
      "INFO     oc_logger    Function evaluation number: 52, FoM: 0.9939532838052145\n",
      "INFO     oc_logger    New record achieved. Previous FoM: 0.9939532838052145, new best FoM : 0.9940666837397045\n",
      "INFO     oc_logger    Function evaluation number: 53, FoM: 0.9940666837397045\n",
      "INFO     oc_logger    New record achieved. Previous FoM: 0.9940666837397045, new best FoM : 0.9941338602513352\n",
      "INFO     oc_logger    Function evaluation number: 54, FoM: 0.9941338602513352\n",
      "INFO     oc_logger    New record achieved. Previous FoM: 0.9941338602513352, new best FoM : 0.9941701360675348\n",
      "INFO     oc_logger    Function evaluation number: 55, FoM: 0.9941701360675348\n",
      "INFO     oc_logger    New record achieved. Previous FoM: 0.9941701360675348, new best FoM : 0.994318698187759\n",
      "INFO     oc_logger    Function evaluation number: 56, FoM: 0.994318698187759\n",
      "INFO     oc_logger    New record achieved. Previous FoM: 0.994318698187759, new best FoM : 0.9943648648527523\n",
      "INFO     oc_logger    Function evaluation number: 57, FoM: 0.9943648648527523\n",
      "INFO     oc_logger    New record achieved. Previous FoM: 0.9943648648527523, new best FoM : 0.9945455119846897\n",
      "INFO     oc_logger    Function evaluation number: 58, FoM: 0.9945455119846897\n",
      "INFO     oc_logger    New record achieved. Previous FoM: 0.9945455119846897, new best FoM : 0.9947329072629976\n",
      "INFO     oc_logger    Function evaluation number: 59, FoM: 0.9947329072629976\n",
      "INFO     oc_logger    New record achieved. Previous FoM: 0.9947329072629976, new best FoM : 0.9953428895284513\n",
      "INFO     oc_logger    Function evaluation number: 60, FoM: 0.9953428895284513\n",
      "INFO     oc_logger    Function evaluation number: 61, FoM: 0.9768232757143361\n",
      "INFO     oc_logger    New record achieved. Previous FoM: 0.9953428895284513, new best FoM : 0.9954093235056123\n",
      "INFO     oc_logger    Function evaluation number: 62, FoM: 0.9954093235056123\n",
      "INFO     oc_logger    Function evaluation number: 63, FoM: 0.9894483350037063\n",
      "INFO     oc_logger    Function evaluation number: 64, FoM: 0.995350508841002\n",
      "INFO     oc_logger    Function evaluation number: 65, FoM: 0.8946190298282843\n",
      "INFO     oc_logger    Function evaluation number: 66, FoM: 0.9953461872070547\n",
      "INFO     oc_logger    Function evaluation number: 67, FoM: 0.9953763475648748\n",
      "INFO     oc_logger    Function evaluation number: 68, FoM: 0.9953809985547764\n",
      "INFO     oc_logger    Function evaluation number: 69, FoM: 0.9953559016172012\n",
      "INFO     oc_logger    Function evaluation number: 70, FoM: 0.9953774603214043\n",
      "INFO     oc_logger    Function evaluation number: 71, FoM: 0.9953809985547764\n",
      "INFO     oc_logger    Function evaluation number: 72, FoM: 0.9282191893849643\n",
      "INFO     oc_logger    Function evaluation number: 73, FoM: 0.9953375027648741\n",
      "INFO     oc_logger    Function evaluation number: 74, FoM: 0.99537244363546\n",
      "INFO     oc_logger    Function evaluation number: 75, FoM: 0.9954031547067422\n",
      "INFO     oc_logger    Function evaluation number: 76, FoM: 0.9953875138188091\n",
      "INFO     oc_logger    Function evaluation number: 77, FoM: 0.9953599295031901\n",
      "INFO     oc_logger    Function evaluation number: 78, FoM: 0.9954031547067422\n",
      "INFO     oc_logger    Function evaluation number: 79, FoM: 0.9060472224819963\n",
      "INFO     oc_logger    New record achieved. Previous FoM: 0.9954093235056123, new best FoM : 0.9954189318524691\n",
      "INFO     oc_logger    Function evaluation number: 80, FoM: 0.9954189318524691\n",
      "INFO     oc_logger    Function evaluation number: 81, FoM: 0.9689783746752466\n",
      "INFO     oc_logger    Function evaluation number: 82, FoM: 0.9953810890319585\n",
      "INFO     oc_logger    New record achieved. Previous FoM: 0.9954189318524691, new best FoM : 0.9954292714184244\n",
      "INFO     oc_logger    Function evaluation number: 83, FoM: 0.9954292714184244\n",
      "INFO     oc_logger    New record achieved. Previous FoM: 0.9954292714184244, new best FoM : 0.995435565569436\n",
      "INFO     oc_logger    Function evaluation number: 84, FoM: 0.995435565569436\n",
      "INFO     oc_logger    Function evaluation number: 85, FoM: 0.9600997799942717\n",
      "INFO     oc_logger    Function evaluation number: 86, FoM: 0.9953888657702818\n",
      "INFO     oc_logger    Function evaluation number: 87, FoM: 0.9954264270903673\n",
      "INFO     oc_logger    Function evaluation number: 88, FoM: 0.9953994077035409\n",
      "INFO     oc_logger    Function evaluation number: 89, FoM: 0.9954109390587934\n",
      "INFO     oc_logger    Function evaluation number: 90, FoM: 0.9954144705566269\n",
      "INFO     oc_logger    Function evaluation number: 91, FoM: 0.9954285497712319\n",
      "INFO     oc_logger    Function evaluation number: 92, FoM: 0.995435565569436\n",
      "INFO     oc_logger    Function evaluation number: 93, FoM: 0.9954348181590065\n",
      "INFO     oc_logger    Function evaluation number: 94, FoM: 0.995435565569436\n",
      "INFO     oc_logger    Function evaluation number: 95, FoM: 0.9954331015095803\n",
      "INFO     oc_logger    Function evaluation number: 96, FoM: 0.995435565569436\n",
      "INFO     oc_logger    Function evaluation number: 97, FoM: 0.9954314375950396\n",
      "INFO     oc_logger    Function evaluation number: 98, FoM: 0.995435565569436\n",
      "INFO     oc_logger    Function evaluation number: 99, FoM: 0.9954222954416334\n",
      "INFO     oc_logger    Function evaluation number: 100, FoM: 0.995435565569436\n",
      "INFO     oc_logger    New record achieved. Previous FoM: 0.995435565569436, new best FoM : 0.9954448196913542\n",
      "INFO     oc_logger    Function evaluation number: 101, FoM: 0.9954448196913542\n",
      "INFO     oc_logger    New record achieved. Previous FoM: 0.9954448196913542, new best FoM : 0.995448107052563\n",
      "INFO     oc_logger    Function evaluation number: 102, FoM: 0.995448107052563\n",
      "INFO     oc_logger    New record achieved. Previous FoM: 0.995448107052563, new best FoM : 0.9955893069933861\n",
      "INFO     oc_logger    Function evaluation number: 103, FoM: 0.9955893069933861\n",
      "INFO     oc_logger    New record achieved. Previous FoM: 0.9955893069933861, new best FoM : 0.9962891689372811\n",
      "INFO     oc_logger    Function evaluation number: 104, FoM: 0.9962891689372811\n",
      "INFO     oc_logger    New record achieved. Previous FoM: 0.9962891689372811, new best FoM : 0.9964026623059249\n",
      "INFO     oc_logger    Function evaluation number: 105, FoM: 0.9964026623059249\n",
      "INFO     oc_logger    New record achieved. Previous FoM: 0.9964026623059249, new best FoM : 0.9964472083096059\n",
      "INFO     oc_logger    Function evaluation number: 106, FoM: 0.9964472083096059\n",
      "INFO     oc_logger    New record achieved. Previous FoM: 0.9964472083096059, new best FoM : 0.9965032374542809\n",
      "INFO     oc_logger    Function evaluation number: 107, FoM: 0.9965032374542809\n",
      "INFO     oc_logger    Function evaluation number: 108, FoM: 0.9964912437327672\n",
      "INFO     oc_logger    Function evaluation number: 109, FoM: 0.9964658405765704\n",
      "INFO     oc_logger    Function evaluation number: 110, FoM: 0.9964423461902292\n",
      "INFO     oc_logger    Function evaluation number: 111, FoM: 0.9964890294036985\n",
      "INFO     oc_logger    Function evaluation number: 112, FoM: 0.9964973213449501\n",
      "INFO     oc_logger    Function evaluation number: 113, FoM: 0.9965032374542809\n",
      "INFO     oc_logger    Function evaluation number: 114, FoM: 0.9964985680254115\n",
      "INFO     oc_logger    Function evaluation number: 115, FoM: 0.9965032374542809\n"
     ]
    },
    {
     "name": "stdout",
     "output_type": "stream",
     "text": [
      "INFO     oc_logger    New record achieved. Previous FoM: 0.9965032374542809, new best FoM : 0.9965083175370002\n",
      "INFO     oc_logger    Function evaluation number: 116, FoM: 0.9965083175370002\n",
      "INFO     oc_logger    New record achieved. Previous FoM: 0.9965083175370002, new best FoM : 0.9965100444070807\n",
      "INFO     oc_logger    Function evaluation number: 117, FoM: 0.9965100444070807\n",
      "INFO     oc_logger    Function evaluation number: 118, FoM: 0.9965027965034425\n",
      "INFO     oc_logger    Function evaluation number: 119, FoM: 0.9965100444070807\n",
      "INFO     oc_logger    Function evaluation number: 120, FoM: 0.9965041695252176\n",
      "INFO     oc_logger    Function evaluation number: 121, FoM: 0.9964529446342311\n",
      "INFO     oc_logger    Function evaluation number: 122, FoM: 0.996497972699188\n",
      "INFO     oc_logger    Function evaluation number: 123, FoM: 0.9965056271575595\n",
      "INFO     oc_logger    New record achieved. Previous FoM: 0.9965100444070807, new best FoM : 0.9965303273896309\n",
      "INFO     oc_logger    Function evaluation number: 124, FoM: 0.9965303273896309\n",
      "INFO     oc_logger    Function evaluation number: 125, FoM: 0.9965275590519471\n",
      "INFO     oc_logger    Function evaluation number: 126, FoM: 0.9965303273896309\n",
      "INFO     oc_logger    Function evaluation number: 127, FoM: 0.9964904854608541\n",
      "INFO     oc_logger    Function evaluation number: 128, FoM: 0.9964768841523238\n",
      "INFO     oc_logger    Function evaluation number: 129, FoM: 0.9964626461691111\n",
      "INFO     oc_logger    Function evaluation number: 130, FoM: 0.9965037245612176\n",
      "INFO     oc_logger    Function evaluation number: 131, FoM: 0.9965184764261071\n",
      "INFO     oc_logger    Function evaluation number: 132, FoM: 0.9965303273896309\n",
      "INFO     oc_logger    New record achieved. Previous FoM: 0.9965303273896309, new best FoM : 0.9965431771430052\n",
      "INFO     oc_logger    Function evaluation number: 133, FoM: 0.9965431771430052\n",
      "INFO     oc_logger    Function evaluation number: 134, FoM: 0.9965293054667579\n",
      "INFO     oc_logger    Function evaluation number: 135, FoM: 0.9965431771430052\n",
      "INFO     oc_logger    Function evaluation number: 136, FoM: 0.9965238497769296\n",
      "INFO     oc_logger    Function evaluation number: 137, FoM: 0.9965431771430052\n",
      "INFO     oc_logger    Function evaluation number: 138, FoM: 0.9965280201706416\n",
      "INFO     oc_logger    Function evaluation number: 139, FoM: 0.9965431771430052\n",
      "INFO     oc_logger    Function evaluation number: 140, FoM: 0.9965251190854673\n",
      "INFO     oc_logger    Function evaluation number: 141, FoM: 0.9964688372653232\n",
      "INFO     oc_logger    Function evaluation number: 142, FoM: 0.9965008024872278\n",
      "INFO     oc_logger    Function evaluation number: 143, FoM: 0.9965257999072358\n",
      "INFO     oc_logger    Function evaluation number: 144, FoM: 0.9965303273896309\n",
      "INFO     oc_logger    Function evaluation number: 145, FoM: 0.9965310706721182\n",
      "INFO     oc_logger    Function evaluation number: 146, FoM: 0.9965170667278762\n",
      "INFO     oc_logger    Function evaluation number: 147, FoM: 0.9965310706721182\n",
      "INFO     oc_logger    Function evaluation number: 148, FoM: 0.9965092932790414\n",
      "INFO     oc_logger    Function evaluation number: 149, FoM: 0.9965310706721182\n",
      "INFO     oc_logger    Function evaluation number: 150, FoM: 0.9965206355473685\n",
      "INFO     oc_logger    Function evaluation number: 151, FoM: 0.9965310706721182\n",
      "INFO     oc_logger    Function evaluation number: 152, FoM: 0.9965245348708317\n",
      "INFO     oc_logger    Function evaluation number: 153, FoM: 0.9965310706721182\n",
      "INFO     oc_logger      message: CONVERGENCE: REL_REDUCTION_OF_F_<=_FACTR*EPSMCH\n",
      "  success: True\n",
      "   status: 0\n",
      "      fun: -0.99653107067211825503\n",
      "        x: [ 8.072e-01  1.536e+01 ... -1.146e+01 -2.341e+01]\n",
      "      nit: 63\n",
      "      jac: [ 1.276e-04  9.646e-05 ... -8.576e-06 -2.840e-05]\n",
      "     nfev: 153\n",
      "     njev: 153\n",
      " hess_inv: <100x100 LbfgsInvHessProduct with dtype=float64>\n",
      "INFO     oc_logger    Figure of merit : 0.9965431771430052\n",
      "INFO     oc_logger    nfev : 153\n",
      "The optimization took 9.579142808914185 seconds\n"
     ]
    }
   ],
   "source": [
    "time1 = time.time()\n",
    "optimization_obj.execute()\n",
    "time2 = time.time()\n",
    "print(\"The optimization took {seconds} seconds\".format(seconds=time2 - time1))"
   ]
  },
  {
   "cell_type": "markdown",
   "id": "d43d64a0",
   "metadata": {},
   "source": [
    "#### Results\n",
    "Let us visualize the optimization by looking at the evolution of the FoM over the function evaluations and the final control pulse."
   ]
  },
  {
   "cell_type": "code",
   "execution_count": 13,
   "id": "58de4c2f",
   "metadata": {
    "pycharm": {
     "name": "#%%\n"
    }
   },
   "outputs": [
    {
     "data": {
      "text/plain": [
       "Text(0, 0.5, 'Amplitude')"
      ]
     },
     "execution_count": 13,
     "metadata": {},
     "output_type": "execute_result"
    },
    {
     "data": {
      "image/png": "[encoded data removed]",
      "text/plain": [
       "<Figure size 1100x700 with 1 Axes>"
      ]
     },
     "metadata": {},
     "output_type": "display_data"
    },
    {
     "data": {
      "image/png": "[encoded data removed]",
      "text/plain": [
       "<Figure size 1100x700 with 1 Axes>"
      ]
     },
     "metadata": {},
     "output_type": "display_data"
    }
   ],
   "source": [
    "# Get the optimization algorithm object from the optimization object\n",
    "opt_alg_obj = optimization_obj.get_optimization_algorithm()\n",
    "\n",
    "# The FoM values for each function evaluation can be founf under FoM_list in the optimization algorithm object\n",
    "fomlist = opt_alg_obj.FoM_list\n",
    "\n",
    "# Plot the FoM over the number of evaluations\n",
    "fig = plt.figure(figsize=(11, 7))\n",
    "ax = fig.add_subplot(111)\n",
    "iterations = range(1, len(fomlist)+1)\n",
    "ax.plot(iterations, np.asarray(fomlist), color='darkblue', linewidth=1.5, zorder=10)\n",
    "ax.scatter(iterations, np.asarray(fomlist), color='k', s=15)\n",
    "plt.grid(True, which=\"both\")\n",
    "plt.xlabel('Function Evaluation', fontsize=20)\n",
    "plt.ylabel('FoM', fontsize=20)\n",
    "\n",
    "# The optimized controls can be found via the function get_best_controls() called on \n",
    "# the optimization algorithm object\n",
    "controls = opt_alg_obj.get_best_controls()\n",
    "\n",
    "# it contains the pulses and time grids under certain keys as a dictionary\n",
    "pulse, timegrid = controls[\"pulses\"][0], controls[\"timegrids\"][0]\n",
    "\n",
    "# Plot the pulse over time\n",
    "fig = plt.figure(figsize=(11, 7))\n",
    "ax = fig.add_subplot(111)\n",
    "plt.subplots_adjust(bottom=0.15, top=0.9, right=0.98, left=0.1)\n",
    "plt.step(timegrid, pulse, color='darkgreen', linewidth=1.5, zorder=10)\n",
    "plt.grid(True, which=\"both\")\n",
    "plt.xlabel('Time', fontsize=20)\n",
    "plt.ylabel('Amplitude', fontsize=20)"
   ]
  },
  {
   "cell_type": "code",
   "execution_count": null,
   "id": "ac933f66",
   "metadata": {},
   "outputs": [],
   "source": []
  }
 ],
 "metadata": {
  "kernelspec": {
   "display_name": "Python 3 (ipykernel)",
   "language": "python",
   "name": "python3"
  },
  "language_info": {
   "codemirror_mode": {
    "name": "ipython",
    "version": 3
   },
   "file_extension": ".py",
   "mimetype": "text/x-python",
   "name": "python",
   "nbconvert_exporter": "python",
   "pygments_lexer": "ipython3",
   "version": "3.9.16"
  },
  "toc": {
   "base_numbering": 1,
   "nav_menu": {},
   "number_sections": true,
   "sideBar": true,
   "skip_h1_title": false,
   "title_cell": "Table of Contents",
   "title_sidebar": "Contents",
   "toc_cell": false,
   "toc_position": {},
   "toc_section_display": true,
   "toc_window_display": true
  }
 },
 "nbformat": 4,
 "nbformat_minor": 5
}
