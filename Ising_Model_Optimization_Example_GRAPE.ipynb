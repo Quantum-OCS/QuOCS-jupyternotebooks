{
 "cells": [
  {
   "cell_type": "code",
   "execution_count": 1,
   "id": "b2516e9f",
   "metadata": {
    "pycharm": {
     "name": "#%%\n"
    }
   },
   "outputs": [],
   "source": [
    "# ++++++++++++++++++++++++++++++++++++++++++++++++++++++++++++++++++++++++++++++++++++++++\n",
    "#  Copyright 2021-  QuOCS Team\n",
    "#\n",
    "#  Licensed under the Apache License, Version 2.0 (the \"License\");\n",
    "#  you may not use this file except in compliance with the License.\n",
    "#  You may obtain a copy of the License at\n",
    "#\n",
    "#      http://www.apache.org/licenses/LICENSE-2.0\n",
    "#\n",
    "#  Unless required by applicable law or agreed to in writing, software\n",
    "#  distributed under the License is distributed on an \"AS IS\" BASIS,\n",
    "#  WITHOUT WARRANTIES OR CONDITIONS OF ANY KIND, either express or implied.\n",
    "#  See the License for the specific language governing permissions and\n",
    "#  limitations under the License.\n",
    "# ++++++++++++++++++++++++++++++++++++++++++++++++++++++++++++++++++++++++++++++++++++++++"
   ]
  },
  {
   "cell_type": "code",
   "execution_count": 2,
   "id": "54ea90a8",
   "metadata": {
    "pycharm": {
     "name": "#%%\n"
    }
   },
   "outputs": [],
   "source": [
    "import matplotlib.pyplot as plt\n",
    "import os"
   ]
  },
  {
   "cell_type": "markdown",
   "id": "dc084c47",
   "metadata": {
    "pycharm": {
     "name": "#%% md\n"
    }
   },
   "source": [
    "# Ising model optimization"
   ]
  },
  {
   "cell_type": "markdown",
   "id": "204bf1d0",
   "metadata": {
    "pycharm": {
     "name": "#%% md\n"
    }
   },
   "source": [
    "### The model"
   ]
  },
  {
   "cell_type": "markdown",
   "id": "24685c1e",
   "metadata": {
    "pycharm": {
     "name": "#%% md\n"
    }
   },
   "source": [
    "We take an Ising model Hamiltonian as our example problem, where *J* and *g* describe the nearest and next-nearest neighbor interaction of an Ising spin chain of *n* qubits. A global control field in the x-direction *u(t)* is used for the control of the system."
   ]
  },
  {
   "cell_type": "markdown",
   "id": "e57d72d1",
   "metadata": {
    "pycharm": {
     "name": "#%% md\n"
    }
   },
   "source": [
    "$H(t) = - J \\sum_{j}^{n} \\sigma_j^z \\sigma_{j+1}^z \\; - g \\sum_{j}^{n} \\sigma_j^z \\sigma_{j+2}^z \\; + u(t) \\sum_{j}^{n} \\sigma_j^x \\;$"
   ]
  },
  {
   "cell_type": "markdown",
   "id": "37b36787",
   "metadata": {
    "pycharm": {
     "name": "#%% md\n"
    }
   },
   "source": [
    "## GRAPE Optimization"
   ]
  },
  {
   "cell_type": "markdown",
   "id": "44d9d3ff",
   "metadata": {
    "pycharm": {
     "name": "#%% md\n"
    }
   },
   "source": [
    "### Define the Model\n",
    "\n",
    "The user must write a class that is a child of the AbstractFoM class provided by QuOCS to define the problem to be solved. It must contain at least a function called get_FoM which takes the pulses, parameters and times as lists of numpy arrays (or floats for the parameters) and returns a dictionary with the figure of merit (FoM) under the key \"FoM\". What happens inside the get_FoM function is up to the user. \n",
    "\n",
    "In this code one can define *J* and *g* and the number of qubits, as well as the desired initial and target state after evolution of the Hamiltonian under the control field *u(t)*. In get_FoM the pulses are taken to caluclate the evolution under above Hamiltonian and the propagator is applied to the initial state. The resulting final state is overlapped with the target state to extract to state fidelity. This is passed back as a FoM."
   ]
  },
  {
   "cell_type": "code",
   "execution_count": 3,
   "id": "ba21c733",
   "metadata": {
    "pycharm": {
     "name": "#%%\n"
    }
   },
   "outputs": [],
   "source": [
    "import numpy as np\n",
    "from quocslib.optimalcontrolproblems.su2 import *\n",
    "from quocslib.utils.AbstractFoM import AbstractFoM\n",
    "from quocslib.timeevolution.piecewise_integrator import pw_evolution\n",
    "import functools\n",
    "\n",
    "\n",
    "class IsingModel(AbstractFoM):\n",
    "    \"\"\"\n",
    "    A figure of merit class for optimization of the problem defined by Alastair Marshall via\n",
    "    https://arxiv.org/abs/2110.06187\n",
    "    \"\"\"\n",
    "    def __init__(self, args_dict: dict = None):\n",
    "        if args_dict is None:\n",
    "            args_dict = {}\n",
    "\n",
    "        ################################################################################################################\n",
    "        # Dynamics variables\n",
    "        ################################################################################################################\n",
    "        self.n_qubits = args_dict.setdefault(\"n_qubits\", 5)\n",
    "        self.J = args_dict.setdefault(\"J\", 1)\n",
    "        self.g = args_dict.setdefault(\"g\", 2)\n",
    "        self.n_slices = args_dict.setdefault(\"n_slices\", 100)\n",
    "\n",
    "        self.H_drift = get_static_hamiltonian(self.n_qubits, self.J, self.g)\n",
    "        self.H_control = get_control_hamiltonian(self.n_qubits)\n",
    "        self.rho_0 = get_initial_state(self.n_qubits)\n",
    "        self.rho_target = get_target_state(self.n_qubits)\n",
    "        self.rho_final = np.zeros_like(self.rho_target)\n",
    "        # allocate memory for the list containing the propagators\n",
    "        self.prop_store = [np.zeros_like(self.H_drift) for _ in range(self.n_slices)]\n",
    "        # Check if the propagators are already computed\n",
    "        self.propagators_are_computed = False\n",
    "\n",
    "    def get_control_Hamiltonians(self):\n",
    "        return self.H_control\n",
    "\n",
    "    def get_drift_Hamiltonian(self):\n",
    "        return self.H_drift\n",
    "\n",
    "    def get_target_state(self):\n",
    "        return self.rho_target\n",
    "\n",
    "    def get_initial_state(self):\n",
    "        return self.rho_0\n",
    "\n",
    "    def get_propagator(\n",
    "        self,\n",
    "        pulses_list: list = [],\n",
    "        time_grids_list: list = [],\n",
    "        parameters_list: list = [],\n",
    "    ) -> np.array:\n",
    "        \"\"\"\n",
    "        Compute and return the list of propagators\n",
    "        \"\"\"\n",
    "        drive = pulses_list[0].reshape(1, len(pulses_list[0]))\n",
    "        n_slices = self.n_slices\n",
    "        time_grid = time_grids_list[0]\n",
    "        # dt = time_grid[1] - time_grid[0]\n",
    "        dt = time_grid[-1] / len(time_grid)\n",
    "        # Compute the time evolution\n",
    "        self.prop_store = pw_evolution(self.prop_store, drive, self.H_drift, [self.H_control], n_slices, dt)\n",
    "        self.propagators_are_computed = True\n",
    "        return self.prop_store\n",
    "\n",
    "    def get_FoM(self, pulses: list = [], parameters: list = [], timegrids: list = []) -> dict:\n",
    "        \"\"\"\n",
    "        Function to calculate the figure of merit from the pulses and parameters and timegrids.\n",
    "        :param list pulses: List of np.arrays. One np.array for each pulse.\n",
    "        :param list timegrids: List of np.arrays. One np.array for each time grid.\n",
    "        :param list parameters: List of floats. One float ofr each parameter.\n",
    "        :return: dict - The figure of merit in a dictionary\n",
    "        \"\"\"\n",
    "        # Check if the propagator list is computed before compute the final propagator\n",
    "        if not self.propagators_are_computed:\n",
    "            self.get_propagator(pulses_list=pulses, time_grids_list=timegrids, parameters_list=parameters)\n",
    "        self.propagators_are_computed = False\n",
    "        # Compute the final propagator\n",
    "        U_final = functools.reduce(lambda a, b: a @ b, self.prop_store)\n",
    "        # evolve initial state\n",
    "        rho_final = U_final @ self.rho_0 @ U_final.T.conj()\n",
    "        # Calculate the fidelity\n",
    "        fidelity = fidelity_funct(rho_final.T, self.rho_target)\n",
    "        return {\"FoM\": fidelity}\n"
   ]
  },
  {
   "cell_type": "markdown",
   "id": "c4c2581a",
   "metadata": {
    "pycharm": {
     "name": "#%% md\n"
    }
   },
   "source": [
    "### Define the configuration dictionary\n",
    "This dictionary is passed to the QuOCS optimized in order to tell it what optimization algorithm to use. I also contains further settings for the optimization process.\n",
    "\n",
    "First, we give the optimization a name, which will also appear in the name of the results folder generated."
   ]
  },
  {
   "cell_type": "code",
   "execution_count": 4,
   "id": "6d4fb70b",
   "metadata": {
    "pycharm": {
     "name": "#%%\n"
    }
   },
   "outputs": [],
   "source": [
    "optimization_dictionary = {\"optimization_client_name\": \"IsingModelGRAPE\"}"
   ]
  },
  {
   "cell_type": "markdown",
   "id": "ea8b5b6c",
   "metadata": {
    "pycharm": {
     "name": "#%% md\n"
    }
   },
   "source": [
    "#### Settings for the optimization algorithm\n",
    "The \"algotithm_settings\" key in gets a dictionary with the name of the algorithm. In this case we use the GRAPE algorithm."
   ]
  },
  {
   "cell_type": "code",
   "execution_count": 5,
   "id": "efa386db",
   "metadata": {
    "pycharm": {
     "name": "#%%\n"
    }
   },
   "outputs": [],
   "source": [
    "optimization_dictionary[\"algorithm_settings\"] = {\"algorithm_name\": \"GRAPE\"}"
   ]
  },
  {
   "cell_type": "markdown",
   "id": "dc75bc7d",
   "metadata": {
    "pycharm": {
     "name": "#%% md\n"
    }
   },
   "source": [
    "Now we define some settings for GRAPE: Since we want to maximize the state overlap with the target state, we set the optimization direction to \"maximization\"."
   ]
  },
  {
   "cell_type": "code",
   "execution_count": 6,
   "id": "db042f0b",
   "metadata": {
    "pycharm": {
     "name": "#%%\n"
    }
   },
   "outputs": [],
   "source": [
    "optimization_dictionary[\"algorithm_settings\"][\"optimization_direction\"] = \"maximization\""
   ]
  },
  {
   "cell_type": "markdown",
   "id": "e0f6eb7a",
   "metadata": {
    "pycharm": {
     "name": "#%% md\n"
    }
   },
   "source": [
    "#### The Controls\n",
    "The controls are given by a pulse in x-direction. Let's give it some limits, a discretization (100 bins) and an initial variation of the pulse amplitudes. For GRAPE one has to use the piecewise constant basis, so the variation is the change of each value of the amplitude in each time bin. Typically ~30\\% of the maximal possible amplitude is a useful starting value. We also connect a time object named \"time_1\" (defined later) to the pulse to tell it about the duration of the pulse."
   ]
  },
  {
   "cell_type": "code",
   "execution_count": 7,
   "id": "59677db5",
   "metadata": {
    "pycharm": {
     "name": "#%%\n"
    }
   },
   "outputs": [],
   "source": [
    "pulse_x = {\"pulse_name\": \"Pulse_1\",\n",
    "           \"upper_limit\": 100.0,\n",
    "           \"lower_limit\": -100.0,\n",
    "           \"bins_number\": 100,\n",
    "           \"amplitude_variation\": 30.0,\n",
    "           \"time_name\": \"time_1\"\n",
    "           }"
   ]
  },
  {
   "cell_type": "markdown",
   "id": "22991ede",
   "metadata": {
    "pycharm": {
     "name": "#%% md\n"
    }
   },
   "source": [
    "### The basis\n",
    "The \"basis\" option for GRAPE has to be \"PiecewiseBasis\"."
   ]
  },
  {
   "cell_type": "code",
   "execution_count": 8,
   "id": "ac9a4550",
   "metadata": {
    "pycharm": {
     "name": "#%%\n"
    }
   },
   "outputs": [],
   "source": [
    "pulse_x[\"basis\"] = {\"basis_name\": \"PiecewiseBasis\"}"
   ]
  },
  {
   "cell_type": "markdown",
   "id": "178d5523",
   "metadata": {
    "pycharm": {
     "name": "#%% md\n"
    }
   },
   "source": [
    "#### The times\n",
    "If there are several pulses on differen timescales, you can define different times here and link them to the pulses accordingly. In our case we have the aforementioned \"time_1\" which we set to 1."
   ]
  },
  {
   "cell_type": "code",
   "execution_count": 9,
   "id": "0160107f",
   "metadata": {
    "pycharm": {
     "name": "#%%\n"
    }
   },
   "outputs": [],
   "source": [
    "time1 = {\"time_name\": \"time_1\",\n",
    "         \"initial_value\": 1.0 }"
   ]
  },
  {
   "cell_type": "markdown",
   "id": "ce6e1ff4",
   "metadata": {
    "pycharm": {
     "name": "#%% md\n"
    }
   },
   "source": [
    "Now, let's insert the controls in the optimization_dictionary"
   ]
  },
  {
   "cell_type": "code",
   "execution_count": 10,
   "id": "774af28b",
   "metadata": {
    "pycharm": {
     "name": "#%%\n"
    }
   },
   "outputs": [],
   "source": [
    "optimization_dictionary[\"pulses\"] = [pulse_x]\n",
    "optimization_dictionary[\"parameters\"] = []\n",
    "optimization_dictionary[\"times\"] = [time1]"
   ]
  },
  {
   "cell_type": "markdown",
   "id": "4b404a38",
   "metadata": {
    "pycharm": {
     "name": "#%% md\n"
    }
   },
   "source": [
    "### Create the optimizer and run the optimization\n",
    "All you need to do now is to import the Optimizer from QuOCS and create an optimization object by passing an instance of the FoM object (here IsingModel()) and the optimization_dictionary."
   ]
  },
  {
   "cell_type": "code",
   "execution_count": 11,
   "id": "b6ae47d2",
   "metadata": {
    "pycharm": {
     "name": "#%%\n"
    }
   },
   "outputs": [
    {
     "name": "stdout",
     "output_type": "stream",
     "text": [
      "INFO     oc_logger    The optimization direction is maximization\n",
      "INFO     oc_logger    Random number generator from the numpy library, version 1.21.5\n"
     ]
    }
   ],
   "source": [
    "from quocslib.Optimizer import Optimizer\n",
    "import time\n",
    "\n",
    "optimization_obj = Optimizer(optimization_dictionary, IsingModel())"
   ]
  },
  {
   "cell_type": "markdown",
   "id": "bf5cd35c",
   "metadata": {},
   "source": [
    "To run the optimization, call the .execute() function on the optimization object."
   ]
  },
  {
   "cell_type": "code",
   "execution_count": 12,
   "id": "c3514c85",
   "metadata": {
    "pycharm": {
     "name": "#%%\n"
    }
   },
   "outputs": [
    {
     "name": "stdout",
     "output_type": "stream",
     "text": [
      "INFO     oc_logger    QuOCS version number: 0.0.47\n",
      "INFO     oc_logger    New record achieved. Previous FoM: -10000000000.0, new best FoM : 0.06355104516676974\n",
      "INFO     oc_logger    Function evaluation number: 1, FoM: 0.06355104516676974\n",
      "INFO     oc_logger    New record achieved. Previous FoM: 0.06355104516676974, new best FoM : 0.07466711298244723\n",
      "INFO     oc_logger    Function evaluation number: 2, FoM: 0.07466711298244723\n",
      "INFO     oc_logger    New record achieved. Previous FoM: 0.07466711298244723, new best FoM : 0.148042850237688\n",
      "INFO     oc_logger    Function evaluation number: 3, FoM: 0.148042850237688\n",
      "INFO     oc_logger    New record achieved. Previous FoM: 0.148042850237688, new best FoM : 0.740694294096147\n",
      "INFO     oc_logger    Function evaluation number: 4, FoM: 0.740694294096147\n",
      "INFO     oc_logger    Function evaluation number: 5, FoM: 0.0013251583520040014\n",
      "INFO     oc_logger    Function evaluation number: 6, FoM: 0.7396625359575397\n",
      "INFO     oc_logger    New record achieved. Previous FoM: 0.740694294096147, new best FoM : 0.7451247377031405\n",
      "INFO     oc_logger    Function evaluation number: 7, FoM: 0.7451247377031405\n",
      "INFO     oc_logger    New record achieved. Previous FoM: 0.7451247377031405, new best FoM : 0.8261902867836425\n",
      "INFO     oc_logger    Function evaluation number: 8, FoM: 0.8261902867836425\n",
      "INFO     oc_logger    New record achieved. Previous FoM: 0.8261902867836425, new best FoM : 0.9000521573926152\n",
      "INFO     oc_logger    Function evaluation number: 9, FoM: 0.9000521573926152\n",
      "INFO     oc_logger    New record achieved. Previous FoM: 0.9000521573926152, new best FoM : 0.9108172094921814\n",
      "INFO     oc_logger    Function evaluation number: 10, FoM: 0.9108172094921814\n",
      "INFO     oc_logger    New record achieved. Previous FoM: 0.9108172094921814, new best FoM : 0.9312470870784111\n",
      "INFO     oc_logger    Function evaluation number: 11, FoM: 0.9312470870784111\n",
      "INFO     oc_logger    New record achieved. Previous FoM: 0.9312470870784111, new best FoM : 0.9648596662921011\n",
      "INFO     oc_logger    Function evaluation number: 12, FoM: 0.9648596662921011\n",
      "INFO     oc_logger    New record achieved. Previous FoM: 0.9648596662921011, new best FoM : 0.9829905589697351\n",
      "INFO     oc_logger    Function evaluation number: 13, FoM: 0.9829905589697351\n",
      "INFO     oc_logger    New record achieved. Previous FoM: 0.9829905589697351, new best FoM : 0.9836265702631626\n",
      "INFO     oc_logger    Function evaluation number: 14, FoM: 0.9836265702631626\n",
      "INFO     oc_logger    New record achieved. Previous FoM: 0.9836265702631626, new best FoM : 0.9858373112417818\n",
      "INFO     oc_logger    Function evaluation number: 15, FoM: 0.9858373112417818\n",
      "INFO     oc_logger    New record achieved. Previous FoM: 0.9858373112417818, new best FoM : 0.9871837205005847\n",
      "INFO     oc_logger    Function evaluation number: 16, FoM: 0.9871837205005847\n",
      "INFO     oc_logger    New record achieved. Previous FoM: 0.9871837205005847, new best FoM : 0.989043949207164\n",
      "INFO     oc_logger    Function evaluation number: 17, FoM: 0.989043949207164\n",
      "INFO     oc_logger    New record achieved. Previous FoM: 0.989043949207164, new best FoM : 0.9892963712021764\n",
      "INFO     oc_logger    Function evaluation number: 18, FoM: 0.9892963712021764\n",
      "INFO     oc_logger    New record achieved. Previous FoM: 0.9892963712021764, new best FoM : 0.9902249536908255\n",
      "INFO     oc_logger    Function evaluation number: 19, FoM: 0.9902249536908255\n",
      "INFO     oc_logger    New record achieved. Previous FoM: 0.9902249536908255, new best FoM : 0.9932166105905631\n",
      "INFO     oc_logger    Function evaluation number: 20, FoM: 0.9932166105905631\n",
      "INFO     oc_logger    New record achieved. Previous FoM: 0.9932166105905631, new best FoM : 0.9942109001381874\n",
      "INFO     oc_logger    Function evaluation number: 21, FoM: 0.9942109001381874\n",
      "INFO     oc_logger    New record achieved. Previous FoM: 0.9942109001381874, new best FoM : 0.9944435530713086\n",
      "INFO     oc_logger    Function evaluation number: 22, FoM: 0.9944435530713086\n",
      "INFO     oc_logger    New record achieved. Previous FoM: 0.9944435530713086, new best FoM : 0.9945571121898302\n",
      "INFO     oc_logger    Function evaluation number: 23, FoM: 0.9945571121898302\n",
      "INFO     oc_logger    New record achieved. Previous FoM: 0.9945571121898302, new best FoM : 0.9948526957218934\n",
      "INFO     oc_logger    Function evaluation number: 24, FoM: 0.9948526957218934\n",
      "INFO     oc_logger    New record achieved. Previous FoM: 0.9948526957218934, new best FoM : 0.9950382693782805\n",
      "INFO     oc_logger    Function evaluation number: 25, FoM: 0.9950382693782805\n",
      "INFO     oc_logger    New record achieved. Previous FoM: 0.9950382693782805, new best FoM : 0.9959363384697594\n",
      "INFO     oc_logger    Function evaluation number: 26, FoM: 0.9959363384697594\n",
      "INFO     oc_logger    New record achieved. Previous FoM: 0.9959363384697594, new best FoM : 0.9972801071330674\n",
      "INFO     oc_logger    Function evaluation number: 27, FoM: 0.9972801071330674\n",
      "INFO     oc_logger    New record achieved. Previous FoM: 0.9972801071330674, new best FoM : 0.997443926019709\n",
      "INFO     oc_logger    Function evaluation number: 28, FoM: 0.997443926019709\n",
      "INFO     oc_logger    New record achieved. Previous FoM: 0.997443926019709, new best FoM : 0.9975765767574327\n",
      "INFO     oc_logger    Function evaluation number: 29, FoM: 0.9975765767574327\n",
      "INFO     oc_logger    New record achieved. Previous FoM: 0.9975765767574327, new best FoM : 0.9976552199132294\n",
      "INFO     oc_logger    Function evaluation number: 30, FoM: 0.9976552199132294\n",
      "INFO     oc_logger    New record achieved. Previous FoM: 0.9976552199132294, new best FoM : 0.9976721852189759\n",
      "INFO     oc_logger    Function evaluation number: 31, FoM: 0.9976721852189759\n",
      "INFO     oc_logger    New record achieved. Previous FoM: 0.9976721852189759, new best FoM : 0.9977015081583478\n",
      "INFO     oc_logger    Function evaluation number: 32, FoM: 0.9977015081583478\n",
      "INFO     oc_logger    New record achieved. Previous FoM: 0.9977015081583478, new best FoM : 0.9977226184093619\n",
      "INFO     oc_logger    Function evaluation number: 33, FoM: 0.9977226184093619\n",
      "INFO     oc_logger    Function evaluation number: 34, FoM: 0.9977206845721976\n",
      "INFO     oc_logger    New record achieved. Previous FoM: 0.9977226184093619, new best FoM : 0.9977434814416508\n",
      "INFO     oc_logger    Function evaluation number: 35, FoM: 0.9977434814416508\n",
      "INFO     oc_logger    New record achieved. Previous FoM: 0.9977434814416508, new best FoM : 0.9977848848561123\n",
      "INFO     oc_logger    Function evaluation number: 36, FoM: 0.9977848848561123\n",
      "INFO     oc_logger    New record achieved. Previous FoM: 0.9977848848561123, new best FoM : 0.9979342318221608\n",
      "INFO     oc_logger    Function evaluation number: 37, FoM: 0.9979342318221608\n",
      "INFO     oc_logger    New record achieved. Previous FoM: 0.9979342318221608, new best FoM : 0.9981574114439038\n",
      "INFO     oc_logger    Function evaluation number: 38, FoM: 0.9981574114439038\n",
      "INFO     oc_logger    New record achieved. Previous FoM: 0.9981574114439038, new best FoM : 0.9984139153615287\n",
      "INFO     oc_logger    Function evaluation number: 39, FoM: 0.9984139153615287\n",
      "INFO     oc_logger    New record achieved. Previous FoM: 0.9984139153615287, new best FoM : 0.9987122426987345\n",
      "INFO     oc_logger    Function evaluation number: 40, FoM: 0.9987122426987345\n",
      "INFO     oc_logger    New record achieved. Previous FoM: 0.9987122426987345, new best FoM : 0.9988881413487926\n",
      "INFO     oc_logger    Function evaluation number: 41, FoM: 0.9988881413487926\n",
      "INFO     oc_logger    New record achieved. Previous FoM: 0.9988881413487926, new best FoM : 0.9990113975820117\n",
      "INFO     oc_logger    Function evaluation number: 42, FoM: 0.9990113975820117\n",
      "INFO     oc_logger    New record achieved. Previous FoM: 0.9990113975820117, new best FoM : 0.999058013785083\n",
      "INFO     oc_logger    Function evaluation number: 43, FoM: 0.999058013785083\n",
      "INFO     oc_logger    New record achieved. Previous FoM: 0.999058013785083, new best FoM : 0.9990581198318891\n",
      "INFO     oc_logger    Function evaluation number: 44, FoM: 0.9990581198318891\n",
      "INFO     oc_logger          fun: -0.9990581198318891\n",
      " hess_inv: <100x100 LbfgsInvHessProduct with dtype=float64>\n",
      "      jac: array([-1.07704268e-06, -2.12985089e-06, -2.66932924e-06, -2.23072088e-06,\n",
      "       -1.30578522e-06, -1.60447043e-07,  2.36279529e-06,  4.91140007e-06,\n",
      "        5.87674181e-06,  5.65689950e-06,  6.22477235e-06,  8.50307882e-06,\n",
      "        1.06969456e-05,  1.20251596e-05,  1.25141087e-05,  1.15393325e-05,\n",
      "        1.05397704e-05,  1.07197873e-05,  1.13659759e-05,  1.24028429e-05,\n",
      "        1.46324562e-05,  1.68189059e-05,  1.71892492e-05,  1.77897062e-05,\n",
      "        2.00663497e-05,  2.25293288e-05,  2.39805539e-05,  2.39624170e-05,\n",
      "        2.20314987e-05,  1.81657394e-05,  1.49675925e-05,  1.55653415e-05,\n",
      "        1.92139135e-05,  2.25870341e-05,  2.45190508e-05,  2.48357605e-05,\n",
      "        2.35514275e-05,  2.16895603e-05,  1.92166537e-05,  1.75676539e-05,\n",
      "        1.68442924e-05,  1.58828924e-05,  1.46135428e-05,  1.37959353e-05,\n",
      "        1.38464269e-05,  1.38430982e-05,  1.40612691e-05,  1.45010282e-05,\n",
      "        1.40806334e-05,  1.34214595e-05,  1.36340406e-05,  1.37156560e-05,\n",
      "        1.31177923e-05,  1.25888916e-05,  1.26836412e-05,  1.33154534e-05,\n",
      "        1.35493225e-05,  1.35026558e-05,  1.40157578e-05,  1.49822370e-05,\n",
      "        1.60621706e-05,  1.65004413e-05,  1.64220552e-05,  1.64205301e-05,\n",
      "        1.64053544e-05,  1.69079475e-05,  1.79303349e-05,  1.90269173e-05,\n",
      "        2.02010243e-05,  2.09152133e-05,  2.11332419e-05,  2.09570910e-05,\n",
      "        1.98395229e-05,  1.81062394e-05,  1.63141027e-05,  1.48248614e-05,\n",
      "        1.33626000e-05,  1.16998457e-05,  1.00381802e-05,  8.42800949e-06,\n",
      "        6.93542529e-06,  5.41632963e-06,  3.92991583e-06,  2.51228909e-06,\n",
      "        1.14188584e-06, -2.30360861e-07, -1.56940466e-06, -2.85774232e-06,\n",
      "       -4.10044529e-06, -5.34309060e-06, -6.57855686e-06, -7.74903599e-06,\n",
      "       -8.77455257e-06, -9.84718167e-06, -1.09793310e-05, -1.21120870e-05,\n",
      "       -1.31641808e-05, -1.41704332e-05, -1.52149364e-05, -1.62589510e-05])\n",
      "  message: 'CONVERGENCE: REL_REDUCTION_OF_F_<=_FACTR*EPSMCH'\n",
      "     nfev: 44\n",
      "      nit: 37\n",
      "     njev: 44\n",
      "   status: 0\n",
      "  success: True\n",
      "        x: array([-13.78080414,   0.56186759, -24.75710346,  13.36649807,\n",
      "       -17.96823556, -19.30104482,  19.9611895 ,  24.08757795,\n",
      "         5.37561391, -23.46601668, -18.88952813,  22.0653061 ,\n",
      "         1.21702004,  19.06962193,  15.22244993, -14.17793284,\n",
      "       -12.5118636 ,   2.33230067, -10.9751198 , -18.1669901 ,\n",
      "        19.69266326,  24.2490498 , -29.28818742, -10.97619546,\n",
      "         6.3102356 ,  19.38500999,  15.03805922,  31.90595198,\n",
      "        45.41892639,  46.90515673,  59.87757914,  41.51466154,\n",
      "        45.503461  ,   8.12294915,  33.08067056,   7.23569278,\n",
      "         9.20041564,  11.21862418, -35.92170161,   8.41886966,\n",
      "        -1.61172764,  11.34106147, -25.18647426,  -1.88305284,\n",
      "         2.93076179, -10.67615166,   2.71180365,  24.85679638,\n",
      "       -17.34565746, -13.53132311,  17.23741775,   6.56265596,\n",
      "        -9.64666136, -15.13425426,  -7.34855863,  21.79615134,\n",
      "       -11.88250329, -12.62233283,  -8.76375398,   1.89608657,\n",
      "        24.19074647,  -3.99425967,  -0.67089108,  -0.2282387 ,\n",
      "       -24.62839677,  -1.43557804,  -4.01002198,  -1.57282304,\n",
      "        21.39995543,  -0.93135517,  16.64197792,  27.2726787 ,\n",
      "        11.28606786,  -3.05922523, -20.4691187 ,  20.185563  ,\n",
      "         2.66926901,   4.49213465,  33.14183948, -18.86267935,\n",
      "        -5.71197575, -20.33759577,  27.28117501, -24.99854795,\n",
      "         1.84313351,  -4.75562845,  12.65989869,  -8.45080663,\n",
      "        -4.17941565, -14.6668895 ,  30.30518542,  -0.74019764,\n",
      "       -14.63850892,  -8.46910631, -20.42062362, -11.1028626 ,\n",
      "         3.12425102,  13.80606083,  -5.61195474, -14.04217681])\n"
     ]
    },
    {
     "name": "stdout",
     "output_type": "stream",
     "text": [
      "INFO     oc_logger    Figure of merit : 0.9990581198318891\n",
      "INFO     oc_logger    nfev : 44\n",
      "The optimization took 2.9821887016296387 seconds\n"
     ]
    }
   ],
   "source": [
    "time1 = time.time()\n",
    "optimization_obj.execute()\n",
    "time2 = time.time()\n",
    "print(\"The optimization took {seconds} seconds\".format(seconds=time2 - time1))"
   ]
  },
  {
   "cell_type": "markdown",
   "id": "d43d64a0",
   "metadata": {},
   "source": [
    "#### Results\n",
    "Let us visualize the optimization by looking at the evolution of the FoM over the function evaluations and the final control pulse."
   ]
  },
  {
   "cell_type": "code",
   "execution_count": 13,
   "id": "58de4c2f",
   "metadata": {
    "pycharm": {
     "name": "#%%\n"
    }
   },
   "outputs": [
    {
     "data": {
      "text/plain": [
       "Text(0, 0.5, 'Amplitude')"
      ]
     },
     "execution_count": 13,
     "metadata": {},
     "output_type": "execute_result"
    },
    {
     "data": {
      "image/png": "[encoded data removed]",
      "text/plain": [
       "<Figure size 1100x700 with 1 Axes>"
      ]
     },
     "metadata": {},
     "output_type": "display_data"
    },
    {
     "data": {
      "image/png": "[encoded data removed]",
      "text/plain": [
       "<Figure size 1100x700 with 1 Axes>"
      ]
     },
     "metadata": {},
     "output_type": "display_data"
    }
   ],
   "source": [
    "# Get the optimization algorithm object from the optimization object\n",
    "opt_alg_obj = optimization_obj.get_optimization_algorithm()\n",
    "\n",
    "# The FoM values for each function evaluation can be founf under FoM_list in the optimization algorithm object\n",
    "fomlist = opt_alg_obj.FoM_list\n",
    "\n",
    "# Plot the FoM over the number of evaluations\n",
    "fig = plt.figure(figsize=(11, 7))\n",
    "ax = fig.add_subplot(111)\n",
    "iterations = range(1, len(fomlist)+1)\n",
    "ax.plot(iterations, np.asarray(fomlist), color='darkblue', linewidth=1.5, zorder=10)\n",
    "ax.scatter(iterations, np.asarray(fomlist), color='k', s=15)\n",
    "plt.grid(True, which=\"both\")\n",
    "plt.xlabel('Function Evaluation', fontsize=20)\n",
    "plt.ylabel('FoM', fontsize=20)\n",
    "\n",
    "# The optimized controls can be found via the function get_best_controls() called on \n",
    "# the optimization algorithm object\n",
    "controls = opt_alg_obj.get_best_controls()\n",
    "\n",
    "# it contains the pulses and time grids under certain keys as a dictionary\n",
    "pulse, timegrid = controls[\"pulses\"][0], controls[\"timegrids\"][0]\n",
    "\n",
    "# Plot the pulse over time\n",
    "fig = plt.figure(figsize=(11, 7))\n",
    "ax = fig.add_subplot(111)\n",
    "plt.subplots_adjust(bottom=0.15, top=0.9, right=0.98, left=0.1)\n",
    "plt.step(timegrid, pulse, color='darkgreen', linewidth=1.5, zorder=10)\n",
    "plt.grid(True, which=\"both\")\n",
    "plt.xlabel('Time', fontsize=20)\n",
    "plt.ylabel('Amplitude', fontsize=20)"
   ]
  }
 ],
 "metadata": {
  "kernelspec": {
   "display_name": "Python 3 (ipykernel)",
   "language": "python",
   "name": "python3"
  },
  "language_info": {
   "codemirror_mode": {
    "name": "ipython",
    "version": 3
   },
   "file_extension": ".py",
   "mimetype": "text/x-python",
   "name": "python",
   "nbconvert_exporter": "python",
   "pygments_lexer": "ipython3",
   "version": "3.9.12"
  },
  "toc": {
   "base_numbering": 1,
   "nav_menu": {},
   "number_sections": true,
   "sideBar": true,
   "skip_h1_title": false,
   "title_cell": "Table of Contents",
   "title_sidebar": "Contents",
   "toc_cell": false,
   "toc_position": {},
   "toc_section_display": true,
   "toc_window_display": true
  }
 },
 "nbformat": 4,
 "nbformat_minor": 5
}
