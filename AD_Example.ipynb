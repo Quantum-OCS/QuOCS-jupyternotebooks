{
 "cells": [
  {
   "cell_type": "code",
   "execution_count": 1,
   "id": "b2516e9f",
   "metadata": {
    "pycharm": {
     "name": "#%%\n"
    }
   },
   "outputs": [],
   "source": [
    "# ++++++++++++++++++++++++++++++++++++++++++++++++++++++++++++++++++++++++++++++++++++++++\n",
    "#  Copyright 2021-  QuOCS Team\n",
    "#\n",
    "#  Licensed under the Apache License, Version 2.0 (the \"License\");\n",
    "#  you may not use this file except in compliance with the License.\n",
    "#  You may obtain a copy of the License at\n",
    "#\n",
    "#      http://www.apache.org/licenses/LICENSE-2.0\n",
    "#\n",
    "#  Unless required by applicable law or agreed to in writing, software\n",
    "#  distributed under the License is distributed on an \"AS IS\" BASIS,\n",
    "#  WITHOUT WARRANTIES OR CONDITIONS OF ANY KIND, either express or implied.\n",
    "#  See the License for the specific language governing permissions and\n",
    "#  limitations under the License.\n",
    "# ++++++++++++++++++++++++++++++++++++++++++++++++++++++++++++++++++++++++++++++++++++++++"
   ]
  },
  {
   "cell_type": "code",
   "execution_count": 2,
   "id": "54ea90a8",
   "metadata": {
    "pycharm": {
     "name": "#%%\n"
    }
   },
   "outputs": [],
   "source": [
    "import matplotlib.pyplot as plt\n",
    "import os"
   ]
  },
  {
   "cell_type": "markdown",
   "id": "dc084c47",
   "metadata": {
    "pycharm": {
     "name": "#%% md\n"
    }
   },
   "source": [
    "# Ising model optimization"
   ]
  },
  {
   "cell_type": "markdown",
   "id": "204bf1d0",
   "metadata": {
    "pycharm": {
     "name": "#%% md\n"
    }
   },
   "source": [
    "### The model"
   ]
  },
  {
   "cell_type": "markdown",
   "id": "24685c1e",
   "metadata": {
    "pycharm": {
     "name": "#%% md\n"
    }
   },
   "source": [
    "We take an Ising model Hamiltonian as our example problem, where *J* and *g* describe the nearest and next-nearest neighbor interaction of an Ising spin chain of *n* qubits. A global control field in the x-direction *u(t)* is used for the control of the system."
   ]
  },
  {
   "cell_type": "markdown",
   "id": "e57d72d1",
   "metadata": {
    "pycharm": {
     "name": "#%% md\n"
    }
   },
   "source": [
    "$H(t) = - J \\sum_{j}^{n} \\sigma_j^z \\sigma_{j+1}^z \\; - g \\sum_{j}^{n} \\sigma_j^z \\sigma_{j+2}^z \\; + u(t) \\sum_{j}^{n} \\sigma_j^x \\;$"
   ]
  },
  {
   "cell_type": "markdown",
   "id": "37b36787",
   "metadata": {
    "pycharm": {
     "name": "#%% md\n"
    }
   },
   "source": [
    "## GRAPE Optimization with Automatic Differentiation (AD) using JAX"
   ]
  },
  {
   "cell_type": "markdown",
   "id": "44d9d3ff",
   "metadata": {
    "pycharm": {
     "name": "#%% md\n"
    }
   },
   "source": [
    "### Define the Model\n",
    "\n",
    "The user must write a class that is a child of the AbstractFoM class provided by QuOCS to define the problem to be solved. It must contain at least a function called get_FoM which takes the pulses, parameters and times as lists of numpy arrays (or floats for the parameters) and returns a dictionary with the figure of merit (FoM) under the key \"FoM\". What happens inside the get_FoM function is up to the user. \n",
    "\n",
    "In this code one can define *J* and *g* and the number of qubits, as well as the desired initial and target state after evolution of the Hamiltonian under the control field *u(t)*. In get_FoM the pulses are taken to caluclate the evolution under above Hamiltonian and the propagator is applied to the initial state. The resulting final state is overlapped with the target state to extract to state fidelity. This is passed back as a FoM."
   ]
  },
  {
   "cell_type": "code",
   "execution_count": 3,
   "id": "ba21c733",
   "metadata": {
    "pycharm": {
     "name": "#%%\n"
    }
   },
   "outputs": [],
   "source": [
    "import numpy as np\n",
    "import jax.numpy as jnp\n",
    "from quocslib.utils.AbstractFoM import AbstractFoM\n",
    "from quocslib.timeevolution.piecewise_integrator_AD import pw_final_evolution_AD\n",
    "\n",
    "\n",
    "class IsingModel(AbstractFoM):\n",
    "    \"\"\"\n",
    "    A figure of merit class for optimization of the problem defined via\n",
    "    https://arxiv.org/abs/2110.06187\n",
    "    \"\"\"\n",
    "\n",
    "    def __init__(self, args_dict: dict = None):\n",
    "        if args_dict is None:\n",
    "            args_dict = {}\n",
    "        ################################################################################################################\n",
    "        # Dynamics variables\n",
    "        ################################################################################################################\n",
    "        self.n_qubits = args_dict.setdefault(\"n_qubits\", 5)\n",
    "        self.J = args_dict.setdefault(\"J\", 1)\n",
    "        self.g = args_dict.setdefault(\"g\", 2)\n",
    "        self.n_slices = args_dict.setdefault(\"n_slices\", 100)\n",
    "\n",
    "        self.H_drift = jnp.asarray(get_static_hamiltonian(self.n_qubits, self.J, self.g))\n",
    "        self.H_control = jnp.asarray(get_control_hamiltonian(self.n_qubits))\n",
    "        self.rho_0 = jnp.asarray(get_initial_state(self.n_qubits))\n",
    "        self.rho_target = jnp.asarray(get_target_state(self.n_qubits))\n",
    "        self.rho_final = jnp.asarray(jnp.zeros_like(self.rho_target))\n",
    "\n",
    "    def get_control_Hamiltonians(self):\n",
    "        return self.H_control\n",
    "\n",
    "    def get_drift_Hamiltonian(self):\n",
    "        return self.H_drift\n",
    "\n",
    "    def get_target_state(self):\n",
    "        return self.rho_target\n",
    "\n",
    "    def get_initial_state(self):\n",
    "        return self.rho_0\n",
    "\n",
    "    def get_propagator(self,\n",
    "                       pulses_list: list = jnp.array,\n",
    "                       time_grids_list: list = jnp.array,\n",
    "                       parameters_list: list = jnp.array) -> jnp.array:\n",
    "\n",
    "        drive = pulses_list[0, :].reshape(1, len(pulses_list[0, :]))\n",
    "        n_slices = self.n_slices\n",
    "        time_grid = time_grids_list[0, :]\n",
    "        dt = time_grid[-1] / len(time_grid)\n",
    "\n",
    "        # Compute the time evolution\n",
    "        propagator = pw_final_evolution_AD(drive, self.H_drift, [self.H_control], n_slices, dt,\n",
    "                                           jnp.identity(2 ** self.n_qubits, dtype=np.complex128))\n",
    "\n",
    "        return propagator\n",
    "\n",
    "    def get_FoM(self,\n",
    "                pulses: list = jnp.array,\n",
    "                parameters: list = jnp.array,\n",
    "                timegrids: list = jnp.array) -> dict:\n",
    "        \"\"\"\n",
    "        Function to calculate the figure of merit from the pulses, parameters and timegrids.\n",
    "        :param pulses: jnp.arrays of the pulses to be optimized.\n",
    "        :param timegrids: jnp.arrays of the timegrids connected to the pulses.\n",
    "        :param parameters: jnp.array of the parameters to be optimized.\n",
    "        :return: dict - The figure of merit in a dictionary\n",
    "        \"\"\"\n",
    "        U_final = self.get_propagator(pulses_list=pulses, time_grids_list=timegrids, parameters_list=parameters)\n",
    "        rho_final = U_final @ self.rho_0 @ U_final.T.conj()\n",
    "        fidelity = fidelity_funct(rho_final.T, self.rho_target)\n",
    "        return {\"FoM\": -fidelity}\n",
    "\n",
    "\n",
    "# Define some operators and the initial and target state\n",
    "i2 = np.eye(2)\n",
    "sz = 0.5 * np.array([[1, 0], [0, -1]], dtype=np.complex128)\n",
    "sx = 0.5 * np.array([[0, 1], [1, 0]], dtype=np.complex128)\n",
    "psi0 = np.array([[1, 0], [0, 0]], dtype=np.complex128)\n",
    "psiT = np.array([[0, 0], [0, 1]], dtype=np.complex128)\n",
    "\n",
    "\n",
    "def tensor_together(A):\n",
    "    res = np.kron(A[0], A[1])\n",
    "    if len(A) > 2:\n",
    "        for two in A[2:]:\n",
    "            res = np.kron(res, two)\n",
    "    else:\n",
    "        res = res\n",
    "    return res\n",
    "\n",
    "\n",
    "def get_static_hamiltonian(nqu, J, g):\n",
    "    dim = 2**nqu\n",
    "    H0 = np.zeros((dim, dim), dtype=np.complex128)\n",
    "    for j in range(nqu):\n",
    "        # set up holding array\n",
    "        rest = [i2] * nqu\n",
    "        # set the correct elements to sz\n",
    "        # check, so we can implement a loop around\n",
    "        if j == nqu - 1:\n",
    "            idx1 = j\n",
    "            idx2 = 0\n",
    "        else:\n",
    "            idx1 = j\n",
    "            idx2 = j + 1\n",
    "        rest[idx1] = sz\n",
    "        rest[idx2] = sz\n",
    "        H0 = H0 - J * tensor_together(rest)\n",
    "\n",
    "    for j in range(nqu):\n",
    "        # set up holding array\n",
    "        rest = [i2] * nqu\n",
    "        # set the correct elements to sz\n",
    "        # check, so we can implement a loop around\n",
    "        if j == nqu - 1:\n",
    "            idx1 = j\n",
    "            idx2 = 1\n",
    "        elif j == nqu - 2:\n",
    "            idx1 = j\n",
    "            idx2 = 0\n",
    "        else:\n",
    "            idx1 = j\n",
    "            idx2 = j + 2\n",
    "        rest[idx1] = sz\n",
    "        rest[idx2] = sz\n",
    "        H0 = H0 - g * tensor_together(rest)\n",
    "    return H0\n",
    "\n",
    "\n",
    "def get_control_hamiltonian(nqu: int):\n",
    "    dim = 2**nqu\n",
    "    H_at_t = np.zeros((dim, dim), dtype=np.complex128)\n",
    "    for j in range(nqu):\n",
    "        # set up holding array\n",
    "        rest = [i2] * nqu\n",
    "        # set the correct elements to sx\n",
    "        rest[j] = sx\n",
    "        H_at_t = H_at_t + tensor_together(rest)\n",
    "    return H_at_t\n",
    "\n",
    "\n",
    "def get_initial_state(nqu: int):\n",
    "    state = [psi0] * nqu\n",
    "    return tensor_together(state)\n",
    "\n",
    "\n",
    "def get_target_state(nqu: int):\n",
    "    state = [psiT] * nqu\n",
    "    return tensor_together(state)\n",
    "\n",
    "\n",
    "def fidelity_funct(rho_evolved, rho_aim):\n",
    "    return jnp.abs(jnp.trace(rho_evolved.conj() @ rho_aim))\n"
   ]
  },
  {
   "cell_type": "markdown",
   "id": "c4c2581a",
   "metadata": {
    "pycharm": {
     "name": "#%% md\n"
    }
   },
   "source": [
    "### Define the configuration dictionary\n",
    "This dictionary is passed to the QuOCS optimized in order to tell it what optimization algorithm to use. I also contains further settings for the optimization process.\n",
    "\n",
    "First, we give the optimization a name, which will also appear in the name of the results folder generated."
   ]
  },
  {
   "cell_type": "code",
   "execution_count": 4,
   "id": "6d4fb70b",
   "metadata": {
    "pycharm": {
     "name": "#%%\n"
    }
   },
   "outputs": [],
   "source": [
    "optimization_dictionary = {\"optimization_client_name\": \"IsingModel_AD\"}"
   ]
  },
  {
   "cell_type": "markdown",
   "id": "ea8b5b6c",
   "metadata": {
    "pycharm": {
     "name": "#%% md\n"
    }
   },
   "source": [
    "#### Settings for the optimization algorithm\n",
    "The \"algotithm_settings\" key in gets a dictionary with the name of the algorithm. In this case we use the AD algorithm."
   ]
  },
  {
   "cell_type": "code",
   "execution_count": 5,
   "id": "efa386db",
   "metadata": {
    "pycharm": {
     "name": "#%%\n"
    }
   },
   "outputs": [],
   "source": [
    "optimization_dictionary[\"algorithm_settings\"] = {\"algorithm_name\": \"AD\"}"
   ]
  },
  {
   "cell_type": "markdown",
   "id": "dc75bc7d",
   "metadata": {
    "pycharm": {
     "name": "#%% md\n"
    }
   },
   "source": [
    "Now we define some settings for AD: Since we want to minimize the returned figure of merit, we set the optimization direction to \"minimization\"."
   ]
  },
  {
   "cell_type": "code",
   "execution_count": 6,
   "id": "db042f0b",
   "metadata": {
    "pycharm": {
     "name": "#%%\n"
    }
   },
   "outputs": [],
   "source": [
    "optimization_dictionary[\"algorithm_settings\"][\"optimization_direction\"] = \"minimization\""
   ]
  },
  {
   "cell_type": "markdown",
   "id": "e0f6eb7a",
   "metadata": {
    "pycharm": {
     "name": "#%% md\n"
    }
   },
   "source": [
    "#### The Controls\n",
    "The controls are given by a pulse in x-direction. Let's give it some limits, a discretization (100 bins) and an initial variation of the pulse amplitudes. For GRAPE one has to use the piecewise constant basis, so the variation is the change of each value of the amplitude in each time bin. Typically ~30\\% of the maximal possible amplitude is a useful starting value. We also connect a time object named \"time_1\" (defined later) to the pulse to tell it about the duration of the pulse."
   ]
  },
  {
   "cell_type": "code",
   "execution_count": 7,
   "id": "59677db5",
   "metadata": {
    "pycharm": {
     "name": "#%%\n"
    }
   },
   "outputs": [],
   "source": [
    "pulse_x = {\"pulse_name\": \"Pulse_1\",\n",
    "           \"upper_limit\": 100.0,\n",
    "           \"lower_limit\": -100.0,\n",
    "           \"bins_number\": 100,\n",
    "           \"amplitude_variation\": 30.0,\n",
    "           \"time_name\": \"time_1\"\n",
    "           }"
   ]
  },
  {
   "cell_type": "markdown",
   "id": "22991ede",
   "metadata": {
    "pycharm": {
     "name": "#%% md\n"
    }
   },
   "source": [
    "### The basis\n",
    "The \"basis\" option for GRAPE has to be \"PiecewiseBasis\"."
   ]
  },
  {
   "cell_type": "code",
   "execution_count": 8,
   "id": "ac9a4550",
   "metadata": {
    "pycharm": {
     "name": "#%%\n"
    }
   },
   "outputs": [],
   "source": [
    "pulse_x[\"basis\"] = {\"basis_name\": \"PiecewiseBasis\"}"
   ]
  },
  {
   "cell_type": "markdown",
   "id": "178d5523",
   "metadata": {
    "pycharm": {
     "name": "#%% md\n"
    }
   },
   "source": [
    "#### The times\n",
    "If there are several pulses on differen timescales, you can define different times here and link them to the pulses accordingly. In our case we have the aforementioned \"time_1\" which we set to 1."
   ]
  },
  {
   "cell_type": "code",
   "execution_count": 9,
   "id": "0160107f",
   "metadata": {
    "pycharm": {
     "name": "#%%\n"
    }
   },
   "outputs": [],
   "source": [
    "time1 = {\"time_name\": \"time_1\",\n",
    "         \"initial_value\": 1.0 }"
   ]
  },
  {
   "cell_type": "markdown",
   "id": "ce6e1ff4",
   "metadata": {
    "pycharm": {
     "name": "#%% md\n"
    }
   },
   "source": [
    "Now, let's insert the controls in the optimization_dictionary"
   ]
  },
  {
   "cell_type": "code",
   "execution_count": 10,
   "id": "774af28b",
   "metadata": {
    "pycharm": {
     "name": "#%%\n"
    }
   },
   "outputs": [],
   "source": [
    "optimization_dictionary[\"pulses\"] = [pulse_x]\n",
    "optimization_dictionary[\"parameters\"] = []\n",
    "optimization_dictionary[\"times\"] = [time1]"
   ]
  },
  {
   "cell_type": "markdown",
   "id": "4b404a38",
   "metadata": {
    "pycharm": {
     "name": "#%% md\n"
    }
   },
   "source": [
    "### Create the optimizer and run the optimization\n",
    "All you need to do now is to import the Optimizer from QuOCS and create an optimization object by passing an instance of the FoM object (here IsingModel()) and the optimization_dictionary."
   ]
  },
  {
   "cell_type": "code",
   "execution_count": 11,
   "id": "b6ae47d2",
   "metadata": {
    "pycharm": {
     "name": "#%%\n"
    }
   },
   "outputs": [
    {
     "name": "stderr",
     "output_type": "stream",
     "text": [
      "No GPU/TPU found, falling back to CPU. (Set TF_CPP_MIN_LOG_LEVEL=0 and rerun for more info.)\n"
     ]
    },
    {
     "name": "stdout",
     "output_type": "stream",
     "text": [
      "INFO     oc_logger    The optimization direction is minimization\n",
      "INFO     oc_logger    Random number generator from the numpy library, version 1.21.5\n"
     ]
    }
   ],
   "source": [
    "from quocslib.Optimizer import Optimizer\n",
    "import time\n",
    "\n",
    "optimization_obj = Optimizer(optimization_dictionary, IsingModel())"
   ]
  },
  {
   "cell_type": "markdown",
   "id": "bf5cd35c",
   "metadata": {},
   "source": [
    "To run the optimization, call the .execute() function on the optimization object."
   ]
  },
  {
   "cell_type": "code",
   "execution_count": 12,
   "id": "c3514c85",
   "metadata": {
    "pycharm": {
     "name": "#%%\n"
    }
   },
   "outputs": [
    {
     "name": "stdout",
     "output_type": "stream",
     "text": [
      "INFO     oc_logger    QuOCS version number: 0.0.48\n",
      "INFO     oc_logger    New record achieved. Previous FoM: 10000000000.0, new best FoM : -0.06355104516677046\n",
      "INFO     oc_logger    Function evaluation number: 1, FoM: -0.06355104516677046\n",
      "RUNNING THE L-BFGS-B CODE\n",
      "\n",
      "           * * *\n",
      "\n",
      "Machine precision = 2.220D-16\n",
      " N =          100     M =           10\n",
      "\n",
      "At X0         0 variables are exactly at the bounds\n",
      "\n",
      "At iterate    0    f= -6.35510D-02    |proj g|=  1.43889D-03\n"
     ]
    },
    {
     "name": "stderr",
     "output_type": "stream",
     "text": [
      " This problem is unconstrained.\n"
     ]
    },
    {
     "name": "stdout",
     "output_type": "stream",
     "text": [
      "INFO     oc_logger    New record achieved. Previous FoM: -0.06355104516677046, new best FoM : -0.07466703213208403\n",
      "INFO     oc_logger    Function evaluation number: 2, FoM: -0.07466703213208403\n",
      "INFO     oc_logger    New record achieved. Previous FoM: -0.07466703213208403, new best FoM : -0.14803782099543963\n",
      "INFO     oc_logger    Function evaluation number: 3, FoM: -0.14803782099543963\n",
      "INFO     oc_logger    New record achieved. Previous FoM: -0.14803782099543963, new best FoM : -0.7401161708529063\n",
      "INFO     oc_logger    Function evaluation number: 4, FoM: -0.7401161708529063\n",
      "\n",
      "At iterate    1    f= -7.40116D-01    |proj g|=  5.17037D-03\n",
      "INFO     oc_logger    Function evaluation number: 5, FoM: -0.002715571990459723\n",
      "INFO     oc_logger    Function evaluation number: 6, FoM: -0.7339830382903365\n",
      "INFO     oc_logger    New record achieved. Previous FoM: -0.7401161708529063, new best FoM : -0.744103063605567\n",
      "INFO     oc_logger    Function evaluation number: 7, FoM: -0.744103063605567\n",
      "\n",
      "At iterate    2    f= -7.44103D-01    |proj g|=  5.72146D-03\n",
      "INFO     oc_logger    New record achieved. Previous FoM: -0.744103063605567, new best FoM : -0.8198985233988565\n",
      "INFO     oc_logger    Function evaluation number: 8, FoM: -0.8198985233988565\n",
      "\n",
      "At iterate    3    f= -8.19899D-01    |proj g|=  4.24822D-03\n",
      "INFO     oc_logger    New record achieved. Previous FoM: -0.8198985233988565, new best FoM : -0.8990399541784944\n",
      "INFO     oc_logger    Function evaluation number: 9, FoM: -0.8990399541784944\n",
      "\n",
      "At iterate    4    f= -8.99040D-01    |proj g|=  2.14554D-03\n",
      "INFO     oc_logger    New record achieved. Previous FoM: -0.8990399541784944, new best FoM : -0.9099670434905285\n",
      "INFO     oc_logger    Function evaluation number: 10, FoM: -0.9099670434905285\n",
      "\n",
      "At iterate    5    f= -9.09967D-01    |proj g|=  1.43204D-03\n",
      "INFO     oc_logger    New record achieved. Previous FoM: -0.9099670434905285, new best FoM : -0.928352664310856\n",
      "INFO     oc_logger    Function evaluation number: 11, FoM: -0.928352664310856\n",
      "\n",
      "At iterate    6    f= -9.28353D-01    |proj g|=  1.88632D-03\n",
      "INFO     oc_logger    New record achieved. Previous FoM: -0.928352664310856, new best FoM : -0.9623783254826759\n",
      "INFO     oc_logger    Function evaluation number: 12, FoM: -0.9623783254826759\n",
      "\n",
      "At iterate    7    f= -9.62378D-01    |proj g|=  1.68178D-03\n",
      "INFO     oc_logger    New record achieved. Previous FoM: -0.9623783254826759, new best FoM : -0.9822252233479298\n",
      "INFO     oc_logger    Function evaluation number: 13, FoM: -0.9822252233479298\n",
      "\n",
      "At iterate    8    f= -9.82225D-01    |proj g|=  8.26728D-04\n",
      "INFO     oc_logger    New record achieved. Previous FoM: -0.9822252233479298, new best FoM : -0.98344312172186\n",
      "INFO     oc_logger    Function evaluation number: 14, FoM: -0.98344312172186\n",
      "INFO     oc_logger    New record achieved. Previous FoM: -0.98344312172186, new best FoM : -0.9861193951938121\n",
      "INFO     oc_logger    Function evaluation number: 15, FoM: -0.9861193951938121\n",
      "\n",
      "At iterate    9    f= -9.86119D-01    |proj g|=  5.32123D-04\n",
      "INFO     oc_logger    New record achieved. Previous FoM: -0.9861193951938121, new best FoM : -0.9873818455659674\n",
      "INFO     oc_logger    Function evaluation number: 16, FoM: -0.9873818455659674\n",
      "\n",
      "At iterate   10    f= -9.87382D-01    |proj g|=  3.97338D-04\n",
      "INFO     oc_logger    New record achieved. Previous FoM: -0.9873818455659674, new best FoM : -0.9893327443473101\n",
      "INFO     oc_logger    Function evaluation number: 17, FoM: -0.9893327443473101\n",
      "\n",
      "At iterate   11    f= -9.89333D-01    |proj g|=  1.30195D-04\n",
      "INFO     oc_logger    New record achieved. Previous FoM: -0.9893327443473101, new best FoM : -0.9896571151451246\n",
      "INFO     oc_logger    Function evaluation number: 18, FoM: -0.9896571151451246\n",
      "\n",
      "At iterate   12    f= -9.89657D-01    |proj g|=  9.28337D-05\n",
      "INFO     oc_logger    New record achieved. Previous FoM: -0.9896571151451246, new best FoM : -0.9899069178718946\n",
      "INFO     oc_logger    Function evaluation number: 19, FoM: -0.9899069178718946\n",
      "\n",
      "At iterate   13    f= -9.89907D-01    |proj g|=  9.05111D-05\n",
      "INFO     oc_logger    New record achieved. Previous FoM: -0.9899069178718946, new best FoM : -0.9908694721205478\n",
      "INFO     oc_logger    Function evaluation number: 20, FoM: -0.9908694721205478\n",
      "\n",
      "At iterate   14    f= -9.90869D-01    |proj g|=  1.57309D-04\n",
      "INFO     oc_logger    New record achieved. Previous FoM: -0.9908694721205478, new best FoM : -0.992155260237213\n",
      "INFO     oc_logger    Function evaluation number: 21, FoM: -0.992155260237213\n",
      "\n",
      "At iterate   15    f= -9.92155D-01    |proj g|=  1.98259D-04\n",
      "INFO     oc_logger    New record achieved. Previous FoM: -0.992155260237213, new best FoM : -0.9938985209047888\n",
      "INFO     oc_logger    Function evaluation number: 22, FoM: -0.9938985209047888\n",
      "\n",
      "At iterate   16    f= -9.93899D-01    |proj g|=  2.84323D-04\n",
      "INFO     oc_logger    New record achieved. Previous FoM: -0.9938985209047888, new best FoM : -0.9943520172532178\n",
      "INFO     oc_logger    Function evaluation number: 23, FoM: -0.9943520172532178\n",
      "\n",
      "At iterate   17    f= -9.94352D-01    |proj g|=  3.57945D-04\n",
      "INFO     oc_logger    New record achieved. Previous FoM: -0.9943520172532178, new best FoM : -0.9948446699275422\n",
      "INFO     oc_logger    Function evaluation number: 24, FoM: -0.9948446699275422\n",
      "\n",
      "At iterate   18    f= -9.94845D-01    |proj g|=  1.26964D-04\n",
      "INFO     oc_logger    New record achieved. Previous FoM: -0.9948446699275422, new best FoM : -0.9949042666942602\n",
      "INFO     oc_logger    Function evaluation number: 25, FoM: -0.9949042666942602\n",
      "\n",
      "At iterate   19    f= -9.94904D-01    |proj g|=  6.04346D-05\n",
      "INFO     oc_logger    New record achieved. Previous FoM: -0.9949042666942602, new best FoM : -0.9949425954818675\n",
      "INFO     oc_logger    Function evaluation number: 26, FoM: -0.9949425954818675\n",
      "\n",
      "At iterate   20    f= -9.94943D-01    |proj g|=  3.76519D-05\n",
      "INFO     oc_logger    New record achieved. Previous FoM: -0.9949425954818675, new best FoM : -0.9949865760227508\n",
      "INFO     oc_logger    Function evaluation number: 27, FoM: -0.9949865760227508\n",
      "\n",
      "At iterate   21    f= -9.94987D-01    |proj g|=  7.27676D-05\n",
      "INFO     oc_logger    New record achieved. Previous FoM: -0.9949865760227508, new best FoM : -0.9951190005529558\n",
      "INFO     oc_logger    Function evaluation number: 28, FoM: -0.9951190005529558\n",
      "\n",
      "At iterate   22    f= -9.95119D-01    |proj g|=  1.51234D-04\n",
      "INFO     oc_logger    New record achieved. Previous FoM: -0.9951190005529558, new best FoM : -0.9954491724799989\n",
      "INFO     oc_logger    Function evaluation number: 29, FoM: -0.9954491724799989\n",
      "\n",
      "At iterate   23    f= -9.95449D-01    |proj g|=  2.95098D-04\n",
      "INFO     oc_logger    New record achieved. Previous FoM: -0.9954491724799989, new best FoM : -0.9965428353827456\n",
      "INFO     oc_logger    Function evaluation number: 30, FoM: -0.9965428353827456\n",
      "\n",
      "At iterate   24    f= -9.96543D-01    |proj g|=  5.66828D-04\n",
      "INFO     oc_logger    New record achieved. Previous FoM: -0.9965428353827456, new best FoM : -0.9967154812673794\n",
      "INFO     oc_logger    Function evaluation number: 31, FoM: -0.9967154812673794\n",
      "INFO     oc_logger    New record achieved. Previous FoM: -0.9967154812673794, new best FoM : -0.9969852156857555\n",
      "INFO     oc_logger    Function evaluation number: 32, FoM: -0.9969852156857555\n",
      "\n",
      "At iterate   25    f= -9.96985D-01    |proj g|=  4.84727D-04\n",
      "INFO     oc_logger    New record achieved. Previous FoM: -0.9969852156857555, new best FoM : -0.9976570337295216\n",
      "INFO     oc_logger    Function evaluation number: 33, FoM: -0.9976570337295216\n",
      "\n",
      "At iterate   26    f= -9.97657D-01    |proj g|=  2.11844D-04\n",
      "INFO     oc_logger    New record achieved. Previous FoM: -0.9976570337295216, new best FoM : -0.998278162582424\n",
      "INFO     oc_logger    Function evaluation number: 34, FoM: -0.998278162582424\n",
      "\n",
      "At iterate   27    f= -9.98278D-01    |proj g|=  8.71390D-05\n",
      "INFO     oc_logger    Function evaluation number: 35, FoM: -0.9970670235747938\n",
      "INFO     oc_logger    New record achieved. Previous FoM: -0.998278162582424, new best FoM : -0.9984448467697671\n",
      "INFO     oc_logger    Function evaluation number: 36, FoM: -0.9984448467697671\n",
      "\n",
      "At iterate   28    f= -9.98445D-01    |proj g|=  1.04949D-04\n",
      "INFO     oc_logger    New record achieved. Previous FoM: -0.9984448467697671, new best FoM : -0.9985017617841266\n"
     ]
    },
    {
     "name": "stdout",
     "output_type": "stream",
     "text": [
      "INFO     oc_logger    Function evaluation number: 37, FoM: -0.9985017617841266\n",
      "\n",
      "At iterate   29    f= -9.98502D-01    |proj g|=  6.32753D-05\n",
      "INFO     oc_logger    Function evaluation number: 38, FoM: -0.9979522344231863\n",
      "INFO     oc_logger    New record achieved. Previous FoM: -0.9985017617841266, new best FoM : -0.9985317146343973\n",
      "INFO     oc_logger    Function evaluation number: 39, FoM: -0.9985317146343973\n",
      "\n",
      "At iterate   30    f= -9.98532D-01    |proj g|=  7.76412D-05\n",
      "INFO     oc_logger    New record achieved. Previous FoM: -0.9985317146343973, new best FoM : -0.9985474016724114\n",
      "INFO     oc_logger    Function evaluation number: 40, FoM: -0.9985474016724114\n",
      "\n",
      "At iterate   31    f= -9.98547D-01    |proj g|=  6.69275D-05\n",
      "INFO     oc_logger    New record achieved. Previous FoM: -0.9985474016724114, new best FoM : -0.9985570640519941\n",
      "INFO     oc_logger    Function evaluation number: 41, FoM: -0.9985570640519941\n",
      "\n",
      "At iterate   32    f= -9.98557D-01    |proj g|=  2.75790D-05\n",
      "INFO     oc_logger    New record achieved. Previous FoM: -0.9985570640519941, new best FoM : -0.9985610631998366\n",
      "INFO     oc_logger    Function evaluation number: 42, FoM: -0.9985610631998366\n",
      "\n",
      "At iterate   33    f= -9.98561D-01    |proj g|=  2.23878D-05\n",
      "INFO     oc_logger    New record achieved. Previous FoM: -0.9985610631998366, new best FoM : -0.9985723404239821\n",
      "INFO     oc_logger    Function evaluation number: 43, FoM: -0.9985723404239821\n",
      "\n",
      "At iterate   34    f= -9.98572D-01    |proj g|=  2.75815D-05\n",
      "INFO     oc_logger    New record achieved. Previous FoM: -0.9985723404239821, new best FoM : -0.9985990456804053\n",
      "INFO     oc_logger    Function evaluation number: 44, FoM: -0.9985990456804053\n",
      "\n",
      "At iterate   35    f= -9.98599D-01    |proj g|=  5.41762D-05\n",
      "INFO     oc_logger    New record achieved. Previous FoM: -0.9985990456804053, new best FoM : -0.9986179360896296\n",
      "INFO     oc_logger    Function evaluation number: 45, FoM: -0.9986179360896296\n",
      "\n",
      "At iterate   36    f= -9.98618D-01    |proj g|=  5.65604D-05\n",
      "INFO     oc_logger    Function evaluation number: 46, FoM: -0.9966687038712982\n",
      "INFO     oc_logger    New record achieved. Previous FoM: -0.9986179360896296, new best FoM : -0.9986385563177387\n",
      "INFO     oc_logger    Function evaluation number: 47, FoM: -0.9986385563177387\n",
      "\n",
      "At iterate   37    f= -9.98639D-01    |proj g|=  6.20893D-05\n",
      "INFO     oc_logger    New record achieved. Previous FoM: -0.9986385563177387, new best FoM : -0.9987059866646602\n",
      "INFO     oc_logger    Function evaluation number: 48, FoM: -0.9987059866646602\n",
      "\n",
      "At iterate   38    f= -9.98706D-01    |proj g|=  7.34338D-05\n",
      "INFO     oc_logger    New record achieved. Previous FoM: -0.9987059866646602, new best FoM : -0.9988969037880844\n",
      "INFO     oc_logger    Function evaluation number: 49, FoM: -0.9988969037880844\n",
      "\n",
      "At iterate   39    f= -9.98897D-01    |proj g|=  6.28873D-05\n",
      "INFO     oc_logger    Function evaluation number: 50, FoM: -0.9983134427214829\n",
      "INFO     oc_logger    New record achieved. Previous FoM: -0.9988969037880844, new best FoM : -0.9989297601291779\n",
      "INFO     oc_logger    Function evaluation number: 51, FoM: -0.9989297601291779\n",
      "\n",
      "At iterate   40    f= -9.98930D-01    |proj g|=  1.27201D-04\n",
      "INFO     oc_logger    New record achieved. Previous FoM: -0.9989297601291779, new best FoM : -0.9990007512229097\n",
      "INFO     oc_logger    Function evaluation number: 52, FoM: -0.9990007512229097\n",
      "\n",
      "At iterate   41    f= -9.99001D-01    |proj g|=  5.07394D-05\n",
      "INFO     oc_logger    New record achieved. Previous FoM: -0.9990007512229097, new best FoM : -0.9990164350274969\n",
      "INFO     oc_logger    Function evaluation number: 53, FoM: -0.9990164350274969\n",
      "\n",
      "At iterate   42    f= -9.99016D-01    |proj g|=  2.98216D-05\n",
      "INFO     oc_logger    New record achieved. Previous FoM: -0.9990164350274969, new best FoM : -0.9990181702883638\n",
      "INFO     oc_logger    Function evaluation number: 54, FoM: -0.9990181702883638\n",
      "\n",
      "At iterate   43    f= -9.99018D-01    |proj g|=  1.97565D-05\n",
      "INFO     oc_logger    New record achieved. Previous FoM: -0.9990181702883638, new best FoM : -0.9990190721677382\n",
      "INFO     oc_logger    Function evaluation number: 55, FoM: -0.9990190721677382\n",
      "INFO     oc_logger          fun: array(-0.99901907)\n",
      " hess_inv: <100x100 LbfgsInvHessProduct with dtype=float64>\n",
      "      jac: array([-8.03659327e-06, -5.79056648e-06, -4.37649892e-06, -2.68755357e-06,\n",
      "       -1.88352705e-06, -2.08531614e-07,  2.54531852e-06,  3.89022391e-06,\n",
      "        2.98787926e-06,  1.63136552e-06,  2.39695826e-06,  4.89851022e-06,\n",
      "        6.45336238e-06,  7.21244451e-06,  6.03862637e-06,  3.32569817e-06,\n",
      "        1.30003566e-06,  3.42957619e-07, -3.27141344e-07,  2.49699018e-07,\n",
      "        2.16343092e-06,  2.33570969e-06,  4.21884718e-07,  1.30268435e-07,\n",
      "        8.99084404e-07,  6.89681090e-07, -1.87926598e-06, -6.59379104e-06,\n",
      "       -1.24094208e-05, -1.57469787e-05, -1.40456408e-05, -8.55299415e-06,\n",
      "       -3.13608440e-06,  2.69606695e-07,  2.62952021e-06,  2.90374182e-06,\n",
      "        2.22772498e-06,  7.00300250e-07, -1.14240059e-06, -7.00585142e-07,\n",
      "       -1.37611298e-07,  1.42876104e-07, -4.21375759e-08,  1.23842697e-06,\n",
      "        2.93185247e-06,  4.50709479e-06,  6.48943532e-06,  7.88904030e-06,\n",
      "        7.68056623e-06,  7.95545881e-06,  8.66049860e-06,  8.09377174e-06,\n",
      "        6.61451695e-06,  5.29599374e-06,  4.57571813e-06,  3.80177218e-06,\n",
      "        1.89888841e-06,  1.29967608e-07, -1.05410394e-06, -1.84977763e-06,\n",
      "       -2.95893527e-06, -5.03424365e-06, -7.17526602e-06, -9.20265461e-06,\n",
      "       -1.08849589e-05, -1.14226003e-05, -1.13625435e-05, -1.08098189e-05,\n",
      "       -9.99960589e-06, -9.48614317e-06, -8.82477768e-06, -8.40550977e-06,\n",
      "       -8.49055002e-06, -8.60749474e-06, -8.25246956e-06, -7.33246974e-06,\n",
      "       -6.52036938e-06, -5.73954281e-06, -5.06141649e-06, -4.66898307e-06,\n",
      "       -4.15686318e-06, -3.61422247e-06, -3.13819902e-06, -2.79459969e-06,\n",
      "       -2.57281930e-06, -2.47315701e-06, -2.47811037e-06, -2.52046900e-06,\n",
      "       -2.64691912e-06, -2.86116872e-06, -3.12423430e-06, -3.07795562e-06,\n",
      "       -2.89759811e-06, -2.77535679e-06, -2.70116877e-06, -2.78283206e-06,\n",
      "       -2.88131829e-06, -2.70869524e-06, -2.14007983e-06, -1.50523804e-06])\n",
      "  message: 'CONVERGENCE: REL_REDUCTION_OF_F_<=_FACTR*EPSMCH'\n",
      "     nfev: 55\n",
      "      nit: 44\n",
      "     njev: 55\n",
      "   status: 0\n",
      "  success: True\n",
      "        x: array([  5.94501389,  15.77815345, -14.04594184,  20.07216969,\n",
      "       -14.2212642 , -18.93162172,  19.60394851,  24.83454244,\n",
      "         5.55237329, -25.59033164, -23.16648772,  18.67122455,\n",
      "         0.44416675,  20.04413341,  17.9889249 , -11.87387336,\n",
      "       -12.25180541,   1.67400087, -11.7147284 , -19.45957901,\n",
      "        19.49138367,  27.25148657, -25.49182753,  -9.35646227,\n",
      "         8.16576797,  23.02480659,  20.16175147,  36.86798511,\n",
      "        48.21009292,  45.07094792,  53.0001857 ,  31.43968818,\n",
      "        35.3995189 ,  -0.35750002,  26.65857085,   3.64338269,\n",
      "         7.48119063,  11.40510053, -35.61523115,   7.37123476,\n",
      "        -1.41527672,  12.4066252 , -23.76206563,  -1.6125883 ,\n",
      "         3.75267036,  -9.40021481,   4.05841224,  27.77944174,\n",
      "       -12.73937596,  -9.7067145 ,  21.29758418,  12.28850674,\n",
      "        -3.37389639,  -9.50675677,  -2.73053766,  26.37571551,\n",
      "        -6.74833418,  -8.75290309,  -6.34791628,   3.11782063,\n",
      "        25.06008074,  -3.01082343,  -0.5878597 ,  -0.98695915,\n",
      "       -26.69431343,  -5.52021832,  -9.663483  ,  -8.88454851,\n",
      "        12.70367297, -10.54760121,   6.01252287,  16.31776541,\n",
      "         0.67232269, -12.97529848, -29.66847333,  11.28383551,\n",
      "        -5.74058053,  -3.03793477,  26.55564289, -23.89519709,\n",
      "        -8.57924091, -21.46793466,  27.27644819, -23.88434206,\n",
      "         4.67753544,  -0.99933986,  17.26796594,  -2.93916527,\n",
      "         2.69679679,  -6.705254  ,  38.59217034,   7.28664636,\n",
      "        -5.40818155,   1.83877045,  -9.58865665,  -0.10492316,\n",
      "        13.12806094,  21.86740028,   0.48436147,  -9.13499062])\n",
      "\n",
      "At iterate   44    f= -9.99019D-01    |proj g|=  1.57470D-05\n",
      "\n",
      "           * * *\n",
      "\n",
      "Tit   = total number of iterations\n",
      "Tnf   = total number of function evaluations\n",
      "Tnint = total number of segments explored during Cauchy searches\n",
      "Skip  = number of BFGS updates skipped\n",
      "Nact  = number of active bounds at final generalized Cauchy point\n",
      "Projg = norm of the final projected gradient\n",
      "F     = final function value\n",
      "\n",
      "           * * *\n",
      "\n",
      "   N    Tit     Tnf  Tnint  Skip  Nact     Projg        F\n",
      "  100     44     55      1     0     0   1.575D-05  -9.990D-01\n",
      "  F = -0.99901907216773822     \n",
      "\n",
      "CONVERGENCE: REL_REDUCTION_OF_F_<=_FACTR*EPSMCH             \n"
     ]
    },
    {
     "name": "stdout",
     "output_type": "stream",
     "text": [
      "INFO     oc_logger    Figure of merit : -0.9990190721677382\n",
      "INFO     oc_logger    total number of function evaluations : 55\n",
      "The optimization took 54.640644788742065 seconds\n"
     ]
    }
   ],
   "source": [
    "time1 = time.time()\n",
    "optimization_obj.execute()\n",
    "time2 = time.time()\n",
    "print(\"The optimization took {seconds} seconds\".format(seconds=time2 - time1))"
   ]
  },
  {
   "cell_type": "markdown",
   "id": "d43d64a0",
   "metadata": {},
   "source": [
    "#### Results\n",
    "Let us visualize the optimization by looking at the evolution of the FoM over the function evaluations and the final control pulse."
   ]
  },
  {
   "cell_type": "code",
   "execution_count": 13,
   "id": "58de4c2f",
   "metadata": {
    "pycharm": {
     "name": "#%%\n"
    }
   },
   "outputs": [
    {
     "data": {
      "text/plain": [
       "Text(0, 0.5, 'Amplitude')"
      ]
     },
     "execution_count": 13,
     "metadata": {},
     "output_type": "execute_result"
    },
    {
     "data": {
      "image/png": "[encoded data removed]",
      "text/plain": [
       "<Figure size 1100x700 with 1 Axes>"
      ]
     },
     "metadata": {},
     "output_type": "display_data"
    },
    {
     "data": {
      "image/png": "[encoded data removed]",
      "text/plain": [
       "<Figure size 1100x700 with 1 Axes>"
      ]
     },
     "metadata": {},
     "output_type": "display_data"
    }
   ],
   "source": [
    "# Get the optimization algorithm object from the optimization object\n",
    "opt_alg_obj = optimization_obj.get_optimization_algorithm()\n",
    "\n",
    "# The FoM values for each function evaluation can be founf under FoM_list in the optimization algorithm object\n",
    "fomlist = opt_alg_obj.FoM_list\n",
    "\n",
    "# Plot the FoM over the number of evaluations\n",
    "fig = plt.figure(figsize=(11, 7))\n",
    "ax = fig.add_subplot(111)\n",
    "iterations = range(1, len(fomlist)+1)\n",
    "ax.plot(iterations, np.asarray(fomlist), color='darkblue', linewidth=1.5, zorder=10)\n",
    "ax.scatter(iterations, np.asarray(fomlist), color='k', s=15)\n",
    "plt.grid(True, which=\"both\")\n",
    "plt.xlabel('Function Evaluation', fontsize=20)\n",
    "plt.ylabel('FoM', fontsize=20)\n",
    "\n",
    "# The optimized controls can be found via the function get_best_controls() called on \n",
    "# the optimization algorithm object\n",
    "controls = opt_alg_obj.get_best_controls()\n",
    "\n",
    "# it contains the pulses and time grids under certain keys as a dictionary\n",
    "pulse, timegrid = controls[\"pulses\"][0], controls[\"timegrids\"][0]\n",
    "\n",
    "# Plot the pulse over time\n",
    "fig = plt.figure(figsize=(11, 7))\n",
    "ax = fig.add_subplot(111)\n",
    "plt.subplots_adjust(bottom=0.15, top=0.9, right=0.98, left=0.1)\n",
    "plt.step(timegrid, pulse, color='darkgreen', linewidth=1.5, zorder=10)\n",
    "plt.grid(True, which=\"both\")\n",
    "plt.xlabel('Time', fontsize=20)\n",
    "plt.ylabel('Amplitude', fontsize=20)"
   ]
  }
 ],
 "metadata": {
  "kernelspec": {
   "display_name": "Python 3 (ipykernel)",
   "language": "python",
   "name": "python3"
  },
  "language_info": {
   "codemirror_mode": {
    "name": "ipython",
    "version": 3
   },
   "file_extension": ".py",
   "mimetype": "text/x-python",
   "name": "python",
   "nbconvert_exporter": "python",
   "pygments_lexer": "ipython3",
   "version": "3.9.12"
  },
  "toc": {
   "base_numbering": 1,
   "nav_menu": {},
   "number_sections": true,
   "sideBar": true,
   "skip_h1_title": false,
   "title_cell": "Table of Contents",
   "title_sidebar": "Contents",
   "toc_cell": false,
   "toc_position": {},
   "toc_section_display": true,
   "toc_window_display": true
  }
 },
 "nbformat": 4,
 "nbformat_minor": 5
}
