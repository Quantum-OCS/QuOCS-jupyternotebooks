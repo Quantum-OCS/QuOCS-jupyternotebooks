{
 "cells": [
  {
   "cell_type": "code",
   "execution_count": 1,
   "id": "b2516e9f",
   "metadata": {
    "pycharm": {
     "name": "#%%\n"
    }
   },
   "outputs": [],
   "source": [
    "# ++++++++++++++++++++++++++++++++++++++++++++++++++++++++++++++++++++++++++++++++++++++++\n",
    "#  Copyright 2021-  QuOCS Team\n",
    "#\n",
    "#  Licensed under the Apache License, Version 2.0 (the \"License\");\n",
    "#  you may not use this file except in compliance with the License.\n",
    "#  You may obtain a copy of the License at\n",
    "#\n",
    "#      http://www.apache.org/licenses/LICENSE-2.0\n",
    "#\n",
    "#  Unless required by applicable law or agreed to in writing, software\n",
    "#  distributed under the License is distributed on an \"AS IS\" BASIS,\n",
    "#  WITHOUT WARRANTIES OR CONDITIONS OF ANY KIND, either express or implied.\n",
    "#  See the License for the specific language governing permissions and\n",
    "#  limitations under the License.\n",
    "# ++++++++++++++++++++++++++++++++++++++++++++++++++++++++++++++++++++++++++++++++++++++++"
   ]
  },
  {
   "cell_type": "code",
   "execution_count": 2,
   "id": "54ea90a8",
   "metadata": {
    "pycharm": {
     "name": "#%%\n"
    }
   },
   "outputs": [],
   "source": [
    "import matplotlib.pyplot as plt\n",
    "import os"
   ]
  },
  {
   "cell_type": "markdown",
   "id": "dc084c47",
   "metadata": {
    "pycharm": {
     "name": "#%% md\n"
    }
   },
   "source": [
    "# Ising model optimization"
   ]
  },
  {
   "cell_type": "markdown",
   "id": "204bf1d0",
   "metadata": {
    "pycharm": {
     "name": "#%% md\n"
    }
   },
   "source": [
    "### The model"
   ]
  },
  {
   "cell_type": "markdown",
   "id": "24685c1e",
   "metadata": {
    "pycharm": {
     "name": "#%% md\n"
    }
   },
   "source": [
    "We take an Ising model Hamiltonian as our example problem, where *J* and *g* describe the nearest and next-nearest neighbor interaction of an Ising spin chain of *n* qubits. A global control field in the x-direction *u(t)* is used for the control of the system."
   ]
  },
  {
   "cell_type": "markdown",
   "id": "e57d72d1",
   "metadata": {
    "pycharm": {
     "name": "#%% md\n"
    }
   },
   "source": [
    "$H(t) = - J \\sum_{j}^{n} \\sigma_j^z \\sigma_{j+1}^z \\; - g \\sum_{j}^{n} \\sigma_j^z \\sigma_{j+2}^z \\; + u(t) \\sum_{j}^{n} \\sigma_j^x \\;$"
   ]
  },
  {
   "cell_type": "markdown",
   "id": "37b36787",
   "metadata": {
    "pycharm": {
     "name": "#%% md\n"
    }
   },
   "source": [
    "## GRAPE Optimization with Automatic Differentiation (AD) using JAX"
   ]
  },
  {
   "cell_type": "markdown",
   "id": "44d9d3ff",
   "metadata": {
    "pycharm": {
     "name": "#%% md\n"
    }
   },
   "source": [
    "### Define the Model\n",
    "\n",
    "The user must write a class that is a child of the AbstractFoM class provided by QuOCS to define the problem to be solved. It must contain at least a function called get_FoM which takes the pulses, parameters and times as lists of numpy arrays (or floats for the parameters) and returns a dictionary with the figure of merit (FoM) under the key \"FoM\". What happens inside the get_FoM function is up to the user. \n",
    "\n",
    "In this code one can define *J* and *g* and the number of qubits, as well as the desired initial and target state after evolution of the Hamiltonian under the control field *u(t)*. In get_FoM the pulses are taken to caluclate the evolution under above Hamiltonian and the propagator is applied to the initial state. The resulting final state is overlapped with the target state to extract to state fidelity. This is passed back as a FoM."
   ]
  },
  {
   "cell_type": "code",
   "execution_count": 3,
   "id": "ba21c733",
   "metadata": {
    "pycharm": {
     "name": "#%%\n"
    }
   },
   "outputs": [],
   "source": [
    "import numpy as np\n",
    "import jax.numpy as jnp\n",
    "from quocslib.utils.AbstractFoM import AbstractFoM\n",
    "from quocslib.timeevolution.piecewise_integrator_AD import pw_final_evolution_AD\n",
    "from quocslib.utils.jax_utils import fidelity_funct as fidelity_funct_AD\n",
    "\n",
    "\n",
    "def tensor_together(A):\n",
    "    \"\"\"Takes a list of matrices and multiplies them together with the tensor product\"\"\"\n",
    "    res = np.kron(A[0], A[1])\n",
    "    if len(A) > 2:\n",
    "        for two in A[2:]:\n",
    "            res = np.kron(res, two)\n",
    "    else:\n",
    "        res = res\n",
    "    return res\n",
    "\n",
    "\n",
    "def get_static_hamiltonian(nqu, J, g):\n",
    "    \"\"\"\n",
    "    Get the static Hamiltonian for the Ising model\n",
    "    :param nqu: Number of qubits\n",
    "    :param J: Nearest neighbour coupling\n",
    "    :param g: Next-nearest neighbour coupling\n",
    "    :return: The Hamiltonian\n",
    "    \"\"\"\n",
    "    dim = 2**nqu\n",
    "    H0 = np.zeros((dim, dim), dtype=np.complex128)\n",
    "    i2 = np.eye(2)\n",
    "    sz = np.array([[1, 0], [0, -1]], dtype=\"complex\")\n",
    "    for j in range(nqu):\n",
    "        # set up holding array\n",
    "        rest = [i2] * nqu\n",
    "        # set the correct elements to sz\n",
    "        # check, so we can implement a loop around\n",
    "        if j == nqu - 1:\n",
    "            idx1 = j\n",
    "            idx2 = 0\n",
    "        else:\n",
    "            idx1 = j\n",
    "            idx2 = j + 1\n",
    "        rest[idx1] = sz\n",
    "        rest[idx2] = sz\n",
    "        H0 = H0 - J * tensor_together(rest)\n",
    "\n",
    "    for j in range(nqu):\n",
    "        # set up holding array\n",
    "        rest = [i2] * nqu\n",
    "        # set the correct elements to sz\n",
    "        # check, so we can implement a loop around\n",
    "        if j == nqu - 1:\n",
    "            idx1 = j\n",
    "            idx2 = 1\n",
    "        elif j == nqu - 2:\n",
    "            idx1 = j\n",
    "            idx2 = 0\n",
    "        else:\n",
    "            idx1 = j\n",
    "            idx2 = j + 2\n",
    "        rest[idx1] = sz\n",
    "        rest[idx2] = sz\n",
    "        H0 = H0 - g * tensor_together(rest)\n",
    "    return H0\n",
    "\n",
    "\n",
    "def get_control_hamiltonian(nqu: int):\n",
    "    \"\"\"\"\n",
    "    Get the control Hamiltonian for the Ising model\n",
    "    :param nqu: Number of qubits\n",
    "    :return: The Hamiltonian\n",
    "    \"\"\"\n",
    "    dim = 2**nqu\n",
    "    H_at_t = np.zeros((dim, dim), dtype=np.complex128)\n",
    "    i2 = np.eye(2)\n",
    "    sx = np.array([[0, 1], [1, 0]], dtype=\"complex\")\n",
    "    for j in range(nqu):\n",
    "        # set up holding array\n",
    "        rest = [i2] * nqu\n",
    "        # set the correct elements to sz\n",
    "        # check, so we can implement a loop around\n",
    "        rest[j] = sx\n",
    "        H_at_t = H_at_t + tensor_together(rest)\n",
    "    return H_at_t\n",
    "\n",
    "\n",
    "def get_initial_state(nqu: int):\n",
    "    \"\"\"\n",
    "    Get the initial state for the Ising model\n",
    "    :param nqu:\n",
    "    :return: Initial state density matrix\n",
    "    \"\"\"\n",
    "    rho0 = np.array([[1, 0], [0, 0]], dtype=np.complex128)\n",
    "    state = [rho0] * nqu\n",
    "    return tensor_together(state)\n",
    "\n",
    "\n",
    "def get_target_state(nqu: int):\n",
    "    \"\"\"\n",
    "    Get the target state for the Ising model\n",
    "    :param nqu:\n",
    "    :return: Target state density matrix\n",
    "    \"\"\"\n",
    "    rhoT = np.array([[0, 0], [0, 1]], dtype=np.complex128)\n",
    "    state = [rhoT] * nqu\n",
    "    return tensor_together(state)\n",
    "\n",
    "\n",
    "class IsingModel(AbstractFoM):\n",
    "    \"\"\"\n",
    "    A figure of merit class for optimization of the problem defined by Alastair Marshall via\n",
    "    https://arxiv.org/abs/2110.06187\n",
    "    \"\"\"\n",
    "    def __init__(self, args_dict: dict = None):\n",
    "        if args_dict is None:\n",
    "            args_dict = {}\n",
    "\n",
    "        ################################################################################################################\n",
    "        # Dynamics variables\n",
    "        ################################################################################################################\n",
    "        self.n_qubits = args_dict.setdefault(\"n_qubits\", 5)\n",
    "        self.J = args_dict.setdefault(\"J\", 1)\n",
    "        self.g = args_dict.setdefault(\"g\", 2)\n",
    "        self.n_slices = args_dict.setdefault(\"n_slices\", 100)\n",
    "\n",
    "        self.H_drift = jnp.asarray(get_static_hamiltonian(self.n_qubits, self.J, self.g))\n",
    "        self.H_control = jnp.asarray(get_control_hamiltonian(self.n_qubits))\n",
    "        self.rho_0 = jnp.asarray(get_initial_state(self.n_qubits))\n",
    "        self.rho_target = jnp.asarray(get_target_state(self.n_qubits))\n",
    "        self.rho_final = jnp.asarray(np.zeros_like(self.rho_target))\n",
    "\n",
    "    def get_control_Hamiltonians(self):\n",
    "        return self.H_control\n",
    "\n",
    "    def get_drift_Hamiltonian(self):\n",
    "        return self.H_drift\n",
    "\n",
    "    def get_target_state(self):\n",
    "        return self.rho_target\n",
    "\n",
    "    def get_initial_state(self):\n",
    "        return self.rho_0\n",
    "\n",
    "    def get_propagator(self,\n",
    "                       pulses_list: list = jnp.array,\n",
    "                       time_grids_list: list = jnp.array,\n",
    "                       parameters_list: list = jnp.array) -> np.array:\n",
    "        \"\"\" Compute and return the list of propagators \"\"\"\n",
    "        # jax.debug.print(pulses_list)\n",
    "        # jax.debug.print(\"get_propagator, pulses_list: {}\", pulses_list)\n",
    "        drive = pulses_list[0, :].reshape(1, len(pulses_list[0, :]))\n",
    "        n_slices = self.n_slices\n",
    "        time_grid = time_grids_list[0, :]\n",
    "        dt = time_grid[-1] / len(time_grid)\n",
    "        # Compute the time evolution\n",
    "        return pw_final_evolution_AD(drive, self.H_drift, [self.H_control], n_slices, dt, jnp.identity(2 ** self.n_qubits, dtype=np.complex128))\n",
    "\n",
    "    def get_FoM(self,\n",
    "                pulses: list = jnp.array,\n",
    "                parameters: list = jnp.array,\n",
    "                timegrids: list = jnp.array) -> dict:\n",
    "        \"\"\"\n",
    "        Function to calculate the figure of merit from the pulses, parameters and timegrids.\n",
    "        :param pulses: jnp.arrays of the pulses to be optimized.\n",
    "        :param timegrids: jnp.arrays of the timegrids connected to the pulses.\n",
    "        :param parameters: jnp.array of the parameters to be optimized.\n",
    "        :return: dict - The figure of merit in a dictionary\n",
    "        \"\"\"\n",
    "        U_final = self.get_propagator(pulses_list=pulses, time_grids_list=timegrids, parameters_list=parameters)\n",
    "        rho_final = U_final @ self.rho_0 @ U_final.T.conj()\n",
    "        fidelity = fidelity_funct_AD(rho_final, self.rho_target)\n",
    "        return {\"FoM\": fidelity}"
   ]
  },
  {
   "cell_type": "markdown",
   "id": "c4c2581a",
   "metadata": {
    "pycharm": {
     "name": "#%% md\n"
    }
   },
   "source": [
    "### Define the configuration dictionary\n",
    "This dictionary is passed to the QuOCS optimized in order to tell it what optimization algorithm to use. I also contains further settings for the optimization process.\n",
    "\n",
    "First, we give the optimization a name, which will also appear in the name of the results folder generated."
   ]
  },
  {
   "cell_type": "code",
   "execution_count": 4,
   "id": "6d4fb70b",
   "metadata": {
    "pycharm": {
     "name": "#%%\n"
    }
   },
   "outputs": [],
   "source": [
    "optimization_dictionary = {\"optimization_client_name\": \"IsingModel_AD\"}"
   ]
  },
  {
   "cell_type": "markdown",
   "id": "ea8b5b6c",
   "metadata": {
    "pycharm": {
     "name": "#%% md\n"
    }
   },
   "source": [
    "#### Settings for the optimization algorithm\n",
    "The \"algotithm_settings\" key in gets a dictionary with the name of the algorithm. In this case we use the AD algorithm."
   ]
  },
  {
   "cell_type": "code",
   "execution_count": 5,
   "id": "efa386db",
   "metadata": {
    "pycharm": {
     "name": "#%%\n"
    }
   },
   "outputs": [],
   "source": [
    "optimization_dictionary[\"algorithm_settings\"] = {\"algorithm_name\": \"AD\"}"
   ]
  },
  {
   "cell_type": "markdown",
   "id": "dc75bc7d",
   "metadata": {
    "pycharm": {
     "name": "#%% md\n"
    }
   },
   "source": [
    "Now we define some settings for AD: Since we want to maximize the returned figure of merit (state overlap with the target), we set the optimization direction to \"maximization\"."
   ]
  },
  {
   "cell_type": "code",
   "execution_count": 6,
   "id": "db042f0b",
   "metadata": {
    "pycharm": {
     "name": "#%%\n"
    }
   },
   "outputs": [],
   "source": [
    "optimization_dictionary[\"algorithm_settings\"][\"optimization_direction\"] = \"maximization\""
   ]
  },
  {
   "cell_type": "markdown",
   "id": "e0f6eb7a",
   "metadata": {
    "pycharm": {
     "name": "#%% md\n"
    }
   },
   "source": [
    "#### The Controls\n",
    "The controls are given by a pulse in x-direction. Let's give it some limits, a discretization (100 bins) and an initial variation of the pulse amplitudes. For GRAPE one has to use the piecewise constant basis, so the variation is the change of each value of the amplitude in each time bin. Typically ~30\\% of the maximal possible amplitude is a useful starting value. We also connect a time object named \"time_1\" (defined later) to the pulse to tell it about the duration of the pulse."
   ]
  },
  {
   "cell_type": "code",
   "execution_count": 7,
   "id": "59677db5",
   "metadata": {
    "pycharm": {
     "name": "#%%\n"
    }
   },
   "outputs": [],
   "source": [
    "pulse_x = {\"pulse_name\": \"Pulse_1\",\n",
    "           \"upper_limit\": 100.0,\n",
    "           \"lower_limit\": -100.0,\n",
    "           \"bins_number\": 100,\n",
    "           \"amplitude_variation\": 30.0,\n",
    "           \"time_name\": \"time_1\"\n",
    "           }"
   ]
  },
  {
   "cell_type": "markdown",
   "id": "22991ede",
   "metadata": {
    "pycharm": {
     "name": "#%% md\n"
    }
   },
   "source": [
    "### The basis\n",
    "The \"basis\" option for GRAPE has to be \"PiecewiseBasis\"."
   ]
  },
  {
   "cell_type": "code",
   "execution_count": 8,
   "id": "ac9a4550",
   "metadata": {
    "pycharm": {
     "name": "#%%\n"
    }
   },
   "outputs": [],
   "source": [
    "pulse_x[\"basis\"] = {\"basis_name\": \"PiecewiseBasis\"}"
   ]
  },
  {
   "cell_type": "markdown",
   "id": "178d5523",
   "metadata": {
    "pycharm": {
     "name": "#%% md\n"
    }
   },
   "source": [
    "#### The times\n",
    "If there are several pulses on differen timescales, you can define different times here and link them to the pulses accordingly. In our case we have the aforementioned \"time_1\" which we set to 1."
   ]
  },
  {
   "cell_type": "code",
   "execution_count": 9,
   "id": "0160107f",
   "metadata": {
    "pycharm": {
     "name": "#%%\n"
    }
   },
   "outputs": [],
   "source": [
    "time1 = {\"time_name\": \"time_1\",\n",
    "         \"initial_value\": 1.0 }"
   ]
  },
  {
   "cell_type": "markdown",
   "id": "ce6e1ff4",
   "metadata": {
    "pycharm": {
     "name": "#%% md\n"
    }
   },
   "source": [
    "Now, let's insert the controls in the optimization_dictionary"
   ]
  },
  {
   "cell_type": "code",
   "execution_count": 10,
   "id": "774af28b",
   "metadata": {
    "pycharm": {
     "name": "#%%\n"
    }
   },
   "outputs": [],
   "source": [
    "optimization_dictionary[\"pulses\"] = [pulse_x]\n",
    "optimization_dictionary[\"parameters\"] = []\n",
    "optimization_dictionary[\"times\"] = [time1]"
   ]
  },
  {
   "cell_type": "markdown",
   "id": "4b404a38",
   "metadata": {
    "pycharm": {
     "name": "#%% md\n"
    }
   },
   "source": [
    "### Create the optimizer and run the optimization\n",
    "All you need to do now is to import the Optimizer from QuOCS and create an optimization object by passing an instance of the FoM object (here IsingModel()) and the optimization_dictionary."
   ]
  },
  {
   "cell_type": "code",
   "execution_count": 11,
   "id": "b6ae47d2",
   "metadata": {
    "pycharm": {
     "name": "#%%\n"
    }
   },
   "outputs": [
    {
     "name": "stderr",
     "output_type": "stream",
     "text": [
      "No GPU/TPU found, falling back to CPU. (Set TF_CPP_MIN_LOG_LEVEL=0 and rerun for more info.)\n"
     ]
    },
    {
     "name": "stdout",
     "output_type": "stream",
     "text": [
      "INFO     oc_logger    The optimization direction is maximization\n",
      "INFO     oc_logger    Random number generator from the numpy library, version 1.23.5\n",
      "WARNING  oc_logger    Seed number must be an integer value. Set 8368 as a seed numer for this optimization\n"
     ]
    }
   ],
   "source": [
    "from quocslib.Optimizer import Optimizer\n",
    "import time\n",
    "\n",
    "optimization_obj = Optimizer(optimization_dictionary, IsingModel())"
   ]
  },
  {
   "cell_type": "markdown",
   "id": "bf5cd35c",
   "metadata": {},
   "source": [
    "To run the optimization, call the .execute() function on the optimization object."
   ]
  },
  {
   "cell_type": "code",
   "execution_count": 12,
   "id": "c3514c85",
   "metadata": {
    "pycharm": {
     "name": "#%%\n"
    }
   },
   "outputs": [
    {
     "name": "stdout",
     "output_type": "stream",
     "text": [
      "INFO     oc_logger    QuOCS version number: 0.0.55\n",
      "INFO     oc_logger    New record achieved. Previous FoM: -10000000000, new best FoM : 0.15323367937123622\n",
      "INFO     oc_logger    Function evaluation number: 1, FoM: 0.15323367937123622\n",
      "RUNNING THE L-BFGS-B CODE\n",
      "\n",
      "           * * *\n",
      "\n",
      "Machine precision = 2.220D-16\n",
      " N =          100     M =           10\n",
      "\n",
      "At X0         0 variables are exactly at the bounds\n",
      "\n",
      "At iterate    0    f= -1.53234D-01    |proj g|=  1.65662D-02\n",
      "INFO     oc_logger    New record achieved. Previous FoM: 0.15323367937123622, new best FoM : 0.24704180120118224\n",
      "INFO     oc_logger    Function evaluation number: 2, FoM: 0.24704180120118224\n"
     ]
    },
    {
     "name": "stderr",
     "output_type": "stream",
     "text": [
      " This problem is unconstrained.\n"
     ]
    },
    {
     "name": "stdout",
     "output_type": "stream",
     "text": [
      "INFO     oc_logger    New record achieved. Previous FoM: 0.24704180120118224, new best FoM : 0.4842868154957253\n",
      "INFO     oc_logger    Function evaluation number: 3, FoM: 0.4842868154957253\n",
      "\n",
      "At iterate    1    f= -4.84287D-01    |proj g|=  1.11776D-02\n",
      "INFO     oc_logger    New record achieved. Previous FoM: 0.4842868154957253, new best FoM : 0.5845313987509325\n",
      "INFO     oc_logger    Function evaluation number: 4, FoM: 0.5845313987509325\n",
      "\n",
      "At iterate    2    f= -5.84531D-01    |proj g|=  1.26950D-02\n",
      "INFO     oc_logger    New record achieved. Previous FoM: 0.5845313987509325, new best FoM : 0.6609400999651532\n",
      "INFO     oc_logger    Function evaluation number: 5, FoM: 0.6609400999651532\n",
      "\n",
      "At iterate    3    f= -6.60940D-01    |proj g|=  8.02203D-03\n",
      "INFO     oc_logger    New record achieved. Previous FoM: 0.6609400999651532, new best FoM : 0.690300817135622\n",
      "INFO     oc_logger    Function evaluation number: 6, FoM: 0.690300817135622\n",
      "\n",
      "At iterate    4    f= -6.90301D-01    |proj g|=  7.00373D-03\n",
      "INFO     oc_logger    New record achieved. Previous FoM: 0.690300817135622, new best FoM : 0.7519030168792327\n",
      "INFO     oc_logger    Function evaluation number: 7, FoM: 0.7519030168792327\n",
      "\n",
      "At iterate    5    f= -7.51903D-01    |proj g|=  8.40100D-03\n",
      "INFO     oc_logger    New record achieved. Previous FoM: 0.7519030168792327, new best FoM : 0.8274037503402846\n",
      "INFO     oc_logger    Function evaluation number: 8, FoM: 0.8274037503402846\n",
      "\n",
      "At iterate    6    f= -8.27404D-01    |proj g|=  1.18807D-02\n",
      "INFO     oc_logger    New record achieved. Previous FoM: 0.8274037503402846, new best FoM : 0.8700006241534471\n",
      "INFO     oc_logger    Function evaluation number: 9, FoM: 0.8700006241534471\n",
      "\n",
      "At iterate    7    f= -8.70001D-01    |proj g|=  6.03659D-03\n",
      "INFO     oc_logger    New record achieved. Previous FoM: 0.8700006241534471, new best FoM : 0.8873048002501974\n",
      "INFO     oc_logger    Function evaluation number: 10, FoM: 0.8873048002501974\n",
      "\n",
      "At iterate    8    f= -8.87305D-01    |proj g|=  3.88645D-03\n",
      "INFO     oc_logger    New record achieved. Previous FoM: 0.8873048002501974, new best FoM : 0.891997820668934\n",
      "INFO     oc_logger    Function evaluation number: 11, FoM: 0.891997820668934\n",
      "\n",
      "At iterate    9    f= -8.91998D-01    |proj g|=  3.80527D-03\n",
      "INFO     oc_logger    New record achieved. Previous FoM: 0.891997820668934, new best FoM : 0.9243749952997772\n",
      "INFO     oc_logger    Function evaluation number: 12, FoM: 0.9243749952997772\n",
      "\n",
      "At iterate   10    f= -9.24375D-01    |proj g|=  3.08485D-03\n",
      "INFO     oc_logger    New record achieved. Previous FoM: 0.9243749952997772, new best FoM : 0.943597402551475\n",
      "INFO     oc_logger    Function evaluation number: 13, FoM: 0.943597402551475\n",
      "\n",
      "At iterate   11    f= -9.43597D-01    |proj g|=  2.72782D-03\n",
      "INFO     oc_logger    New record achieved. Previous FoM: 0.943597402551475, new best FoM : 0.9703808429435783\n",
      "INFO     oc_logger    Function evaluation number: 14, FoM: 0.9703808429435783\n",
      "\n",
      "At iterate   12    f= -9.70381D-01    |proj g|=  2.65329D-03\n",
      "INFO     oc_logger    Function evaluation number: 15, FoM: 0.936748232825587\n",
      "INFO     oc_logger    New record achieved. Previous FoM: 0.9703808429435783, new best FoM : 0.9733099210744153\n",
      "INFO     oc_logger    Function evaluation number: 16, FoM: 0.9733099210744153\n",
      "\n",
      "At iterate   13    f= -9.73310D-01    |proj g|=  1.96900D-03\n",
      "INFO     oc_logger    New record achieved. Previous FoM: 0.9733099210744153, new best FoM : 0.9767989845167931\n",
      "INFO     oc_logger    Function evaluation number: 17, FoM: 0.9767989845167931\n",
      "\n",
      "At iterate   14    f= -9.76799D-01    |proj g|=  1.26337D-03\n",
      "INFO     oc_logger    New record achieved. Previous FoM: 0.9767989845167931, new best FoM : 0.9789505789084654\n",
      "INFO     oc_logger    Function evaluation number: 18, FoM: 0.9789505789084654\n",
      "\n",
      "At iterate   15    f= -9.78951D-01    |proj g|=  9.34003D-04\n",
      "INFO     oc_logger    New record achieved. Previous FoM: 0.9789505789084654, new best FoM : 0.981301472980332\n",
      "INFO     oc_logger    Function evaluation number: 19, FoM: 0.981301472980332\n",
      "\n",
      "At iterate   16    f= -9.81301D-01    |proj g|=  9.24625D-04\n",
      "INFO     oc_logger    New record achieved. Previous FoM: 0.981301472980332, new best FoM : 0.9853008559417743\n",
      "INFO     oc_logger    Function evaluation number: 20, FoM: 0.9853008559417743\n",
      "\n",
      "At iterate   17    f= -9.85301D-01    |proj g|=  5.64788D-04\n",
      "INFO     oc_logger    New record achieved. Previous FoM: 0.9853008559417743, new best FoM : 0.9871795244934766\n",
      "INFO     oc_logger    Function evaluation number: 21, FoM: 0.9871795244934766\n",
      "\n",
      "At iterate   18    f= -9.87180D-01    |proj g|=  4.60942D-04\n",
      "INFO     oc_logger    Function evaluation number: 22, FoM: 0.9866295509035385\n",
      "INFO     oc_logger    New record achieved. Previous FoM: 0.9871795244934766, new best FoM : 0.9874092738148491\n",
      "INFO     oc_logger    Function evaluation number: 23, FoM: 0.9874092738148491\n",
      "\n",
      "At iterate   19    f= -9.87409D-01    |proj g|=  5.47021D-04\n",
      "INFO     oc_logger    New record achieved. Previous FoM: 0.9874092738148491, new best FoM : 0.9876026019564783\n",
      "INFO     oc_logger    Function evaluation number: 24, FoM: 0.9876026019564783\n",
      "\n",
      "At iterate   20    f= -9.87603D-01    |proj g|=  2.44564D-04\n",
      "INFO     oc_logger    New record achieved. Previous FoM: 0.9876026019564783, new best FoM : 0.9876373100526668\n",
      "INFO     oc_logger    Function evaluation number: 25, FoM: 0.9876373100526668\n",
      "\n",
      "At iterate   21    f= -9.87637D-01    |proj g|=  1.86916D-04\n",
      "INFO     oc_logger    New record achieved. Previous FoM: 0.9876373100526668, new best FoM : 0.987668322538786\n",
      "INFO     oc_logger    Function evaluation number: 26, FoM: 0.987668322538786\n",
      "\n",
      "At iterate   22    f= -9.87668D-01    |proj g|=  2.14091D-04\n",
      "INFO     oc_logger    New record achieved. Previous FoM: 0.987668322538786, new best FoM : 0.9877968034902767\n",
      "INFO     oc_logger    Function evaluation number: 27, FoM: 0.9877968034902767\n",
      "\n",
      "At iterate   23    f= -9.87797D-01    |proj g|=  2.45215D-04\n",
      "INFO     oc_logger    New record achieved. Previous FoM: 0.9877968034902767, new best FoM : 0.9879003785416914\n",
      "INFO     oc_logger    Function evaluation number: 28, FoM: 0.9879003785416914\n",
      "\n",
      "At iterate   24    f= -9.87900D-01    |proj g|=  2.55306D-04\n",
      "INFO     oc_logger    Function evaluation number: 29, FoM: 0.9876144702019177\n",
      "INFO     oc_logger    New record achieved. Previous FoM: 0.9879003785416914, new best FoM : 0.9879389057981253\n",
      "INFO     oc_logger    Function evaluation number: 30, FoM: 0.9879389057981253\n",
      "\n",
      "At iterate   25    f= -9.87939D-01    |proj g|=  3.12244D-04\n",
      "INFO     oc_logger    New record achieved. Previous FoM: 0.9879389057981253, new best FoM : 0.9880122240105578\n",
      "INFO     oc_logger    Function evaluation number: 31, FoM: 0.9880122240105578\n",
      "\n",
      "At iterate   26    f= -9.88012D-01    |proj g|=  1.94068D-04\n",
      "INFO     oc_logger    New record achieved. Previous FoM: 0.9880122240105578, new best FoM : 0.9880605796269021\n",
      "INFO     oc_logger    Function evaluation number: 32, FoM: 0.9880605796269021\n",
      "\n",
      "At iterate   27    f= -9.88061D-01    |proj g|=  1.72818D-04\n",
      "INFO     oc_logger    New record achieved. Previous FoM: 0.9880605796269021, new best FoM : 0.9881221527471581\n",
      "INFO     oc_logger    Function evaluation number: 33, FoM: 0.9881221527471581\n",
      "\n",
      "At iterate   28    f= -9.88122D-01    |proj g|=  2.95448D-04\n",
      "INFO     oc_logger    New record achieved. Previous FoM: 0.9881221527471581, new best FoM : 0.9882896771338726\n",
      "INFO     oc_logger    Function evaluation number: 34, FoM: 0.9882896771338726\n",
      "\n",
      "At iterate   29    f= -9.88290D-01    |proj g|=  4.57762D-04\n",
      "INFO     oc_logger    New record achieved. Previous FoM: 0.9882896771338726, new best FoM : 0.9888096486333484\n",
      "INFO     oc_logger    Function evaluation number: 35, FoM: 0.9888096486333484\n",
      "\n",
      "At iterate   30    f= -9.88810D-01    |proj g|=  5.30114D-04\n",
      "INFO     oc_logger    Function evaluation number: 36, FoM: 0.9301439956732951\n",
      "INFO     oc_logger    New record achieved. Previous FoM: 0.9888096486333484, new best FoM : 0.9892258182763172\n",
      "INFO     oc_logger    Function evaluation number: 37, FoM: 0.9892258182763172\n",
      "\n",
      "At iterate   31    f= -9.89226D-01    |proj g|=  6.35779D-04\n",
      "INFO     oc_logger    Function evaluation number: 38, FoM: 0.9874374865777444\n",
      "INFO     oc_logger    New record achieved. Previous FoM: 0.9892258182763172, new best FoM : 0.9894153007689475\n"
     ]
    },
    {
     "name": "stdout",
     "output_type": "stream",
     "text": [
      "INFO     oc_logger    Function evaluation number: 39, FoM: 0.9894153007689475\n",
      "\n",
      "At iterate   32    f= -9.89415D-01    |proj g|=  5.66798D-04\n",
      "INFO     oc_logger    New record achieved. Previous FoM: 0.9894153007689475, new best FoM : 0.9898096675290358\n",
      "INFO     oc_logger    Function evaluation number: 40, FoM: 0.9898096675290358\n",
      "\n",
      "At iterate   33    f= -9.89810D-01    |proj g|=  4.33705D-04\n",
      "INFO     oc_logger    New record achieved. Previous FoM: 0.9898096675290358, new best FoM : 0.9900361299759955\n",
      "INFO     oc_logger    Function evaluation number: 41, FoM: 0.9900361299759955\n",
      "\n",
      "At iterate   34    f= -9.90036D-01    |proj g|=  5.01890D-04\n",
      "INFO     oc_logger    New record achieved. Previous FoM: 0.9900361299759955, new best FoM : 0.9901466069752697\n",
      "INFO     oc_logger    Function evaluation number: 42, FoM: 0.9901466069752697\n",
      "\n",
      "At iterate   35    f= -9.90147D-01    |proj g|=  3.56286D-04\n",
      "INFO     oc_logger    New record achieved. Previous FoM: 0.9901466069752697, new best FoM : 0.9902582529745565\n",
      "INFO     oc_logger    Function evaluation number: 43, FoM: 0.9902582529745565\n",
      "\n",
      "At iterate   36    f= -9.90258D-01    |proj g|=  2.56803D-04\n",
      "INFO     oc_logger    New record achieved. Previous FoM: 0.9902582529745565, new best FoM : 0.9905234305385366\n",
      "INFO     oc_logger    Function evaluation number: 44, FoM: 0.9905234305385366\n",
      "\n",
      "At iterate   37    f= -9.90523D-01    |proj g|=  2.59157D-04\n",
      "INFO     oc_logger    Function evaluation number: 45, FoM: 0.9903947509242358\n",
      "INFO     oc_logger    New record achieved. Previous FoM: 0.9905234305385366, new best FoM : 0.9910125299358753\n",
      "INFO     oc_logger    Function evaluation number: 46, FoM: 0.9910125299358753\n",
      "\n",
      "At iterate   38    f= -9.91013D-01    |proj g|=  9.70027D-04\n",
      "INFO     oc_logger    New record achieved. Previous FoM: 0.9910125299358753, new best FoM : 0.9918258282184154\n",
      "INFO     oc_logger    Function evaluation number: 47, FoM: 0.9918258282184154\n",
      "\n",
      "At iterate   39    f= -9.91826D-01    |proj g|=  5.21915D-04\n",
      "INFO     oc_logger    New record achieved. Previous FoM: 0.9918258282184154, new best FoM : 0.9922073215381293\n",
      "INFO     oc_logger    Function evaluation number: 48, FoM: 0.9922073215381293\n",
      "\n",
      "At iterate   40    f= -9.92207D-01    |proj g|=  4.27905D-04\n",
      "INFO     oc_logger    New record achieved. Previous FoM: 0.9922073215381293, new best FoM : 0.9924347888620538\n",
      "INFO     oc_logger    Function evaluation number: 49, FoM: 0.9924347888620538\n",
      "\n",
      "At iterate   41    f= -9.92435D-01    |proj g|=  2.77716D-04\n",
      "INFO     oc_logger    New record achieved. Previous FoM: 0.9924347888620538, new best FoM : 0.9926386697078114\n",
      "INFO     oc_logger    Function evaluation number: 50, FoM: 0.9926386697078114\n",
      "\n",
      "At iterate   42    f= -9.92639D-01    |proj g|=  3.14501D-04\n",
      "INFO     oc_logger    New record achieved. Previous FoM: 0.9926386697078114, new best FoM : 0.9932575370378591\n",
      "INFO     oc_logger    Function evaluation number: 51, FoM: 0.9932575370378591\n",
      "\n",
      "At iterate   43    f= -9.93258D-01    |proj g|=  4.30264D-04\n",
      "INFO     oc_logger    New record achieved. Previous FoM: 0.9932575370378591, new best FoM : 0.9938633711540774\n",
      "INFO     oc_logger    Function evaluation number: 52, FoM: 0.9938633711540774\n",
      "\n",
      "At iterate   44    f= -9.93863D-01    |proj g|=  2.68698D-04\n",
      "INFO     oc_logger    Function evaluation number: 53, FoM: 0.9933493921014945\n",
      "INFO     oc_logger    New record achieved. Previous FoM: 0.9938633711540774, new best FoM : 0.9940148132018772\n",
      "INFO     oc_logger    Function evaluation number: 54, FoM: 0.9940148132018772\n",
      "\n",
      "At iterate   45    f= -9.94015D-01    |proj g|=  5.17825D-04\n",
      "INFO     oc_logger    New record achieved. Previous FoM: 0.9940148132018772, new best FoM : 0.9942809975802759\n",
      "INFO     oc_logger    Function evaluation number: 55, FoM: 0.9942809975802759\n",
      "\n",
      "At iterate   46    f= -9.94281D-01    |proj g|=  6.38504D-04\n",
      "INFO     oc_logger    New record achieved. Previous FoM: 0.9942809975802759, new best FoM : 0.9946287653246215\n",
      "INFO     oc_logger    Function evaluation number: 56, FoM: 0.9946287653246215\n",
      "\n",
      "At iterate   47    f= -9.94629D-01    |proj g|=  5.04627D-04\n",
      "INFO     oc_logger    New record achieved. Previous FoM: 0.9946287653246215, new best FoM : 0.9947568852531758\n",
      "INFO     oc_logger    Function evaluation number: 57, FoM: 0.9947568852531758\n",
      "\n",
      "At iterate   48    f= -9.94757D-01    |proj g|=  6.65125D-04\n",
      "INFO     oc_logger    New record achieved. Previous FoM: 0.9947568852531758, new best FoM : 0.9949388367504671\n",
      "INFO     oc_logger    Function evaluation number: 58, FoM: 0.9949388367504671\n",
      "\n",
      "At iterate   49    f= -9.94939D-01    |proj g|=  2.88581D-04\n",
      "INFO     oc_logger    New record achieved. Previous FoM: 0.9949388367504671, new best FoM : 0.9950485703122335\n",
      "INFO     oc_logger    Function evaluation number: 59, FoM: 0.9950485703122335\n",
      "\n",
      "At iterate   50    f= -9.95049D-01    |proj g|=  3.96247D-04\n",
      "INFO     oc_logger    New record achieved. Previous FoM: 0.9950485703122335, new best FoM : 0.9951832208668994\n",
      "INFO     oc_logger    Function evaluation number: 60, FoM: 0.9951832208668994\n",
      "\n",
      "At iterate   51    f= -9.95183D-01    |proj g|=  3.66505D-04\n",
      "INFO     oc_logger    New record achieved. Previous FoM: 0.9951832208668994, new best FoM : 0.9953132208946134\n",
      "INFO     oc_logger    Function evaluation number: 61, FoM: 0.9953132208946134\n",
      "\n",
      "At iterate   52    f= -9.95313D-01    |proj g|=  2.67270D-04\n",
      "INFO     oc_logger    New record achieved. Previous FoM: 0.9953132208946134, new best FoM : 0.9954174359753556\n",
      "INFO     oc_logger    Function evaluation number: 62, FoM: 0.9954174359753556\n",
      "\n",
      "At iterate   53    f= -9.95417D-01    |proj g|=  4.13465D-04\n",
      "INFO     oc_logger    New record achieved. Previous FoM: 0.9954174359753556, new best FoM : 0.9955609725603256\n",
      "INFO     oc_logger    Function evaluation number: 63, FoM: 0.9955609725603256\n",
      "\n",
      "At iterate   54    f= -9.95561D-01    |proj g|=  1.84265D-04\n",
      "INFO     oc_logger    New record achieved. Previous FoM: 0.9955609725603256, new best FoM : 0.9956508460475112\n",
      "INFO     oc_logger    Function evaluation number: 64, FoM: 0.9956508460475112\n",
      "\n",
      "At iterate   55    f= -9.95651D-01    |proj g|=  1.44154D-04\n",
      "INFO     oc_logger    New record achieved. Previous FoM: 0.9956508460475112, new best FoM : 0.9957029315068029\n",
      "INFO     oc_logger    Function evaluation number: 65, FoM: 0.9957029315068029\n",
      "\n",
      "At iterate   56    f= -9.95703D-01    |proj g|=  1.64945D-04\n",
      "INFO     oc_logger    New record achieved. Previous FoM: 0.9957029315068029, new best FoM : 0.9957442319238992\n",
      "INFO     oc_logger    Function evaluation number: 66, FoM: 0.9957442319238992\n",
      "\n",
      "At iterate   57    f= -9.95744D-01    |proj g|=  1.16243D-04\n",
      "INFO     oc_logger    New record achieved. Previous FoM: 0.9957442319238992, new best FoM : 0.9957792681277984\n",
      "INFO     oc_logger    Function evaluation number: 67, FoM: 0.9957792681277984\n",
      "\n",
      "At iterate   58    f= -9.95779D-01    |proj g|=  1.45678D-04\n",
      "INFO     oc_logger    New record achieved. Previous FoM: 0.9957792681277984, new best FoM : 0.9958602082110983\n",
      "INFO     oc_logger    Function evaluation number: 68, FoM: 0.9958602082110983\n",
      "\n",
      "At iterate   59    f= -9.95860D-01    |proj g|=  1.57861D-04\n",
      "INFO     oc_logger    Function evaluation number: 69, FoM: 0.9957951760995799\n",
      "INFO     oc_logger    New record achieved. Previous FoM: 0.9958602082110983, new best FoM : 0.9959260404796721\n",
      "INFO     oc_logger    Function evaluation number: 70, FoM: 0.9959260404796721\n",
      "\n",
      "At iterate   60    f= -9.95926D-01    |proj g|=  3.86509D-04\n",
      "INFO     oc_logger    New record achieved. Previous FoM: 0.9959260404796721, new best FoM : 0.9960239132149303\n",
      "INFO     oc_logger    Function evaluation number: 71, FoM: 0.9960239132149303\n",
      "\n",
      "At iterate   61    f= -9.96024D-01    |proj g|=  2.78327D-04\n",
      "INFO     oc_logger    New record achieved. Previous FoM: 0.9960239132149303, new best FoM : 0.9961073141599847\n",
      "INFO     oc_logger    Function evaluation number: 72, FoM: 0.9961073141599847\n",
      "\n",
      "At iterate   62    f= -9.96107D-01    |proj g|=  1.47941D-04\n",
      "INFO     oc_logger    New record achieved. Previous FoM: 0.9961073141599847, new best FoM : 0.9961575645169087\n",
      "INFO     oc_logger    Function evaluation number: 73, FoM: 0.9961575645169087\n",
      "\n",
      "At iterate   63    f= -9.96158D-01    |proj g|=  1.80630D-04\n",
      "INFO     oc_logger    New record achieved. Previous FoM: 0.9961575645169087, new best FoM : 0.996303760034831\n"
     ]
    },
    {
     "name": "stdout",
     "output_type": "stream",
     "text": [
      "INFO     oc_logger    Function evaluation number: 74, FoM: 0.996303760034831\n",
      "\n",
      "At iterate   64    f= -9.96304D-01    |proj g|=  3.95708D-04\n",
      "INFO     oc_logger    New record achieved. Previous FoM: 0.996303760034831, new best FoM : 0.9966337333203028\n",
      "INFO     oc_logger    Function evaluation number: 75, FoM: 0.9966337333203028\n",
      "\n",
      "At iterate   65    f= -9.96634D-01    |proj g|=  5.10784D-04\n",
      "INFO     oc_logger    New record achieved. Previous FoM: 0.9966337333203028, new best FoM : 0.9968326766402889\n",
      "INFO     oc_logger    Function evaluation number: 76, FoM: 0.9968326766402889\n",
      "INFO     oc_logger    New record achieved. Previous FoM: 0.9968326766402889, new best FoM : 0.9969828939445953\n",
      "INFO     oc_logger    Function evaluation number: 77, FoM: 0.9969828939445953\n",
      "\n",
      "At iterate   66    f= -9.96983D-01    |proj g|=  7.91870D-04\n",
      "INFO     oc_logger    New record achieved. Previous FoM: 0.9969828939445953, new best FoM : 0.9976415821763027\n",
      "INFO     oc_logger    Function evaluation number: 78, FoM: 0.9976415821763027\n",
      "\n",
      "At iterate   67    f= -9.97642D-01    |proj g|=  1.02235D-03\n",
      "INFO     oc_logger    Function evaluation number: 79, FoM: 0.9972343381384471\n",
      "INFO     oc_logger    New record achieved. Previous FoM: 0.9976415821763027, new best FoM : 0.9980492758454678\n",
      "INFO     oc_logger    Function evaluation number: 80, FoM: 0.9980492758454678\n",
      "\n",
      "At iterate   68    f= -9.98049D-01    |proj g|=  8.47474D-04\n",
      "INFO     oc_logger    New record achieved. Previous FoM: 0.9980492758454678, new best FoM : 0.9985099653500346\n",
      "INFO     oc_logger    Function evaluation number: 81, FoM: 0.9985099653500346\n",
      "\n",
      "At iterate   69    f= -9.98510D-01    |proj g|=  3.07750D-04\n",
      "INFO     oc_logger    New record achieved. Previous FoM: 0.9985099653500346, new best FoM : 0.998592653771869\n",
      "INFO     oc_logger    Function evaluation number: 82, FoM: 0.998592653771869\n",
      "INFO     oc_logger    New record achieved. Previous FoM: 0.998592653771869, new best FoM : 0.9987595669838578\n",
      "INFO     oc_logger    Function evaluation number: 83, FoM: 0.9987595669838578\n",
      "\n",
      "At iterate   70    f= -9.98760D-01    |proj g|=  3.99124D-04\n",
      "INFO     oc_logger    New record achieved. Previous FoM: 0.9987595669838578, new best FoM : 0.9987911489870249\n",
      "INFO     oc_logger    Function evaluation number: 84, FoM: 0.9987911489870249\n",
      "\n",
      "At iterate   71    f= -9.98791D-01    |proj g|=  4.73714D-04\n",
      "INFO     oc_logger    New record achieved. Previous FoM: 0.9987911489870249, new best FoM : 0.9989330613900018\n",
      "INFO     oc_logger    Function evaluation number: 85, FoM: 0.9989330613900018\n",
      "\n",
      "At iterate   72    f= -9.98933D-01    |proj g|=  1.98463D-04\n",
      "INFO     oc_logger    New record achieved. Previous FoM: 0.9989330613900018, new best FoM : 0.9989949750525375\n",
      "INFO     oc_logger    Function evaluation number: 86, FoM: 0.9989949750525375\n",
      "\n",
      "At iterate   73    f= -9.98995D-01    |proj g|=  2.48322D-04\n",
      "INFO     oc_logger    New record achieved. Previous FoM: 0.9989949750525375, new best FoM : 0.999024334804103\n",
      "INFO     oc_logger    Function evaluation number: 87, FoM: 0.999024334804103\n",
      "\n",
      "At iterate   74    f= -9.99024D-01    |proj g|=  9.90115D-05\n",
      "INFO     oc_logger    New record achieved. Previous FoM: 0.999024334804103, new best FoM : 0.9990374044511653\n",
      "INFO     oc_logger    Function evaluation number: 88, FoM: 0.9990374044511653\n",
      "\n",
      "At iterate   75    f= -9.99037D-01    |proj g|=  1.07763D-04\n",
      "INFO     oc_logger    New record achieved. Previous FoM: 0.9990374044511653, new best FoM : 0.9990572383222774\n",
      "INFO     oc_logger    Function evaluation number: 89, FoM: 0.9990572383222774\n",
      "\n",
      "At iterate   76    f= -9.99057D-01    |proj g|=  1.47414D-04\n",
      "INFO     oc_logger    New record achieved. Previous FoM: 0.9990572383222774, new best FoM : 0.9990959419462067\n",
      "INFO     oc_logger    Function evaluation number: 90, FoM: 0.9990959419462067\n",
      "\n",
      "At iterate   77    f= -9.99096D-01    |proj g|=  1.14863D-04\n",
      "INFO     oc_logger    New record achieved. Previous FoM: 0.9990959419462067, new best FoM : 0.9990977439167157\n",
      "INFO     oc_logger    Function evaluation number: 91, FoM: 0.9990977439167157\n",
      "INFO     oc_logger    New record achieved. Previous FoM: 0.9990977439167157, new best FoM : 0.9991272425477683\n",
      "INFO     oc_logger    Function evaluation number: 92, FoM: 0.9991272425477683\n",
      "\n",
      "At iterate   78    f= -9.99127D-01    |proj g|=  1.59612D-04\n",
      "INFO     oc_logger    New record achieved. Previous FoM: 0.9991272425477683, new best FoM : 0.9991769951177019\n",
      "INFO     oc_logger    Function evaluation number: 93, FoM: 0.9991769951177019\n",
      "\n",
      "At iterate   79    f= -9.99177D-01    |proj g|=  1.16377D-04\n",
      "INFO     oc_logger    Function evaluation number: 94, FoM: 0.9991149601794544\n",
      "INFO     oc_logger    New record achieved. Previous FoM: 0.9991769951177019, new best FoM : 0.9991864061540641\n",
      "INFO     oc_logger    Function evaluation number: 95, FoM: 0.9991864061540641\n",
      "\n",
      "At iterate   80    f= -9.99186D-01    |proj g|=  8.91694D-05\n",
      "INFO     oc_logger    New record achieved. Previous FoM: 0.9991864061540641, new best FoM : 0.9992067682584351\n",
      "INFO     oc_logger    Function evaluation number: 96, FoM: 0.9992067682584351\n",
      "\n",
      "At iterate   81    f= -9.99207D-01    |proj g|=  4.56250D-05\n",
      "INFO     oc_logger    New record achieved. Previous FoM: 0.9992067682584351, new best FoM : 0.9992109686286849\n",
      "INFO     oc_logger    Function evaluation number: 97, FoM: 0.9992109686286849\n",
      "\n",
      "At iterate   82    f= -9.99211D-01    |proj g|=  3.27193D-05\n",
      "INFO     oc_logger    Function evaluation number: 98, FoM: 0.9992078165386384\n",
      "INFO     oc_logger    New record achieved. Previous FoM: 0.9992109686286849, new best FoM : 0.9992113885401326\n",
      "INFO     oc_logger    Function evaluation number: 99, FoM: 0.9992113885401326\n",
      "\n",
      "INFO     oc_logger      message: CONVERGENCE: REL_REDUCTION_OF_F_<=_FACTR*EPSMCH\n",
      "  success: True\n",
      "   status: 0\n",
      "      fun: -0.9992113885401326\n",
      "        x: [ 7.251e-01  2.443e+01 ... -9.489e+00  4.338e+01]\n",
      "      nit: 83\n",
      "      jac: [ 8.640e-06  7.703e-06 ...  1.090e-05  1.284e-05]\n",
      "     nfev: 99\n",
      "     njev: 99\n",
      " hess_inv: <100x100 LbfgsInvHessProduct with dtype=float64>\n",
      "At iterate   83    f= -9.99211D-01    |proj g|=  2.51372D-05\n",
      "\n",
      "           * * *\n",
      "\n",
      "Tit   = total number of iterations\n",
      "Tnf   = total number of function evaluations\n",
      "Tnint = total number of segments explored during Cauchy searches\n",
      "Skip  = number of BFGS updates skipped\n",
      "Nact  = number of active bounds at final generalized Cauchy point\n",
      "Projg = norm of the final projected gradient\n",
      "F     = final function value\n",
      "\n",
      "           * * *\n",
      "\n",
      "   N    Tit     Tnf  Tnint  Skip  Nact     Projg        F\n",
      "  100     83     99      1     0     0   2.514D-05  -9.992D-01\n",
      "  F = -0.99921138854013258     \n",
      "\n",
      "CONVERGENCE: REL_REDUCTION_OF_F_<=_FACTR*EPSMCH             \n",
      "INFO     oc_logger    Figure of merit : 0.9992113885401326\n",
      "INFO     oc_logger    total number of function evaluations : 99\n",
      "The optimization took 111.86262392997742 seconds\n"
     ]
    }
   ],
   "source": [
    "time1 = time.time()\n",
    "optimization_obj.execute()\n",
    "time2 = time.time()\n",
    "print(\"The optimization took {seconds} seconds\".format(seconds=time2 - time1))"
   ]
  },
  {
   "cell_type": "markdown",
   "id": "d43d64a0",
   "metadata": {},
   "source": [
    "#### Results\n",
    "Let us visualize the optimization by looking at the evolution of the FoM over the function evaluations and the final control pulse."
   ]
  },
  {
   "cell_type": "code",
   "execution_count": 13,
   "id": "58de4c2f",
   "metadata": {
    "pycharm": {
     "name": "#%%\n"
    }
   },
   "outputs": [
    {
     "data": {
      "text/plain": [
       "Text(0, 0.5, 'Amplitude')"
      ]
     },
     "execution_count": 13,
     "metadata": {},
     "output_type": "execute_result"
    },
    {
     "data": {
      "image/png": "[encoded data removed]",
      "text/plain": [
       "<Figure size 1100x700 with 1 Axes>"
      ]
     },
     "metadata": {},
     "output_type": "display_data"
    },
    {
     "data": {
      "image/png": "[encoded data removed]",
      "text/plain": [
       "<Figure size 1100x700 with 1 Axes>"
      ]
     },
     "metadata": {},
     "output_type": "display_data"
    }
   ],
   "source": [
    "# Get the optimization algorithm object from the optimization object\n",
    "opt_alg_obj = optimization_obj.get_optimization_algorithm()\n",
    "\n",
    "# The FoM values for each function evaluation can be founf under FoM_list in the optimization algorithm object\n",
    "fomlist = opt_alg_obj.FoM_list\n",
    "\n",
    "# Plot the FoM over the number of evaluations\n",
    "fig = plt.figure(figsize=(11, 7))\n",
    "ax = fig.add_subplot(111)\n",
    "iterations = range(1, len(fomlist)+1)\n",
    "ax.plot(iterations, np.asarray(fomlist), color='darkblue', linewidth=1.5, zorder=10)\n",
    "ax.scatter(iterations, np.asarray(fomlist), color='k', s=15)\n",
    "plt.grid(True, which=\"both\")\n",
    "plt.xlabel('Function Evaluation', fontsize=20)\n",
    "plt.ylabel('FoM', fontsize=20)\n",
    "\n",
    "# The optimized controls can be found via the function get_best_controls() called on \n",
    "# the optimization algorithm object\n",
    "controls = opt_alg_obj.get_best_controls()\n",
    "\n",
    "# it contains the pulses and time grids under certain keys as a dictionary\n",
    "pulse, timegrid = controls[\"pulses\"][0], controls[\"timegrids\"][0]\n",
    "\n",
    "# Plot the pulse over time\n",
    "fig = plt.figure(figsize=(11, 7))\n",
    "ax = fig.add_subplot(111)\n",
    "plt.subplots_adjust(bottom=0.15, top=0.9, right=0.98, left=0.1)\n",
    "plt.step(timegrid, pulse, color='darkgreen', linewidth=1.5, zorder=10)\n",
    "plt.grid(True, which=\"both\")\n",
    "plt.xlabel('Time', fontsize=20)\n",
    "plt.ylabel('Amplitude', fontsize=20)"
   ]
  },
  {
   "cell_type": "code",
   "execution_count": null,
   "id": "309abbeb",
   "metadata": {},
   "outputs": [],
   "source": []
  }
 ],
 "metadata": {
  "kernelspec": {
   "display_name": "Python 3 (ipykernel)",
   "language": "python",
   "name": "python3"
  },
  "language_info": {
   "codemirror_mode": {
    "name": "ipython",
    "version": 3
   },
   "file_extension": ".py",
   "mimetype": "text/x-python",
   "name": "python",
   "nbconvert_exporter": "python",
   "pygments_lexer": "ipython3",
   "version": "3.9.16"
  },
  "toc": {
   "base_numbering": 1,
   "nav_menu": {},
   "number_sections": true,
   "sideBar": true,
   "skip_h1_title": false,
   "title_cell": "Table of Contents",
   "title_sidebar": "Contents",
   "toc_cell": false,
   "toc_position": {},
   "toc_section_display": true,
   "toc_window_display": true
  }
 },
 "nbformat": 4,
 "nbformat_minor": 5
}
